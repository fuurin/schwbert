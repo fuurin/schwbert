{
 "cells": [
  {
   "cell_type": "markdown",
   "metadata": {},
   "source": [
    "# SchW-BERT-GAN ファインチューニング\n",
    "Theorytabデータセットを使用\n",
    "- 事前学習済みのモデルを使用したSchW-BERT-GAN用のモジュールの定義\n",
    "    - body選択\n",
    "    - SchwBertGenerator\n",
    "    - SchwBertDiscriminator\n",
    "- SchW-BERT-GANのファインチューニングの実施\n",
    "    - ファインチューニング用関数を作成\n",
    "    - 事前学習済みのものと比較\n",
    "- SchW-BERT-GANによる音楽自動生成\n",
    "    - コードをデータセットからランダムに選んできて生成\n",
    "\n",
    "WGAN-gpの実装は[caogang/wgan-gp](https://github.com/caogang/wgan-gp/blob/master/gan_mnist.py)が参考になる"
   ]
  },
  {
   "cell_type": "code",
   "execution_count": 1,
   "metadata": {},
   "outputs": [
    {
     "name": "stdout",
     "output_type": "stream",
     "text": [
      "current dir: /root/schwbert\n"
     ]
    }
   ],
   "source": [
    "import os, glob, copy, time, math, json, random\n",
    "import datetime\n",
    "import hickle as hkl\n",
    "import numpy as np\n",
    "import torch\n",
    "import torch.nn as nn\n",
    "import torch.optim as optim\n",
    "from torch.nn.modules.normalization import LayerNorm\n",
    "from torch.utils.data import random_split\n",
    "from pypianoroll import Track, Multitrack\n",
    "from attrdict import AttrDict\n",
    "from IPython.display import clear_output\n",
    "import matplotlib.pyplot as plt\n",
    "%matplotlib inline\n",
    "\n",
    "# カレントディレクトリをリポジトリ直下にして自家製モジュールをimport\n",
    "while os.getcwd().split('/')[-1] != 'schwbert': os.chdir('..')\n",
    "print('current dir:', os.getcwd())\n",
    "from utils import Timer, count_params, grid_plot\n",
    "from bundle import Bundle\n",
    "from dataloader import TheorytabDataset, TheorytabDataLoader\n",
    "from model import MusicEmbeddings, MelodyEmbeddings, ChordEmbeddings\n",
    "from model import ConditionalBertBody, gelu\n",
    "from model import MultiGPUWrapper\n",
    "from save_and_load import save_model, load_model\n",
    "from save_and_load import save_body, load_body\n",
    "from save_and_load import save_config, load_config"
   ]
  },
  {
   "cell_type": "code",
   "execution_count": 2,
   "metadata": {},
   "outputs": [],
   "source": [
    "base_dir = \"../datasets\"\n",
    "schwbert_dir = os.path.join(base_dir, \"schwbert\")\n",
    "\n",
    "input_dir = os.path.join(schwbert_dir, \"data\", \"theorytab\")\n",
    "input_path = os.path.join(input_dir, \"original.hkl\")\n",
    "\n",
    "output_base_dir = os.path.join(schwbert_dir, \"models\")\n",
    "output_dir = os.path.join(output_base_dir, \"theorytab\")\n",
    "\n",
    "for directory in [schwbert_dir, output_base_dir, output_dir]:\n",
    "    if not os.path.exists(directory):\n",
    "        os.mkdir(directory)"
   ]
  },
  {
   "cell_type": "markdown",
   "metadata": {},
   "source": [
    "### Configのロード"
   ]
  },
  {
   "cell_type": "code",
   "execution_count": 3,
   "metadata": {},
   "outputs": [],
   "source": [
    "def select_config(directory, postfix=\".json\"):\n",
    "    config_paths = glob.glob(os.path.join(directory, f\"*{postfix}\"))\n",
    "    config_paths.sort()\n",
    "    if len(config_paths) > 1:\n",
    "        print(f\"{len(config_paths)} models found in {directory}\")\n",
    "        for i, path in enumerate(config_paths):\n",
    "            print(f\"{i}: {path.split('/')[-1]}\")\n",
    "        config_path = config_paths[int(input(\"input the number of config:\"))]\n",
    "    else:\n",
    "        config_path = config_paths[0]\n",
    "    \n",
    "    config_name = config_path.split('/')[-1]\n",
    "    print(f\"config is loaded from {config_name}\")\n",
    "    config = load_config(config_name, directory)\n",
    "    return AttrDict(config)"
   ]
  },
  {
   "cell_type": "code",
   "execution_count": 5,
   "metadata": {},
   "outputs": [
    {
     "name": "stdout",
     "output_type": "stream",
     "text": [
      "3 models found in ../datasets/schwbert/models/theorytab\n",
      "0: albert:config@2019-11-12_07:08.json\n",
      "1: original:config@2019-11-09_23:32.json\n",
      "2: original_large:config@2019-11-10_19:00.json\n"
     ]
    },
    {
     "name": "stdin",
     "output_type": "stream",
     "text": [
      "input the number of config: 0\n"
     ]
    },
    {
     "name": "stdout",
     "output_type": "stream",
     "text": [
      "config is loaded from albert:config@2019-11-12_07:08.json\n",
      "AttrDict({'nickname': 'albert', 'step_num': 768, 'beat_resolution': 12, 'beats_in_bar': 4, 'bar_num': 16, 'melody_pitch_range': [0, 64], 'melody_rest_id': 64, 'melody_mask_id': 65, 'melody_pad_id': 66, 'melody_vocab_size': 67, 'chord_pad_id': 4096, 'chord_vocab_size': 4097, 'fact_size': 12, 'hidden_size': 100, 'intermediate_size': 400, 'attention_layer_num': 16, 'attention_head_num': 10, 'share_all_bert_params': True, 'dropout_prob': 0.1, 'adam_lr': 1e-05, 'adam_beta1': 0.9, 'adam_beta2': 0.999, 'pre_mnp_aug': 3, 'pre_mnp_rate': 0.15, 'pre_mnp_mask_rate': 0.8, 'pre_mnp_random_rate': 0.1, 'pre_mnp_keep_rate': 0.1, 'state_names': {'input_embeddings': 'albert:MelodyEmbeddings:E=010H=100I=400A=16AH=10.pth', 'condition_embeddings': 'albert:ChordEmbeddings:E=010H=100I=400A=16AH=10.pth', 'conditional_bert_stack': 'albert:ConditionalBertStack:E=010H=100I=400A=16AH=10.pth', 'masked_note_prediction': 'albert:MaskedNotePrediction:E=010H=100I=400A=16AH=10MNP:A=3T=0.15M=0.8R=0.1K=0.1.pth'}, 'noise_size': 24, 'gp_lambda': 10})\n"
     ]
    }
   ],
   "source": [
    "config = select_config(output_dir)\n",
    "config.noise_size = 24\n",
    "config.gp_lambda = 10\n",
    "print(config)"
   ]
  },
  {
   "cell_type": "markdown",
   "metadata": {},
   "source": [
    "### データのロード"
   ]
  },
  {
   "cell_type": "code",
   "execution_count": 6,
   "metadata": {},
   "outputs": [
    {
     "name": "stdout",
     "output_type": "stream",
     "text": [
      "310.597693\n",
      "all bundle size: 17396\n"
     ]
    }
   ],
   "source": [
    "with Timer():\n",
    "     bundle_list = hkl.load(input_path)\n",
    "dataset = TheorytabDataset(bundle_list)\n",
    "dataloader = TheorytabDataLoader(dataset, batch_size=2, shuffle=True)\n",
    "print(\"all bundle size:\", len(bundle_list))"
   ]
  },
  {
   "cell_type": "markdown",
   "metadata": {},
   "source": [
    "# SchW-BERT-GAN用のモジュールの定義\n",
    "- SchwBertGenerator*\n",
    "    - ConditionalBertBody\n",
    "        - NoiseEmbeddings*: ノイズベクトルシーケンス→Dense\n",
    "        - ChordEmbeddings\n",
    "    - Denseをかけ，メロディを出力\n",
    "- SchwBertDiscriminator*\n",
    "    - ConditionalBertBody\n",
    "        - VecSecEmbeddings*: ベクトルシーケンス→Dense，idsではない\n",
    "        - ChordEmbeddings\n",
    "    - Denseを縦横にかけ，本物と偽物を区別するよう2値分類\n",
    "\n",
    "✳︎ついてるやつが新規作成モジュール"
   ]
  },
  {
   "cell_type": "markdown",
   "metadata": {},
   "source": [
    "## 各種Embeddingsの実装\n",
    "偽物のmax通したやつは誤差が伝搬しないのでベクトルシーケンスを入力に取りたい  \n",
    "本物データにはOneHotになってもらう"
   ]
  },
  {
   "cell_type": "code",
   "execution_count": 7,
   "metadata": {},
   "outputs": [],
   "source": [
    "class VecSeqEmbeddings(MusicEmbeddings):\n",
    "    def __init__(self, config, vec_size):\n",
    "        super(VecSeqEmbeddings, self).__init__(config)\n",
    "        self.vec_size = vec_size\n",
    "        self.input_emb = nn.Linear(vec_size, config.hidden_size, bias=False)\n",
    "    \n",
    "    def forward(self, input_vec_seq):\n",
    "        if input_vec_seq.dim() < 3:\n",
    "            input_vec_seq = self.to_one_hot(input_vec_seq, self.vec_size)\n",
    "        input_emb = self.input_emb(input_vec_seq)\n",
    "        embeddings = self.add_fixed_embeddings(input_emb)\n",
    "        embeddings = self.post_layers(embeddings)\n",
    "        return embeddings\n",
    "    \n",
    "    def to_one_hot(self, input_ids, vec_size):\n",
    "        device = input_ids.device\n",
    "        one_hot = torch.eye(vec_size)[input_ids].to(torch.float)\n",
    "        return one_hot.to(device)\n",
    "\n",
    "class NoiseEmbeddings(VecSeqEmbeddings):\n",
    "    def __init__(self, config, pad_id=0):\n",
    "        super(NoiseEmbeddings, self).__init__(config, config.noise_size)\n",
    "        self.pad_id = pad_id\n",
    "    \n",
    "    def forward(self, input_ids, get_noise=False):\n",
    "        # input_tesorはデバイス，サイズ，pad箇所の取得用(なのでchordを使う)\n",
    "        device = input_ids.device\n",
    "        batch_size, seq_len = input_ids.shape\n",
    "        \n",
    "        # ノイズによる埋め込み表現を作成して埋め込み\n",
    "        noise_vec_seq = torch.randn(batch_size, seq_len, self.vec_size)\n",
    "        noise_vec_seq[input_ids == self.pad_id] = 0\n",
    "        embeddings = super().forward(noise_vec_seq.to(device))\n",
    "        \n",
    "        if get_noise:\n",
    "            return embeddings, noise_vec_seq\n",
    "        else:\n",
    "            return embeddings"
   ]
  },
  {
   "cell_type": "markdown",
   "metadata": {},
   "source": [
    "## SchWBertGeneratorの実装"
   ]
  },
  {
   "cell_type": "code",
   "execution_count": 8,
   "metadata": {},
   "outputs": [],
   "source": [
    "class SchWBertGenerator(nn.Module):\n",
    "    def __init__(self, config, body):\n",
    "        super(SchWBertGenerator, self).__init__()\n",
    "        self.config = config\n",
    "        self.body = body\n",
    "        self.pad_id = body.input_embeddings.pad_id\n",
    "        self.melody_pad_id = config.melody_pad_id\n",
    "        \n",
    "        self.dense_1 = nn.Linear(config.hidden_size, config.hidden_size)\n",
    "        self.gelu_1 = gelu\n",
    "        self.norm_1 = LayerNorm(config.hidden_size, eps=1e-8)\n",
    "        self.dense_2 = nn.Linear(config.hidden_size, config.hidden_size)\n",
    "        self.gelu_2 = gelu\n",
    "        self.norm_2 = LayerNorm(config.hidden_size, eps=1e-8)\n",
    "        self.dense_3 = nn.Linear(config.hidden_size, config.melody_vocab_size)\n",
    "        self.gelu_3 = gelu\n",
    "        self.norm_3 = LayerNorm(config.melody_vocab_size, eps=1e-8)\n",
    "        self.softmax = nn.Softmax(dim=0)\n",
    "    \n",
    "    def forward_head(self, body_output):\n",
    "        output = self.dense_1(body_output)\n",
    "        output = self.gelu_1(output)\n",
    "        output = self.norm_1(output)\n",
    "        output = self.dense_2(output)\n",
    "        output = self.gelu_2(output)\n",
    "        output = self.norm_2(output)\n",
    "        output = self.dense_3(output)\n",
    "        output = self.gelu_3(output)\n",
    "        output = self.norm_3(output)\n",
    "        output = self.softmax(output)\n",
    "        return output\n",
    "        \n",
    "    def forward(self, condition_tensor, get_all_outputs=False, get_probs=False):\n",
    "        if get_probs:\n",
    "            body_output, probs, c_probs = self.body(condition_tensor, condition_tensor, get_all_outputs, get_probs)\n",
    "        else:\n",
    "            body_output = self.body(condition_tensor, condition_tensor, get_all_outputs, get_probs)\n",
    "        \n",
    "        if get_all_outputs:\n",
    "            output = body_output[-1]\n",
    "        else:\n",
    "            output = body_output\n",
    "        \n",
    "        output[condition_tensor == self.pad_id] = 0\n",
    "        output = self.forward_head(output)\n",
    "        output[condition_tensor == self.pad_id] = self.melody_pad_id\n",
    "        \n",
    "        if get_all_outputs:\n",
    "            output = body_output + output\n",
    "        \n",
    "        if get_probs:\n",
    "            return output, probs, c_probs\n",
    "        else:\n",
    "            return output\n",
    "    \n",
    "    def to_ids(self, input_tensor):\n",
    "        probs, preds = torch.max(input_tensor, dim=-1)\n",
    "        return preds"
   ]
  },
  {
   "cell_type": "markdown",
   "metadata": {},
   "source": [
    "動作確認"
   ]
  },
  {
   "cell_type": "code",
   "execution_count": 9,
   "metadata": {},
   "outputs": [
    {
     "name": "stdout",
     "output_type": "stream",
     "text": [
      "torch.Size([2, 768, 67])\n"
     ]
    }
   ],
   "source": [
    "g_body = load_body(config, MelodyEmbeddings(config), ChordEmbeddings(config), output_dir)\n",
    "# g_body = ConditionalBertBody(config, MelodyEmbeddings(config), ChordEmbeddings(config))\n",
    "g_body.input_embeddings = NoiseEmbeddings(config, pad_id=config.chord_pad_id)\n",
    "\n",
    "G = SchWBertGenerator(config, g_body)\n",
    "\n",
    "batch = dataloader()\n",
    "g_out = G(batch.chord)\n",
    "\n",
    "batch.melody = G.to_ids(g_out)\n",
    "print(g_out.shape)"
   ]
  },
  {
   "cell_type": "code",
   "execution_count": 10,
   "metadata": {},
   "outputs": [
    {
     "data": {
      "image/png": "[encoded data removed]",
      "text/plain": [
       "<Figure size 1512x720 with 2 Axes>"
      ]
     },
     "metadata": {
      "needs_background": "light"
     },
     "output_type": "display_data"
    }
   ],
   "source": [
    "batch_id = 0\n",
    "bundle = Bundle({\n",
    "    'melody': batch.melody[batch_id],\n",
    "    'chord': batch.chord[batch_id],\n",
    "    'meta': batch.meta[batch_id]\n",
    "})\n",
    "bundle.meta.melody_pitch_range = [0, 67]\n",
    "ppr = bundle.get_ppr()\n",
    "grid_plot(ppr, beat_resolution=bundle.meta.beat_resolution)"
   ]
  },
  {
   "cell_type": "markdown",
   "metadata": {},
   "source": [
    "## SchWBertDiscriminatorの実装"
   ]
  },
  {
   "cell_type": "code",
   "execution_count": 11,
   "metadata": {},
   "outputs": [],
   "source": [
    "class SchWBertDiscriminator(nn.Module):\n",
    "    def __init__(self, config, body):\n",
    "        super(SchWBertDiscriminator, self).__init__()\n",
    "        self.config = config\n",
    "        self.body = body\n",
    "        self.pad_id = config.chord_pad_id\n",
    "        \n",
    "        self.dense_1 = nn.Linear(config.hidden_size, config.hidden_size)\n",
    "        self.gelu_1 = gelu\n",
    "        self.norm_1 = LayerNorm(config.hidden_size, eps=1e-8)\n",
    "        self.dense_2 = nn.Linear(config.hidden_size, config.hidden_size)\n",
    "        self.gelu_2 = gelu\n",
    "        self.norm_2 = LayerNorm(config.hidden_size, eps=1e-8)\n",
    "        self.dense_3 = nn.Linear(config.hidden_size, 1)\n",
    "        self.gelu_3 = gelu\n",
    "        self.sigmoid = nn.Sigmoid()\n",
    "    \n",
    "    def forward_head(self, body_output, pad):\n",
    "        output = self.dense_1(body_output)\n",
    "        output = self.gelu_1(output)\n",
    "        output = self.norm_1(output)\n",
    "        output = self.dense_2(output)\n",
    "        output = self.gelu_2(output)\n",
    "        output = self.norm_2(output)\n",
    "        output = self.dense_3(output)\n",
    "        output = self.gelu_3(output)\n",
    "        \n",
    "        output[pad] = 0\n",
    "        pad_denom = pad.sum(dim=-1)\n",
    "        output = output.squeeze(-1).sum(dim=-1) / pad_denom\n",
    "        output = self.sigmoid(output)\n",
    "        return output\n",
    "            \n",
    "    def forward(self, input_tensor, condition_tensor, get_all_outputs=False, get_probs=False):\n",
    "        if get_probs:\n",
    "            body_output, probs, c_probs = self.body(input_tensor, condition_tensor, get_all_outputs, get_probs)\n",
    "        else:\n",
    "            body_output = self.body(input_tensor, condition_tensor, get_all_outputs, get_probs)\n",
    "        \n",
    "        if get_all_outputs:\n",
    "            output = body_output[-1]\n",
    "        else:\n",
    "            output = body_output\n",
    "        \n",
    "        pad = condition_tensor == self.pad_id\n",
    "        output[pad] = 0\n",
    "        output = self.forward_head(output, pad)\n",
    "        \n",
    "        if get_all_outputs:\n",
    "            output = body_output + output\n",
    "        \n",
    "        if get_probs:\n",
    "            return output, probs, c_probs\n",
    "        else:\n",
    "            return output"
   ]
  },
  {
   "cell_type": "markdown",
   "metadata": {},
   "source": [
    "動作確認"
   ]
  },
  {
   "cell_type": "code",
   "execution_count": 12,
   "metadata": {},
   "outputs": [
    {
     "name": "stdout",
     "output_type": "stream",
     "text": [
      "real: tensor([0.4930, 0.4769], grad_fn=<SigmoidBackward>)\n",
      "fake: tensor([0.4923, 0.4873], grad_fn=<SigmoidBackward>)\n"
     ]
    }
   ],
   "source": [
    "d_body = load_body(config, MelodyEmbeddings(config), ChordEmbeddings(config), output_dir)\n",
    "# d_body = ConditionalBertBody(config, MelodyEmbeddings(config), ChordEmbeddings(config))\n",
    "d_body.input_embeddings = VecSeqEmbeddings(config, config.melody_vocab_size)\n",
    "D = SchWBertDiscriminator(config, d_body)\n",
    "\n",
    "batch = dataloader()\n",
    "d_out_real = D(batch.melody, batch.chord)\n",
    "d_out_fake = D(G(batch.chord), batch.chord)\n",
    "\n",
    "print(\"real:\", d_out_real)\n",
    "print(\"fake:\", d_out_fake)"
   ]
  },
  {
   "cell_type": "markdown",
   "metadata": {},
   "source": [
    "# SchW-BERT-GANのファインチューニングの実施\n",
    "事前学習済みのものとの比較もやる"
   ]
  },
  {
   "cell_type": "markdown",
   "metadata": {},
   "source": [
    "### 学習用データの作成"
   ]
  },
  {
   "cell_type": "code",
   "execution_count": 13,
   "metadata": {},
   "outputs": [
    {
     "name": "stdout",
     "output_type": "stream",
     "text": [
      "train data size: 17222, batch num: 8611 \n",
      " test data size: 174  , batch num: 174  \n"
     ]
    }
   ],
   "source": [
    "batch_size = 2\n",
    "train_dataset, test_dataset = dataset.split([0.99, 0.01], shuffle=True)\n",
    "dataloaders_dict = {\n",
    "    'train': TheorytabDataLoader(train_dataset, batch_size=batch_size, shuffle=True),\n",
    "    'test': TheorytabDataLoader(test_dataset, batch_size=batch_size/2)\n",
    "}\n",
    "print(f\"train data size: {len(dataloaders_dict['train'].dataset):<5}, batch num: {len(dataloaders_dict['train']):<5}\")\n",
    "print(f\" test data size: {len(dataloaders_dict['test'].dataset):<5}, batch num: {len(dataloaders_dict['test']):<5}\")"
   ]
  },
  {
   "cell_type": "markdown",
   "metadata": {},
   "source": [
    "### モデルの用意"
   ]
  },
  {
   "cell_type": "code",
   "execution_count": 14,
   "metadata": {},
   "outputs": [
    {
     "name": "stdout",
     "output_type": "stream",
     "text": [
      "Network settings completed\n"
     ]
    }
   ],
   "source": [
    "device_ids = [2,3]\n",
    "# device = torch.device('cuda:2')\n",
    "device = torch.device('cpu')\n",
    "multi_gpu = (device_ids != []) & (device.type == 'cuda')\n",
    "\n",
    "g_body = load_body(config, MelodyEmbeddings(config), ChordEmbeddings(config), output_dir)\n",
    "g_body.input_embeddings = NoiseEmbeddings(config, pad_id=config.chord_pad_id)\n",
    "netG = SchWBertGenerator(config, g_body)\n",
    "\n",
    "d_body = load_body(config, MelodyEmbeddings(config), ChordEmbeddings(config), output_dir)\n",
    "d_body.input_embeddings = VecSeqEmbeddings(config, vec_size=config.melody_vocab_size)\n",
    "netD = SchWBertDiscriminator(config, d_body)\n",
    "\n",
    "if multi_gpu:\n",
    "    print(\"Use Multi GPUs\")\n",
    "    netG, netD = MultiGPUWrapper(netG), MultiGPUWrapper(netD)\n",
    "\n",
    "optimizer = optim.Adam([\n",
    "    {'params': netG.parameters(), 'lr': config.adam_lr},\n",
    "    {'params': netD.parameters(), 'lr': config.adam_lr},\n",
    "], betas = (config.adam_beta1, config.adam_beta2))\n",
    "\n",
    "print(\"Network settings completed\")"
   ]
  },
  {
   "cell_type": "markdown",
   "metadata": {},
   "source": [
    "### 学習の実施"
   ]
  },
  {
   "cell_type": "markdown",
   "metadata": {},
   "source": [
    "まずは通常のGANから始めてみたら？"
   ]
  },
  {
   "cell_type": "code",
   "execution_count": 15,
   "metadata": {},
   "outputs": [],
   "source": [
    "def calc_gradient_penalty(netD, real_data, fake_data):\n",
    "    batch_size = real_data.shape[0]\n",
    "    device = real_data.device\n",
    "    \n",
    "    alpha = torch.rand(batch_size, 1)\n",
    "    alpha = alpha.expand(real_data.size())\n",
    "    alpha = alpha.to(device)\n",
    "\n",
    "    interpolates = alpha * real_data + ((1 - alpha) * fake_data)\n",
    "    interpolates = interpolates.to(device)\n",
    "    interpolates = autograd.Variable(interpolates, requires_grad=True)\n",
    "\n",
    "    disc_interpolates = netD(interpolates)\n",
    "\n",
    "    gradients = autograd.grad(outputs=disc_interpolates, inputs=interpolates,\n",
    "                              grad_outputs=torch.ones(disc_interpolates.size()).to(device),\n",
    "                              create_graph=True, retain_graph=True, only_inputs=True)[0]\n",
    "\n",
    "    gradient_penalty = ((gradients.norm(2, dim=1) - 1) ** 2).mean() * config.gp_lambda\n",
    "    return gradient_penalty"
   ]
  },
  {
   "cell_type": "code",
   "execution_count": null,
   "metadata": {},
   "outputs": [],
   "source": [
    "one = torch.FloatTensor([1])\n",
    "mone = one * -1\n",
    "\n",
    "for iteration in xrange(ITERS):\n",
    "    start_time = time.time()\n",
    "    ############################\n",
    "    # (1) Update D network\n",
    "    ###########################\n",
    "    for p in netD.parameters():  # reset requires_grad\n",
    "        p.requires_grad = True  # they are set to False below in netG update\n",
    "\n",
    "    for iter_d in xrange(CRITIC_ITERS):\n",
    "        _data = data.next()\n",
    "        real_data = torch.Tensor(_data)\n",
    "        if use_cuda:\n",
    "            real_data = real_data.cuda(gpu)\n",
    "        real_data_v = autograd.Variable(real_data)\n",
    "\n",
    "        netD.zero_grad()\n",
    "\n",
    "        # train with real\n",
    "        D_real = netD(real_data_v)\n",
    "        D_real = D_real.mean()\n",
    "        # print D_real\n",
    "        D_real.backward(mone)\n",
    "\n",
    "        # train with fake\n",
    "        noise = torch.randn(BATCH_SIZE, 128)\n",
    "        if use_cuda:\n",
    "            noise = noise.cuda(gpu)\n",
    "        noisev = autograd.Variable(noise, volatile=True)  # totally freeze netG\n",
    "        fake = autograd.Variable(netG(noisev).data)\n",
    "        inputv = fake\n",
    "        D_fake = netD(inputv)\n",
    "        D_fake = D_fake.mean()\n",
    "        D_fake.backward(one)\n",
    "\n",
    "        # train with gradient penalty\n",
    "        gradient_penalty = calc_gradient_penalty(netD, real_data_v.data, fake.data)\n",
    "        gradient_penalty.backward()\n",
    "\n",
    "        D_cost = D_fake - D_real + gradient_penalty\n",
    "        Wasserstein_D = D_real - D_fake\n",
    "        optimizerD.step()\n",
    "\n",
    "    ############################\n",
    "    # (2) Update G network\n",
    "    ###########################\n",
    "    for p in netD.parameters():\n",
    "        p.requires_grad = False  # to avoid computation\n",
    "    netG.zero_grad()\n",
    "\n",
    "    noise = torch.randn(BATCH_SIZE, 128)\n",
    "    if use_cuda:\n",
    "        noise = noise.cuda(gpu)\n",
    "    noisev = autograd.Variable(noise)\n",
    "    fake = netG(noisev)\n",
    "    G = netD(fake)\n",
    "    G = G.mean()\n",
    "    G.backward(mone)\n",
    "    G_cost = -G\n",
    "    optimizerG.step()"
   ]
  },
  {
   "cell_type": "code",
   "execution_count": null,
   "metadata": {},
   "outputs": [],
   "source": [
    "print(\"start leaning...\")\n",
    "\n",
    "def save_model(generator, discriminator, epoch, gtt):\n",
    "    hyper_param_str = f\"epoch={epoch:04}_nz={nz}_l1={lambda_1}_l2={lambda_2}_gt={gtt}\"\n",
    "    torch.save(netG.state_dict(), os.path.join(save_dir, f'netG_{hyper_param_str}.pth'))\n",
    "    torch.save(netD.state_dict(), os.path.join(save_dir, f'netD_{hyper_param_str}.pth'))\n",
    "\n",
    "if start_epoch is None:\n",
    "    start_epoch = 0\n",
    "else:\n",
    "    realD_list = np.load(os.path.join(save_dir, 'realD_list.npy')).tolist()\n",
    "    fakeD_list = np.load(os.path.join(save_dir, 'fakeD_list.npy')).tolist()\n",
    "    lossD_list = np.load(os.path.join(save_dir, 'lossD_list.npy')).tolist()\n",
    "    lossG_list = np.load(os.path.join(save_dir, 'lossG_list.npy')).tolist()\n",
    "    gtt_list = np.load(os.path.join(save_dir, 'gtt_list.npy')).tolist()\n",
    "    \n",
    "\n",
    "generator_train_times = k\n",
    "for epoch in range(start_epoch+1, epochs+1):\n",
    "    sum_lossD, sum_lossG  = 0, 0\n",
    "    sum_realD, sum_fakeD  = 0, 0\n",
    "    \n",
    "    with Timer():\n",
    "        for i, (real, prev, chord) in enumerate(data_loader):\n",
    "\n",
    "            # バッチ(譜面，前の譜面，コード)をdeviceに渡す  \n",
    "            real, prev, chord = [to_device(item) for item in [real, prev, chord]]\n",
    "\n",
    "            # batchの切れ端はサイズが異なる場合があるので注意\n",
    "            batch_size = real.size(0)\n",
    "\n",
    "            ############################\n",
    "            # Dの学習: log(D(x)) + log(1 - D(G(z))) を最大化\n",
    "            ###########################\n",
    "\n",
    "            # Dの勾配の初期化\n",
    "            netD.zero_grad()\n",
    "\n",
    "            # realに対する識別結果からクロスエントロピー誤差(目的関数)の値を得る\n",
    "            d_real, d_logits_real, fm_real = netD(real, chord, batch_size)\n",
    "            d_real_label = torch.rand_like(d_real) * 0.5 + 0.7\n",
    "            d_loss_real = nn.BCEWithLogitsLoss()(d_logits_real, d_real_label)\n",
    "\n",
    "            # Gにノイズベクトル，前の譜面，コードを渡し，fakeデータを作成\n",
    "            noise = to_device(torch.randn(batch_size, nz))\n",
    "            fake = netG(noise, prev, chord, batch_size)\n",
    "\n",
    "            # fakeに対する識別結果からクロスエントロピー誤差(目的関数)の値を得る\n",
    "            d_fake, d_logits_fake, fm_fake = netD(fake.detach(), chord, batch_size)\n",
    "            d_fake_label = torch.rand_like(d_fake) * 0.3\n",
    "            d_loss_fake = nn.BCEWithLogitsLoss()(d_logits_fake, d_fake_label)\n",
    "\n",
    "            # 誤差逆伝搬により勾配を更新し，それに基づきDのパラメータを更新する\n",
    "            lossD = d_loss_real + d_loss_fake\n",
    "            lossD.backward(retain_graph=True)\n",
    "            optimizerD.step()\n",
    "\n",
    "            # 学習記録\n",
    "            # real, fakeデータに対してそれぞれrealだと識別した割合\n",
    "            realD, fakeD = d_real.mean().item(), d_fake.mean().item()\n",
    "            sum_realD += realD\n",
    "            sum_fakeD += fakeD\n",
    "            sum_lossD += lossD.item() # Dの学習におけるLoss\n",
    "\n",
    "\n",
    "            ############################\n",
    "            # Gの学習 : log(D(G(z)))を最大化\n",
    "            ###########################\n",
    "\n",
    "            for t in range(generator_train_times):\n",
    "\n",
    "                # Gの勾配の初期化\n",
    "                netG.zero_grad()\n",
    "\n",
    "                # Gにノイズベクトル，前の譜面，コードを渡し，fakeデータを作成 (やっぱりいちいち作ったほうが結果がよさそう)\n",
    "                noise = to_device(torch.randn(batch_size, nz))\n",
    "                fake = netG(noise, prev, chord, batch_size)\n",
    "                \n",
    "                # fakeに対して1をラベルとした識別結果からクロスエントロピー誤差(目的関数)の値を得てGの誤差とする\n",
    "                d_fake, d_logits_fake, fm_fake = netD(fake, chord, batch_size)\n",
    "                deceive_label = torch.ones_like(d_fake)\n",
    "                g_loss = nn.BCEWithLogitsLoss()(d_logits_fake, deceive_label) # (72, 1), (72, 1) => scalar tensor\n",
    "\n",
    "                # Dの特徴マッチング：realとfakeでnetDの初段のreluの出力が近くなるようにする\n",
    "                features_from_g = torch.mean(fm_fake, 0) # fakeデータに対するDのfeatureの平均値\n",
    "                features_from_i = torch.mean(fm_real, 0) # realデータに対するDのfeatureの平均値\n",
    "                # fakeとrealの出すfeatureの違いが大きいほどペナルティを与える\n",
    "                fm_g_loss1 = nn.MSELoss(reduction='sum')(features_from_g, features_from_i) / 2\n",
    "                fm_g_loss1 = torch.mul(fm_g_loss1, lambda_1)\n",
    "\n",
    "                # Gの特徴マッチング：Gがrealに近いデータを生成できるようにする\n",
    "                mean_image_from_g = torch.mean(fake, 0) # fakeデータの平均値\n",
    "                mean_image_from_i = torch.mean(real, 0) # realデータの平均値\n",
    "                # fakeデータとrealデータの違いが大きいほどペナルティを与える\n",
    "                fm_g_loss2 = nn.MSELoss(reduction='sum')(mean_image_from_g, mean_image_from_i) / 2\n",
    "                fm_g_loss2 = torch.mul(fm_g_loss2, lambda_2)\n",
    "\n",
    "                # 誤差逆伝搬により勾配を更新し，それに基づきGのパラメータを更新する\n",
    "                lossG = g_loss + fm_g_loss1 + fm_g_loss2\n",
    "                lossG.backward(retain_graph=(t < generator_train_times - 1)) # 最後は計算グラフを放棄\n",
    "                optimizerG.step()\n",
    "\n",
    "            # 学習記録\n",
    "            sum_lossG += lossG.item() # Gの学習におけるLoss\n",
    "\n",
    "        clear_output()\n",
    "        print(f\"epoch {epoch} / {epochs} result\")\n",
    "        \n",
    "        # エポックごとの識別と誤差の記録\n",
    "        realD_list.append(sum_realD / data_size)\n",
    "        fakeD_list.append(sum_fakeD / data_size)\n",
    "        lossD_list.append(sum_lossD / data_size)\n",
    "        lossG_list.append(sum_lossG / data_size)\n",
    "        gtt_list.append(generator_train_times)\n",
    "        \n",
    "        # adaptive gtt: 本物を本物と識別できる奴に偽物だと見破られるほど生成器が頑張る\n",
    "        avg_realD = sum_realD / data_size\n",
    "        avg_fakeD = sum_fakeD / data_size\n",
    "        generator_train_times = min(48, max(1, int((avg_realD - avg_fakeD) * 100)) * k)\n",
    "        print(f\"==> next generator train times: {generator_train_times}\")\n",
    "        \n",
    "        print(f'==> avg lossD: {lossD_list[-1]:.4f} avg lossG: {lossG_list[-1]:.4f}, avg realD: {realD_list[-1]:.4f}, avg fakeD: {fakeD_list[-1]:.4f} ')\n",
    "        print(f'==> last values[ loss D: {lossD:.4f} loss G: {lossG:.4f} = {g_loss:.4f} + {fm_g_loss1:.4f} + {fm_g_loss2:.4f} real D: {realD:.4f} fake D: {fakeD:.4f} ]')\n",
    "            \n",
    "    # epochs/save_frequency ごとにモデルとここまでの誤差リストを保存し，生成データを画像で記録\n",
    "    if epoch % (epochs // save_frequency) == 0:\n",
    "        save_model(netG, netD, epoch, generator_train_times)\n",
    "        \n",
    "        sample_fake = netG(noise_for_sample, prev[:sample_bar_num], chord[:sample_bar_num], sample_bar_num).detach()\n",
    "        _, _, steps, pitch_range = sample_fake.shape\n",
    "        sample_fake = sample_fake.reshape(sample_bar_num*steps, pitch_range).T\n",
    "\n",
    "        fake_image_path = os.path.join(save_dir, f'fake_samples_epoch{epoch:03}.png')\n",
    "        saved_image_paths.append(fake_image_path)\n",
    "        vutils.save_image(sample_fake, fake_image_path, normalize=True)\n",
    "\n",
    "        save_npa('realD_list.npy', realD_list)\n",
    "        save_npa('fakeD_list.npy', fakeD_list)\n",
    "        save_npa('lossD_list.npy', lossD_list)\n",
    "        save_npa('lossG_list.npy', lossG_list)\n",
    "        save_npa('gtt_list.npy', gtt_list)\n",
    "\n",
    "print(\"finished!\")"
   ]
  },
  {
   "cell_type": "markdown",
   "metadata": {},
   "source": [
    "## ファインチューニング用関数を作成"
   ]
  }
 ],
 "metadata": {
  "kernelspec": {
   "display_name": "Python 3",
   "language": "python",
   "name": "python3"
  },
  "language_info": {
   "codemirror_mode": {
    "name": "ipython",
    "version": 3
   },
   "file_extension": ".py",
   "mimetype": "text/x-python",
   "name": "python",
   "nbconvert_exporter": "python",
   "pygments_lexer": "ipython3",
   "version": "3.7.3"
  }
 },
 "nbformat": 4,
 "nbformat_minor": 4
}
