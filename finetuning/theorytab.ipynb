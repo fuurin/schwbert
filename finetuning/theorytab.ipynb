{
 "cells": [
  {
   "cell_type": "markdown",
   "metadata": {},
   "source": [
    "# SchW-BERT-GAN ファインチューニング\n",
    "Theorytabデータセットを使用\n",
    "- 事前学習済みのモデルを使用したSchW-BERT-GAN用のモジュールの定義\n",
    "    - body選択\n",
    "    - SchwBertGenerator\n",
    "    - SchwBertDiscriminator\n",
    "- SchW-BERT-GANのファインチューニングの実施\n",
    "    - ファインチューニング用関数を作成\n",
    "    - 事前学習済みのものと比較\n",
    "- SchW-BERT-GANによる音楽自動生成\n",
    "    - コードをデータセットからランダムに選んできて生成\n",
    "\n",
    "WGAN-gpの実装は[caogang/wgan-gp](https://github.com/caogang/wgan-gp/blob/master/gan_mnist.py)が参考になる"
   ]
  },
  {
   "cell_type": "code",
   "execution_count": 1,
   "metadata": {},
   "outputs": [
    {
     "name": "stdout",
     "output_type": "stream",
     "text": [
      "current dir: /root/schwbert\n",
      "20/32 cpus are available.\n"
     ]
    }
   ],
   "source": [
    "import os, glob, copy, time, math\n",
    "visible_devices = [2,3]\n",
    "os.environ['CUDA_VISIBLE_DEVICES'] = ','.join([str(i) for i in visible_devices])\n",
    "\n",
    "import numpy as np\n",
    "import torch\n",
    "import torch.nn as nn\n",
    "import torch.optim as optim\n",
    "from torch.nn.modules.normalization import LayerNorm\n",
    "from torch.utils.data import random_split\n",
    "from pytorch_memlab import MemReporter\n",
    "from multiprocessing import Pool, cpu_count\n",
    "from pypianoroll import Track, Multitrack\n",
    "from attrdict import AttrDict\n",
    "from IPython.display import clear_output\n",
    "import matplotlib.pyplot as plt\n",
    "%matplotlib inline\n",
    "\n",
    "# カレントディレクトリをリポジトリ直下にして自家製モジュールをimport\n",
    "while os.getcwd().split('/')[-1] != 'schwbert': os.chdir('..')\n",
    "print('current dir:', os.getcwd())\n",
    "from utils import Timer, count_params, grid_plot\n",
    "from bundle import Bundle\n",
    "from preprocess.original import load_bundle_list\n",
    "from dataloader import TheorytabDataset, TheorytabDataLoader\n",
    "from models.emb_cond import gelu, save_body, load_body, make_body\n",
    "from models.multi_gpu import MultiGPUWrapper\n",
    "from models.save_and_load import save_config, load_config, save_model, load_model\n",
    "\n",
    "core_num = 20\n",
    "print(f\"{core_num}/{cpu_count()} cpus are available.\")"
   ]
  },
  {
   "cell_type": "code",
   "execution_count": 2,
   "metadata": {},
   "outputs": [],
   "source": [
    "base_dir = \"../datasets\"\n",
    "schwbert_dir = os.path.join(base_dir, \"schwbert\")\n",
    "\n",
    "dataset_dir = os.path.join(base_dir, \"theorytab\")\n",
    "input_csv = os.path.join(dataset_dir, \"theorytab.csv\")\n",
    "input_dir = os.path.join(dataset_dir, \"pianoroll\")\n",
    "\n",
    "output_base_dir = os.path.join(schwbert_dir, \"models\")\n",
    "output_dir = os.path.join(output_base_dir, \"theorytab\")\n",
    "\n",
    "for directory in [schwbert_dir, output_base_dir, output_dir]:\n",
    "    if not os.path.exists(directory):\n",
    "        os.mkdir(directory)"
   ]
  },
  {
   "cell_type": "markdown",
   "metadata": {},
   "source": [
    "### Configのロード"
   ]
  },
  {
   "cell_type": "code",
   "execution_count": 3,
   "metadata": {},
   "outputs": [],
   "source": [
    "def select_config(directory, postfix=\".json\", fixed_number=None):\n",
    "    config_paths = glob.glob(os.path.join(directory, f\"*{postfix}\"))\n",
    "    config_paths.sort()\n",
    "    if len(config_paths) > 1:\n",
    "        print(f\"{len(config_paths)} models found in {directory}\")\n",
    "        for i, path in enumerate(config_paths):\n",
    "            print(f\"{i}: {path.split('/')[-1]}\")\n",
    "        if fixed_number is None:\n",
    "            config_path = config_paths[int(input(\"input the number of config:\"))]\n",
    "        else:\n",
    "            config_path = config_paths[fixed_number]\n",
    "    else:\n",
    "        config_path = config_paths[0]\n",
    "    \n",
    "    config_name = config_path.split('/')[-1]\n",
    "    print(f\"config is loaded from {config_name}\")\n",
    "    config = load_config(config_name, directory)\n",
    "    return AttrDict(config)"
   ]
  },
  {
   "cell_type": "code",
   "execution_count": 4,
   "metadata": {},
   "outputs": [
    {
     "name": "stdout",
     "output_type": "stream",
     "text": [
      "5 models found in ../datasets/schwbert/models/theorytab\n",
      "0: schwbert_base:config@2019-11-21_00:46.json\n",
      "1: schwbert_base_msp:config@2019-11-22_01:47.json\n",
      "2: schwbert_large:config@2019-11-21_05:13.json\n",
      "3: schwbert_large_msp:config@2019-11-22_06:41.json\n",
      "4: schwbert_weighted:config@2019-11-21_03:00.json\n",
      "config is loaded from schwbert_base_msp:config@2019-11-22_01:47.json\n",
      "AttrDict({'nickname': 'schwbert_base_msp', 'step_num': 768, 'beat_resolution': 12, 'beats_in_bar': 4, 'bar_num': 16, 'include_rest_to_area': False, 'melody_pitch_range': [0, 24], 'melody_rest_id': 24, 'melody_mask_id': 25, 'melody_pad_id': 26, 'melody_vocab_size': 27, 'chord_pad_id': 4096, 'chord_vocab_size': 4097, 'fact_size': 16, 'hidden_size': 100, 'intermediate_size': 400, 'attention_layer_num': 10, 'attention_head_num': 4, 'share_all_bert_params': True, 'dropout_prob': 0.1, 'adam_lr': 1e-05, 'adam_beta1': 0.9, 'adam_beta2': 0.999, 'pre_mnp_aug': 3, 'pre_mnp_rate': 0.15, 'pre_mnp_mask_rate': 0.8, 'pre_mnp_random_rate': 0.1, 'pre_mnp_keep_rate': 0.1, 'state_names': {'embeddings': 'schwbert_base_msp:ConditionalEmbeddings:E=010H=100I=400A=10AH=4.pth', 'bert_stack': 'schwbert_base_msp:BertStack:E=010H=100I=400A=10AH=4.pth', 'masked_note_prediction': 'schwbert_base_msp:MaskedNotePrediction:E=010H=100I=400A=10AH=4MNP:A=3T=0.15M=0.8R=0.1K=0.1.pth'}, 'noise_size': 100, 'gp_lambda': 10})\n"
     ]
    }
   ],
   "source": [
    "config = select_config(output_dir, fixed_number=1)\n",
    "config.noise_size = 100\n",
    "config.gp_lambda = 10\n",
    "print(config)"
   ]
  },
  {
   "cell_type": "markdown",
   "metadata": {},
   "source": [
    "### データのロード"
   ]
  },
  {
   "cell_type": "code",
   "execution_count": 5,
   "metadata": {},
   "outputs": [
    {
     "name": "stdout",
     "output_type": "stream",
     "text": [
      "start preprocessing...\n",
      "unpacking result bundles list...\n",
      "Preprocessing Finished!\n",
      "load 17396 bundles\n",
      "0 error caused\n",
      "25.642856\n"
     ]
    }
   ],
   "source": [
    "with Timer():\n",
    "     bundle_list = load_bundle_list(input_csv, input_dir, core_num=core_num)"
   ]
  },
  {
   "cell_type": "code",
   "execution_count": 6,
   "metadata": {},
   "outputs": [
    {
     "name": "stdout",
     "output_type": "stream",
     "text": [
      "8698\n"
     ]
    }
   ],
   "source": [
    "dataset = TheorytabDataset(bundle_list)\n",
    "dataloader = TheorytabDataLoader(dataset, batch_size=2, shuffle=True)\n",
    "print(len(dataloader))"
   ]
  },
  {
   "cell_type": "markdown",
   "metadata": {},
   "source": [
    "# SchW-BERT-GAN用のモジュールの定義\n",
    "- SchwBertGenerator*\n",
    "    - ConditionalBertBody\n",
    "        - NoiseEmbeddings*: ノイズベクトルシーケンス→Dense\n",
    "        - ChordEmbeddings\n",
    "    - Denseをかけ，メロディを出力\n",
    "- SchwBertDiscriminator*\n",
    "    - ConditionalBertBody\n",
    "        - VecSecEmbeddings*: ベクトルシーケンス→Dense，idsではない\n",
    "        - ChordEmbeddings\n",
    "    - Denseを縦横にかけ，本物と偽物を区別するよう2値分類\n",
    "\n",
    "✳︎ついてるやつが新規作成モジュール"
   ]
  },
  {
   "cell_type": "markdown",
   "metadata": {},
   "source": [
    "## 各種Embeddingsの実装\n",
    "偽物のmax通したやつは誤差が伝搬しないのでベクトルシーケンスを入力に取りたい  \n",
    "本物データにはOneHotになってもらう"
   ]
  },
  {
   "cell_type": "code",
   "execution_count": 7,
   "metadata": {},
   "outputs": [],
   "source": [
    "class VecSeqEmbedding(nn.Module):\n",
    "    def __init__(self, vec_size, pad_id):\n",
    "        super(VecSeqEmbedding, self).__init__()\n",
    "        self.vec_size = vec_size\n",
    "        self.pad_id = pad_id\n",
    "        self.eye = torch.eye(vec_size).to(torch.float)\n",
    "        self.embedding = nn.Linear(vec_size, config.hidden_size, bias=False)\n",
    "    \n",
    "    def forward(self, input_seq):\n",
    "        # すでにマスクされてると仮定\n",
    "        embedding = self.embedding(input_seq)    \n",
    "        return embedding\n",
    "    \n",
    "    def to_one_hot(self, input_ids):\n",
    "        # maskも行う\n",
    "        one_hot = self.eye[input_ids]\n",
    "        one_hot[input_ids == self.pad_id] = 0\n",
    "        return one_hot\n",
    "\n",
    "class NoiseEmbedding(nn.Module):\n",
    "    def __init__(self, noise_size, pad_id):\n",
    "        super(NoiseEmbedding, self).__init__()\n",
    "        self.noise_size = noise_size\n",
    "        self.pad_id = pad_id\n",
    "        self.embedding = nn.Linear(noise_size, config.hidden_size, bias=False)\n",
    "    \n",
    "    def forward(self, input_ids, get_noise=False):\n",
    "        # input_tesorはデバイス，サイズ，pad箇所の取得用(なのでchordを使う)\n",
    "        device = input_ids.device\n",
    "        batch_size, seq_len = input_ids.shape\n",
    "        \n",
    "        # ノイズによる埋め込み表現を作成して埋め込み\n",
    "        noise_vec_seq = torch.randn(batch_size, seq_len, self.noise_size)\n",
    "        noise_vec_seq[input_ids == self.pad_id] = 0\n",
    "        noise_vec_seq = noise_vec_seq.to(device)\n",
    "        embedding = self.embedding(noise_vec_seq)\n",
    "        \n",
    "        if get_noise:\n",
    "            return embedding, noise_vec_seq\n",
    "        else:\n",
    "            return embedding"
   ]
  },
  {
   "cell_type": "markdown",
   "metadata": {},
   "source": [
    "動作確認"
   ]
  },
  {
   "cell_type": "code",
   "execution_count": 14,
   "metadata": {
    "deletable": false,
    "editable": false,
    "run_control": {
     "frozen": true
    }
   },
   "outputs": [
    {
     "name": "stdout",
     "output_type": "stream",
     "text": [
      "vec_sec_embedding: torch.Size([2, 768, 64])\n",
      "vec_sec_embedding ex: tensor([0., 0., 0., 0., 0., 0., 0., 0., 0., 0., 0., 0., 0., 0., 0., 0., 0., 0., 0., 0., 0., 0., 0., 0.,\n",
      "        0., 0., 0., 0., 0., 0., 0., 0., 0., 0., 0., 0., 0., 0., 0., 0., 0., 0., 0., 0., 0., 0., 0., 0.,\n",
      "        0., 0., 0., 0., 0., 0., 0., 0., 0., 0., 0., 0., 0., 0., 0., 0.],\n",
      "       grad_fn=<SelectBackward>)\n",
      "noise_embedding: torch.Size([2, 768, 64])\n",
      "noise_embedding ex: tensor([0., 0., 0., 0., 0., 0., 0., 0., 0., 0., 0., 0., 0., 0., 0., 0., 0., 0., 0., 0., 0., 0., 0., 0.,\n",
      "        0., 0., 0., 0., 0., 0., 0., 0., 0., 0., 0., 0., 0., 0., 0., 0., 0., 0., 0., 0., 0., 0., 0., 0.,\n",
      "        0., 0., 0., 0., 0., 0., 0., 0., 0., 0., 0., 0., 0., 0., 0., 0.],\n",
      "       grad_fn=<SelectBackward>)\n"
     ]
    }
   ],
   "source": [
    "batch = dataloader()\n",
    "\n",
    "vec_seq_embedding = VecSeqEmbedding(config.melody_vocab_size, config.melody_pad_id)\n",
    "noise_embedding = NoiseEmbedding(config.noise_size, config.chord_pad_id)\n",
    "\n",
    "batch.melody = vec_seq_embedding.to_one_hot(batch.melody)\n",
    "\n",
    "print(\"vec_sec_embedding:\", vec_seq_embedding(batch.melody).shape)\n",
    "print(\"vec_sec_embedding ex:\", vec_seq_embedding(batch.melody)[0][-1])\n",
    "print(\"noise_embedding:\", noise_embedding(batch.chord).shape)\n",
    "print(\"noise_embedding ex:\", noise_embedding(batch.chord)[0][-1])"
   ]
  },
  {
   "cell_type": "markdown",
   "metadata": {},
   "source": [
    "## SchWBertGeneratorの実装"
   ]
  },
  {
   "cell_type": "code",
   "execution_count": 8,
   "metadata": {},
   "outputs": [],
   "source": [
    "class GELU(nn.Module):\n",
    "    def forward(self, input_tensor):\n",
    "        return gelu(input_tensor)\n",
    "\n",
    "class Softmax(nn.Module):\n",
    "    # なんかnn.Softmaxはinplace errorとかいうのが発生するので自前でSoftmaxを実装\n",
    "    def __init__(self, dim):\n",
    "        super(Softmax, self).__init__()\n",
    "        self.dim = dim\n",
    "    \n",
    "    def forward(self, input_tensor):\n",
    "        output = torch.exp(input_tensor)\n",
    "        output = output / output.sum(dim=self.dim).unsqueeze(-1)\n",
    "        return output"
   ]
  },
  {
   "cell_type": "code",
   "execution_count": 16,
   "metadata": {
    "deletable": false,
    "editable": false,
    "run_control": {
     "frozen": true
    }
   },
   "outputs": [
    {
     "name": "stdout",
     "output_type": "stream",
     "text": [
      "tensor([0.6335, 0.3506, 0.2058])\n",
      "tensor([0.4157, 0.3133, 0.2710])\n",
      "tensor([0.4157, 0.3133, 0.2710])\n"
     ]
    }
   ],
   "source": [
    "rand = torch.rand(3)\n",
    "print(rand)\n",
    "print(Softmax(dim=-1)(rand))\n",
    "print(nn.Softmax(dim=-1)(rand))"
   ]
  },
  {
   "cell_type": "code",
   "execution_count": 9,
   "metadata": {},
   "outputs": [],
   "source": [
    "class SchWBertGenerator(nn.Module):\n",
    "    def __init__(self, config, body):\n",
    "        super(SchWBertGenerator, self).__init__()\n",
    "        self.config = config\n",
    "        self.chord_pad_id = config.chord_pad_id\n",
    "        self.melody_pad_id = config.melody_pad_id\n",
    "        \n",
    "        self.body = body\n",
    "        self.body.embeddings.input_embedding = NoiseEmbedding(config.noise_size, self.chord_pad_id)\n",
    "        \n",
    "        self.head = nn.Sequential(\n",
    "            nn.Linear(config.hidden_size, config.hidden_size, bias=False),\n",
    "            GELU(),\n",
    "            LayerNorm(config.hidden_size, eps=1e-8),\n",
    "            nn.Linear(config.hidden_size, config.hidden_size, bias=False),\n",
    "            GELU(),\n",
    "            LayerNorm(config.hidden_size, eps=1e-8),\n",
    "            nn.Linear(config.hidden_size, config.melody_vocab_size, bias=False),\n",
    "            GELU(),\n",
    "            LayerNorm(config.melody_vocab_size, eps=1e-8),\n",
    "            Softmax(dim=-1),\n",
    "        )\n",
    "    \n",
    "    def forward(self, condition_tensor, get_all_outputs=False, get_probs=False):\n",
    "        if get_probs:\n",
    "            body_output, probs = self.body(condition_tensor, condition_tensor, get_all_outputs, get_probs)\n",
    "        else:\n",
    "            body_output = self.body(condition_tensor, condition_tensor, get_all_outputs, get_probs)\n",
    "        \n",
    "        if get_all_outputs:\n",
    "            output = body_output[-1]\n",
    "        else:\n",
    "            output = body_output\n",
    "        \n",
    "        output = self.head(output)\n",
    "        output[condition_tensor == self.chord_pad_id] = 0\n",
    "        output[condition_tensor == self.chord_pad_id][:, self.melody_pad_id] = 1\n",
    "        \n",
    "        if get_all_outputs:\n",
    "            output = body_output + output\n",
    "        \n",
    "        if get_probs:\n",
    "            return output, probs\n",
    "        else:\n",
    "            return output\n",
    "    \n",
    "    def to_ids(self, output_map):\n",
    "        probs, preds = torch.max(output_map, dim=-1)\n",
    "        return preds"
   ]
  },
  {
   "cell_type": "markdown",
   "metadata": {},
   "source": [
    "動作確認"
   ]
  },
  {
   "cell_type": "code",
   "execution_count": 10,
   "metadata": {
    "deletable": false,
    "editable": false,
    "run_control": {
     "frozen": true
    }
   },
   "outputs": [],
   "source": [
    "batch = dataloader()"
   ]
  },
  {
   "cell_type": "code",
   "execution_count": 11,
   "metadata": {
    "deletable": false,
    "editable": false,
    "run_control": {
     "frozen": true
    },
    "scrolled": true
   },
   "outputs": [
    {
     "name": "stdout",
     "output_type": "stream",
     "text": [
      "torch.Size([2, 768, 27])\n"
     ]
    }
   ],
   "source": [
    "g_body = load_body(config, output_dir)\n",
    "G = SchWBertGenerator(config, g_body)\n",
    "g_out = G(batch.chord)\n",
    "print(g_out.shape)"
   ]
  },
  {
   "cell_type": "code",
   "execution_count": 12,
   "metadata": {
    "deletable": false,
    "editable": false,
    "run_control": {
     "frozen": true
    }
   },
   "outputs": [
    {
     "data": {
      "image/png": "[encoded data removed]",
      "text/plain": [
       "<Figure size 1512x720 with 2 Axes>"
      ]
     },
     "metadata": {
      "needs_background": "light"
     },
     "output_type": "display_data"
    }
   ],
   "source": [
    "batch_id = 1\n",
    "\n",
    "g_melody = G.to_ids(g_out).numpy()\n",
    "bundle = Bundle({\n",
    "    'melody': g_melody[batch_id],\n",
    "    'chord': batch.chord[batch_id],\n",
    "    'meta': batch.meta[batch_id]\n",
    "})\n",
    "bundle.meta.melody_pitch_range = [0, config.melody_vocab_size]\n",
    "ppr = bundle.get_ppr()\n",
    "grid_plot(ppr, beat_resolution=bundle.meta.beat_resolution)"
   ]
  },
  {
   "cell_type": "markdown",
   "metadata": {},
   "source": [
    "## SchWBertDiscriminatorの実装"
   ]
  },
  {
   "cell_type": "code",
   "execution_count": 10,
   "metadata": {},
   "outputs": [],
   "source": [
    "class SchWBertDiscriminator(nn.Module):\n",
    "    def __init__(self, config, body):\n",
    "        super(SchWBertDiscriminator, self).__init__()\n",
    "        self.config = config\n",
    "        self.body = body\n",
    "        self.body.embeddings.input_embedding = VecSeqEmbedding(config.melody_vocab_size, config.melody_pad_id)\n",
    "        self.to_one_hot = self.body.embeddings.input_embedding.to_one_hot\n",
    "        self.pad_id = config.chord_pad_id\n",
    "        \n",
    "        self.head_v = nn.Sequential(\n",
    "            nn.Linear(config.hidden_size, config.hidden_size, bias=False),\n",
    "            GELU(),\n",
    "            LayerNorm(config.hidden_size, eps=1e-8),\n",
    "            nn.Linear(config.hidden_size, config.hidden_size, bias=False),\n",
    "            GELU(),\n",
    "            LayerNorm(config.hidden_size, eps=1e-8),\n",
    "            nn.Linear(config.hidden_size, 1, bias=False),\n",
    "            GELU(),\n",
    "            LayerNorm(config.hidden_size, eps=1e-8),\n",
    "        )\n",
    "        \n",
    "        self.dense_h = nn.Linear(config.step_num, 1, bias=False)\n",
    "        # self.sigmoid = nn.Sigmoid() # BCELossに含まれるのでSigmoidしない\n",
    "    \n",
    "    def forward_head(self, body_output):\n",
    "        output = self.head_v(body_output)\n",
    "        output = output.view(-1, self.config.step_num)\n",
    "        output = self.dense_h(output)\n",
    "        # output = self.sigmoid(output)\n",
    "        return output.view(-1)\n",
    "            \n",
    "    def forward(self, input_tensor, condition_tensor, get_all_outputs=False, get_probs=False):\n",
    "        # melodyはあらかじめdeviceへ渡す必要はない．\n",
    "        if input_tensor.dim() < 3:\n",
    "            input_tensor = self.to_one_hot(input_tensor).to(condition_tensor.device)\n",
    "        \n",
    "        if get_probs:\n",
    "            body_output, probs = self.body(input_tensor, condition_tensor, get_all_outputs, get_probs)\n",
    "        else:\n",
    "            body_output = self.body(input_tensor, condition_tensor, get_all_outputs, get_probs)\n",
    "        \n",
    "        if get_all_outputs:\n",
    "            output = body_output[-1]\n",
    "        else:\n",
    "            output = body_output\n",
    "\n",
    "        output[condition_tensor == self.pad_id] = 0\n",
    "        output = self.forward_head(output)\n",
    "        \n",
    "        if get_all_outputs:\n",
    "            output = body_output + output\n",
    "        \n",
    "        if get_probs:\n",
    "            return output, probs\n",
    "        else:\n",
    "            return output"
   ]
  },
  {
   "cell_type": "markdown",
   "metadata": {},
   "source": [
    "動作確認"
   ]
  },
  {
   "cell_type": "code",
   "execution_count": 25,
   "metadata": {
    "deletable": false,
    "editable": false,
    "run_control": {
     "frozen": true
    }
   },
   "outputs": [
    {
     "name": "stdout",
     "output_type": "stream",
     "text": [
      "real: tensor([0.5225, 0.5362], grad_fn=<ViewBackward>)\n",
      "fake: tensor([0.5053, 0.5221], grad_fn=<ViewBackward>)\n"
     ]
    }
   ],
   "source": [
    "d_body = load_body(config, output_dir)\n",
    "D = SchWBertDiscriminator(config, d_body)\n",
    "\n",
    "batch = dataloader()\n",
    "d_out_real = D(batch.melody, batch.chord)\n",
    "d_out_fake = D(G(batch.chord), batch.chord)\n",
    "\n",
    "print(\"real:\", d_out_real)\n",
    "print(\"fake:\", d_out_fake)"
   ]
  },
  {
   "cell_type": "markdown",
   "metadata": {},
   "source": [
    "# SchW-BERT-GANのファインチューニングの実施\n",
    "事前学習済みのものとの比較もやる"
   ]
  },
  {
   "cell_type": "markdown",
   "metadata": {},
   "source": [
    "### 学習用データの作成"
   ]
  },
  {
   "cell_type": "code",
   "execution_count": 11,
   "metadata": {},
   "outputs": [
    {
     "name": "stdout",
     "output_type": "stream",
     "text": [
      "data num: 17396\n",
      "batch num: 1088\n"
     ]
    }
   ],
   "source": [
    "batch_size = 16\n",
    "dataloader = TheorytabDataLoader(dataset, batch_size=batch_size, shuffle=True)\n",
    "print(\"data num:\", len(dataloader.dataset))\n",
    "print(\"batch num:\", len(dataloader))"
   ]
  },
  {
   "cell_type": "markdown",
   "metadata": {},
   "source": [
    "### モデルの用意"
   ]
  },
  {
   "cell_type": "code",
   "execution_count": 12,
   "metadata": {},
   "outputs": [
    {
     "name": "stdout",
     "output_type": "stream",
     "text": [
      "Use Multi GPUs\n",
      "Network settings completed\n",
      "#parameters of G: 240174\n",
      "#parameters of D: 230988\n"
     ]
    }
   ],
   "source": [
    "device = torch.device('cuda')\n",
    "init_weights = True\n",
    "multi_gpu = (visible_devices != []) & (device.type == 'cuda')\n",
    "\n",
    "if init_weights:\n",
    "    print(\"Use initialized bodies\")\n",
    "    g_body = make_body(config)\n",
    "    d_body = make_body(config)\n",
    "else:\n",
    "    print(\"Use pre-trained bodies\")\n",
    "    g_body = load_body(config, output_dir)\n",
    "    d_body = load_body(config, output_dir)\n",
    "\n",
    "G = SchWBertGenerator(config, g_body)\n",
    "D = SchWBertDiscriminator(config, d_body)\n",
    "\n",
    "G, D = G.to(device), D.to(device)\n",
    "\n",
    "if multi_gpu:\n",
    "    print(\"Use Multi GPUs\")\n",
    "    G, D = MultiGPUWrapper(G), MultiGPUWrapper(D)\n",
    "\n",
    "g_optim = optim.Adam(G.parameters(), lr=1e-5, betas=(0.9, 0.999))\n",
    "d_optim = optim.Adam(D.parameters(), lr=1e-5, betas=(0.9, 0.999))\n",
    "\n",
    "print(\"Network settings completed\")\n",
    "print(\"#parameters of G:\", count_params(G))\n",
    "print(\"#parameters of D:\", count_params(D))"
   ]
  },
  {
   "cell_type": "markdown",
   "metadata": {},
   "source": [
    "### 通常のGANによる学習の実施"
   ]
  },
  {
   "cell_type": "code",
   "execution_count": 13,
   "metadata": {},
   "outputs": [],
   "source": [
    "# G, Dはあらかじめdeviceへ渡されているものとする(使い勝手的に．Deviceの準備時間かかるので)\n",
    "def train_gan(G, D, g_optim, d_optim, dataloader, epoch_num, output_dir, device,\n",
    "              start_epoch=1, report_period=50, save_epoch_period=5, clear_disp_epoch_period=3, get_status_dict=True):\n",
    "    \n",
    "    batch_num = len(dataloader)\n",
    "\n",
    "    criterion = nn.BCEWithLogitsLoss(reduction='mean')\n",
    "    \n",
    "    G.train()\n",
    "    D.train()\n",
    "    \n",
    "    ones = torch.ones(dataloader.batch_size).to(device)\n",
    "    zeros = torch.zeros(dataloader.batch_size).to(device)\n",
    "    \n",
    "    if get_status_dict:\n",
    "        status_dict = { 'g_loss': [], 'd_loss': [], \"d_acc_real\": [], \"d_acc_fake\": []}\n",
    "        \n",
    "    \n",
    "    try:\n",
    "        for epoch in range(start_epoch, epoch_num+1):\n",
    "\n",
    "            t_epoch_start = time.time()\n",
    "            t_iter_start = time.time()\n",
    "\n",
    "            total_g_loss = 0.0\n",
    "            total_d_loss = 0.0\n",
    "            total_d_acc_real = 0.0\n",
    "            total_d_acc_fake = 0.0\n",
    "\n",
    "            print(f\"----- Epoch {epoch:>3} / {epoch_num:<3} start -----\")\n",
    "            for iteration, batch in enumerate(dataloader, 1):\n",
    "                \n",
    "                batch_size = len(batch.melody)\n",
    "                label_real = ones[:batch_size]\n",
    "                label_fake = zeros[:batch_size]\n",
    "\n",
    "                # 使用するのはmelodyのone-hotなのでmelodyはdeviceへ渡さない\n",
    "                batch.chord = batch.chord.to(device)\n",
    "                \n",
    "                #################\n",
    "                # Discriminator\n",
    "                #################\n",
    "                d_optim.zero_grad()\n",
    "                g_optim.zero_grad()\n",
    "                \n",
    "                with torch.set_grad_enabled(True):\n",
    "                    # 本物の画像と偽物の画像を判定\n",
    "                    d_out_real = D(batch.melody, batch.chord)\n",
    "                    d_out_fake = D(G(batch.chord), batch.chord)\n",
    "\n",
    "                    # 誤差を計算\n",
    "                    d_loss_real = criterion(d_out_real, label_real)\n",
    "                    d_loss_fake = criterion(d_out_fake, label_fake)\n",
    "                    d_loss = d_loss_real + d_loss_fake\n",
    "\n",
    "                    # 誤差逆伝搬\n",
    "                    d_loss.backward()\n",
    "                    d_optim.step()\n",
    "                \n",
    "                # 記録\n",
    "                d_loss_batch = d_loss.item()\n",
    "                d_acc_real = (d_out_real.cpu() >= 0.5).sum() / batch_size\n",
    "                d_acc_fake = (d_out_fake.cpu() <  0.5).sum() / batch_size\n",
    "                \n",
    "                total_d_loss += d_loss_batch\n",
    "                total_d_acc_real += d_acc_real\n",
    "                total_d_acc_fake += d_acc_fake\n",
    "\n",
    "\n",
    "                #################\n",
    "                # Generator\n",
    "                #################\n",
    "                d_optim.zero_grad()\n",
    "                g_optim.zero_grad()\n",
    "                \n",
    "                with torch.set_grad_enabled(True):\n",
    "                    # 偽の画像を生成して判定\n",
    "                    d_out_fake = D(G(batch.chord), batch.chord)\n",
    "\n",
    "                    # 誤差を計算\n",
    "                    g_loss = criterion(d_out_fake, label_real)\n",
    "\n",
    "                    # 誤差逆伝搬\n",
    "                    g_loss.backward()\n",
    "                    g_optim.step()\n",
    "                \n",
    "                # 記録\n",
    "                g_loss_batch = g_loss.item()\n",
    "                total_g_loss += g_loss_batch\n",
    "\n",
    "\n",
    "                #################\n",
    "                # Report\n",
    "                #################                \n",
    "                if (iteration % report_period == 0):\n",
    "                    duration = time.time() - t_iter_start\n",
    "                    print(f\"Iteration {iteration:>5}/{batch_num:<5} | G loss: {g_loss_batch:.6f} | D loss: {d_loss_batch:.6f} | D real: {d_acc_real:.2f} | D fake: {d_acc_fake:.2f} | {duration:.4f} [sec]\")\n",
    "                    t_iter_start = time.time()\n",
    "\n",
    "            d_loss_epoch = total_d_loss / batch_num\n",
    "            g_loss_epoch = total_g_loss / batch_num\n",
    "            d_acc_real_epoch = total_d_acc_real / batch_num\n",
    "            d_acc_fake_epoch = total_d_acc_fake / batch_num\n",
    "            print(f\"Epoch {epoch:>3}/{epoch_num:<3} Average | G loss: {g_loss_epoch:.6f} | D loss: {d_loss_epoch:.6f}| D real: {d_acc_real_epoch:.2f} | D fake: {d_acc_fake_epoch:.2f}\\n\")\n",
    "            \n",
    "            if get_status_dict:\n",
    "                status_dict['g_loss'].append(g_loss_epoch)\n",
    "                status_dict['d_loss'].append(d_loss_epoch)\n",
    "                status_dict['d_acc_real'].append(d_acc_real_epoch)\n",
    "                status_dict['d_acc_fake'].append(d_acc_fake_epoch)\n",
    "            \n",
    "            epoch_duration = time.time() - t_epoch_start\n",
    "            print(f\"Epoch {epoch:>3} / {epoch_num:<3} finished in {epoch_duration:.4f}[sec]\")\n",
    "            remain_sec = epoch_duration * (epoch_num - epoch)\n",
    "            print(f\"Remaining Time | {remain_sec/3600:.4f} [hour] | {remain_sec/60:.2f} [min] | {remain_sec:.0f} [sec]\\n\")\n",
    "            \n",
    "            if epoch % clear_disp_epoch_period == 0:\n",
    "                clear_output()\n",
    "                \n",
    "            # チェックポイントモデルの保存\n",
    "            if (epoch % save_epoch_period == 0):\n",
    "                print(\"start saving models\")\n",
    "                save_model(config, G, epoch, output_dir)\n",
    "                save_model(config, D, epoch, output_dir)\n",
    "                print(\"\")\n",
    "\n",
    "        print(\"All Fine-Tuning Finished!\")\n",
    "    \n",
    "    except KeyboardInterrupt:\n",
    "        print(\"Keyboard interrupted, but return models.\")\n",
    "        if get_status_dict:\n",
    "            return G, D, status_dict\n",
    "        return G, D\n",
    "    \n",
    "    if get_status_dict:\n",
    "        return G, D, status_dict\n",
    "    return G, D"
   ]
  },
  {
   "cell_type": "code",
   "execution_count": 14,
   "metadata": {},
   "outputs": [
    {
     "name": "stdout",
     "output_type": "stream",
     "text": [
      "----- Epoch   1 / 2   start -----\n",
      "Iteration   108/1088  | G loss: 0.726401 | D loss: 1.357253 | D real: 0.00 | D fake: 1.00 | 71.6208 [sec]\n",
      "Iteration   216/1088  | G loss: 0.694315 | D loss: 1.380672 | D real: 0.00 | D fake: 1.00 | 62.5234 [sec]\n",
      "Iteration   324/1088  | G loss: 0.676780 | D loss: 1.378604 | D real: 0.00 | D fake: 1.00 | 63.2839 [sec]\n",
      "Iteration   432/1088  | G loss: 0.689190 | D loss: 1.368807 | D real: 0.00 | D fake: 1.00 | 63.3203 [sec]\n",
      "Iteration   540/1088  | G loss: 0.701472 | D loss: 1.369470 | D real: 0.00 | D fake: 1.00 | 63.2596 [sec]\n",
      "Iteration   648/1088  | G loss: 0.662124 | D loss: 1.417057 | D real: 0.00 | D fake: 1.00 | 63.3147 [sec]\n",
      "Iteration   756/1088  | G loss: 0.715476 | D loss: 1.288393 | D real: 0.00 | D fake: 1.00 | 63.7555 [sec]\n",
      "Iteration   864/1088  | G loss: 0.733044 | D loss: 1.256691 | D real: 0.00 | D fake: 1.00 | 63.8142 [sec]\n",
      "Iteration   972/1088  | G loss: 0.700050 | D loss: 1.339591 | D real: 0.00 | D fake: 1.00 | 63.2050 [sec]\n",
      "Iteration  1080/1088  | G loss: 0.691566 | D loss: 1.374875 | D real: 0.00 | D fake: 1.00 | 63.7774 [sec]\n",
      "Epoch   1/2   Average | G loss: 0.691902 | D loss: 1.356271| D real: 0.00 | D fake: 0.97\n",
      "\n",
      "Epoch   1 / 2   finished in 646.5480[sec]\n",
      "Remaining Time | 0.1796 [hour] | 10.78 [min] | 647 [sec]\n",
      "\n",
      "----- Epoch   2 / 2   start -----\n",
      "Iteration   108/1088  | G loss: 0.725716 | D loss: 1.311077 | D real: 0.00 | D fake: 1.00 | 63.6089 [sec]\n",
      "Iteration   216/1088  | G loss: 0.724407 | D loss: 1.224622 | D real: 0.00 | D fake: 1.00 | 63.5943 [sec]\n",
      "Iteration   324/1088  | G loss: 0.692638 | D loss: 1.387082 | D real: 0.00 | D fake: 1.00 | 63.5455 [sec]\n",
      "Iteration   432/1088  | G loss: 0.692421 | D loss: 1.386760 | D real: 0.00 | D fake: 1.00 | 63.7096 [sec]\n",
      "Iteration   540/1088  | G loss: 0.692715 | D loss: 1.386697 | D real: 0.00 | D fake: 1.00 | 63.5527 [sec]\n",
      "Iteration   648/1088  | G loss: 0.692893 | D loss: 1.386525 | D real: 0.00 | D fake: 1.00 | 63.6091 [sec]\n",
      "Iteration   756/1088  | G loss: 0.692727 | D loss: 1.386516 | D real: 0.00 | D fake: 1.00 | 64.2746 [sec]\n",
      "Iteration   864/1088  | G loss: 0.693004 | D loss: 1.386435 | D real: 0.00 | D fake: 1.00 | 63.4524 [sec]\n",
      "Iteration   972/1088  | G loss: 0.692867 | D loss: 1.386422 | D real: 0.00 | D fake: 1.00 | 63.8260 [sec]\n",
      "Iteration  1080/1088  | G loss: 0.694379 | D loss: 1.386399 | D real: 0.00 | D fake: 1.00 | 63.7725 [sec]\n",
      "Epoch   2/2   Average | G loss: 0.691008 | D loss: 1.377698| D real: 0.00 | D fake: 0.93\n",
      "\n",
      "Epoch   2 / 2   finished in 641.6415[sec]\n",
      "Remaining Time | 0.0000 [hour] | 0.00 [min] | 0 [sec]\n",
      "\n",
      "All Fine-Tuning Finished!\n"
     ]
    }
   ],
   "source": [
    "epoch_num = 2\n",
    "G_trained, D_trained, status_dict = train_gan(\n",
    "    G=G, D=D,\n",
    "    g_optim=g_optim, d_optim=d_optim,\n",
    "    dataloader=dataloader,\n",
    "    epoch_num=epoch_num,\n",
    "    output_dir=output_dir,\n",
    "    device=device,\n",
    "    start_epoch=1,\n",
    "    report_period=len(dataloader) // 10,\n",
    "    save_epoch_period = 100\n",
    ")"
   ]
  },
  {
   "cell_type": "markdown",
   "metadata": {},
   "source": [
    "Lossグラフの表示"
   ]
  },
  {
   "cell_type": "code",
   "execution_count": 15,
   "metadata": {},
   "outputs": [],
   "source": [
    "def show_status_graph(status_dict, title=\"A loss graph of G and D\"):\n",
    "    g_loss = status_dict['g_loss']\n",
    "    d_loss = status_dict['d_loss']\n",
    "    d_acc_real = status_dict['d_acc_real']\n",
    "    d_acc_fake = status_dict['d_acc_fake']\n",
    "    x = np.arange(len(g_loss))\n",
    "    \n",
    "    fig, axs = plt.subplots(1, 2, figsize=(12, 6))\n",
    "        \n",
    "    axs[0].plot(x, g_loss, label='G', linewidth=1.5)\n",
    "    axs[0].plot(x, d_loss, label='D', linewidth=1.5)\n",
    "    axs[0].legend(loc='upper right')\n",
    "    axs[0].set_xlabel('epoch')\n",
    "    axs[0].set_ylabel('loss')\n",
    "    axs[0].set_title(f\"Loss\")\n",
    "\n",
    "    axs[1].plot(x, d_acc_real, label='real', linewidth=1.5)\n",
    "    axs[1].plot(x, d_acc_fake, label='fake', linewidth=1.5)\n",
    "    axs[1].legend(loc='lower right')\n",
    "    axs[1].set_xlabel('epoch')\n",
    "    axs[1].set_ylabel('acc')\n",
    "    axs[1].set_title(f\"Acc of D\")\n",
    "\n",
    "    plt.show()"
   ]
  },
  {
   "cell_type": "code",
   "execution_count": 16,
   "metadata": {},
   "outputs": [
    {
     "data": {
      "image/png": "[encoded data removed]",
      "text/plain": [
       "<Figure size 864x432 with 2 Axes>"
      ]
     },
     "metadata": {
      "needs_background": "light"
     },
     "output_type": "display_data"
    }
   ],
   "source": [
    "show_status_graph(status_dict)"
   ]
  },
  {
   "cell_type": "markdown",
   "metadata": {},
   "source": [
    "生成データの確認"
   ]
  },
  {
   "cell_type": "code",
   "execution_count": 18,
   "metadata": {},
   "outputs": [
    {
     "data": {
      "image/png": "[encoded data removed]",
      "text/plain": [
       "<Figure size 1512x720 with 2 Axes>"
      ]
     },
     "metadata": {
      "needs_background": "light"
     },
     "output_type": "display_data"
    }
   ],
   "source": [
    "batch = dataloader()\n",
    "batch_id = 0\n",
    "\n",
    "g_out = G_trained(batch.chord.to(device))\n",
    "g_melody = G_trained.to_ids(g_out).cpu().numpy()\n",
    "\n",
    "bundle = Bundle({\n",
    "    'melody': g_melody[batch_id],\n",
    "    'chord': batch.chord[batch_id],\n",
    "    'meta': batch.meta[batch_id]\n",
    "})\n",
    "\n",
    "bundle.meta.melody_pitch_range = [0, config.melody_vocab_size]\n",
    "ppr = bundle.get_ppr()\n",
    "grid_plot(ppr, beat_resolution=bundle.meta.beat_resolution)"
   ]
  },
  {
   "cell_type": "markdown",
   "metadata": {},
   "source": [
    "通常のGAN，手も足も出ない"
   ]
  },
  {
   "cell_type": "markdown",
   "metadata": {},
   "source": [
    "### WGAN-gpによる学習の実施\n",
    "参考：https://github.com/caogang/wgan-gp/blob/master/gan_mnist.py"
   ]
  },
  {
   "cell_type": "code",
   "execution_count": null,
   "metadata": {},
   "outputs": [],
   "source": [
    "def calc_gradient_penalty(netD, real_data, fake_data):\n",
    "    batch_size = real_data.shape[0]\n",
    "    device = real_data.device\n",
    "    \n",
    "    alpha = torch.rand(batch_size, 1)\n",
    "    alpha = alpha.expand(real_data.size())\n",
    "    alpha = alpha.to(device)\n",
    "\n",
    "    interpolates = alpha * real_data + ((1 - alpha) * fake_data)\n",
    "    interpolates = interpolates.to(device)\n",
    "    interpolates = autograd.Variable(interpolates, requires_grad=True)\n",
    "\n",
    "    disc_interpolates = netD(interpolates)\n",
    "\n",
    "    gradients = autograd.grad(outputs=disc_interpolates, inputs=interpolates,\n",
    "                              grad_outputs=torch.ones(disc_interpolates.size()).to(device),\n",
    "                              create_graph=True, retain_graph=True, only_inputs=True)[0]\n",
    "\n",
    "    gradient_penalty = ((gradients.norm(2, dim=1) - 1) ** 2).mean() * config.gp_lambda\n",
    "    return gradient_penalty"
   ]
  },
  {
   "cell_type": "code",
   "execution_count": null,
   "metadata": {},
   "outputs": [],
   "source": [
    "one = torch.FloatTensor([1])\n",
    "mone = one * -1\n",
    "\n",
    "for iteration in xrange(ITERS):\n",
    "    start_time = time.time()\n",
    "    ############################\n",
    "    # (1) Update D network\n",
    "    ###########################\n",
    "    for p in netD.parameters():  # reset requires_grad\n",
    "        p.requires_grad = True  # they are set to False below in netG update\n",
    "\n",
    "    for iter_d in xrange(CRITIC_ITERS):\n",
    "        _data = data.next()\n",
    "        real_data = torch.Tensor(_data)\n",
    "        if use_cuda:\n",
    "            real_data = real_data.cuda(gpu)\n",
    "        real_data_v = autograd.Variable(real_data)\n",
    "\n",
    "        netD.zero_grad()\n",
    "\n",
    "        # train with real\n",
    "        D_real = netD(real_data_v)\n",
    "        D_real = D_real.mean()\n",
    "        # print D_real\n",
    "        D_real.backward(mone)\n",
    "\n",
    "        # train with fake\n",
    "        noise = torch.randn(BATCH_SIZE, 128)\n",
    "        if use_cuda:\n",
    "            noise = noise.cuda(gpu)\n",
    "        noisev = autograd.Variable(noise, volatile=True)  # totally freeze netG\n",
    "        fake = autograd.Variable(netG(noisev).data)\n",
    "        inputv = fake\n",
    "        D_fake = netD(inputv)\n",
    "        D_fake = D_fake.mean()\n",
    "        D_fake.backward(one)\n",
    "\n",
    "        # train with gradient penalty\n",
    "        gradient_penalty = calc_gradient_penalty(netD, real_data_v.data, fake.data)\n",
    "        gradient_penalty.backward()\n",
    "\n",
    "        D_cost = D_fake - D_real + gradient_penalty\n",
    "        Wasserstein_D = D_real - D_fake\n",
    "        optimizerD.step()\n",
    "\n",
    "    ############################\n",
    "    # (2) Update G network\n",
    "    ###########################\n",
    "    for p in netD.parameters():\n",
    "        p.requires_grad = False  # to avoid computation\n",
    "    netG.zero_grad()\n",
    "\n",
    "    noise = torch.randn(BATCH_SIZE, 128)\n",
    "    if use_cuda:\n",
    "        noise = noise.cuda(gpu)\n",
    "    noisev = autograd.Variable(noise)\n",
    "    fake = netG(noisev)\n",
    "    G = netD(fake)\n",
    "    G = G.mean()\n",
    "    G.backward(mone)\n",
    "    G_cost = -G\n",
    "    optimizerG.step()"
   ]
  },
  {
   "cell_type": "code",
   "execution_count": null,
   "metadata": {},
   "outputs": [],
   "source": [
    "# G, Dはあらかじめdeviceへ渡されているものとする(使い勝手的に．Deviceの準備時間かかるので)\n",
    "def train_wgan_gp(G, D, g_optim, d_optim, dataloader, epoch_num, output_dir, device,\n",
    "              start_epoch=1, report_period=50, save_epoch_period=5, clear_disp_epoch_period=3, get_status_dict=True):\n",
    "    \n",
    "    batch_num = len(dataloader)\n",
    "\n",
    "    criterion = nn.BCEWithLogitsLoss(reduction='mean')\n",
    "    \n",
    "    G.train()\n",
    "    D.train()\n",
    "    \n",
    "    ones = torch.ones(dataloader.batch_size).to(device)\n",
    "    zeros = torch.zeros(dataloader.batch_size).to(device)\n",
    "    \n",
    "    if get_status_dict:\n",
    "        status_dict = { 'g_loss': [], 'd_loss': [], \"d_acc_real\": [], \"d_acc_fake\": []}\n",
    "        \n",
    "    \n",
    "    try:\n",
    "        for epoch in range(start_epoch, epoch_num+1):\n",
    "\n",
    "            t_epoch_start = time.time()\n",
    "            t_iter_start = time.time()\n",
    "\n",
    "            total_g_loss = 0.0\n",
    "            total_d_loss = 0.0\n",
    "            total_d_acc_real = 0.0\n",
    "            total_d_acc_fake = 0.0\n",
    "\n",
    "            print(f\"----- Epoch {epoch:>3} / {epoch_num:<3} start -----\")\n",
    "            for iteration, batch in enumerate(dataloader, 1):\n",
    "                \n",
    "                batch_size = len(batch.melody)\n",
    "                label_real = ones[:batch_size]\n",
    "                label_fake = zeros[:batch_size]\n",
    "\n",
    "                # 使用するのはmelodyのone-hotなのでmelodyはdeviceへ渡さない\n",
    "                batch.chord = batch.chord.to(device)\n",
    "                \n",
    "                #################\n",
    "                # Discriminator\n",
    "                #################\n",
    "                d_optim.zero_grad()\n",
    "                g_optim.zero_grad()\n",
    "                \n",
    "                with torch.set_grad_enabled(True):\n",
    "                    # 本物の画像と偽物の画像を判定\n",
    "                    d_out_real = D(batch.melody, batch.chord)\n",
    "                    d_out_fake = D(G(batch.chord), batch.chord)\n",
    "                    \n",
    "                    d_out_real.mean()\n",
    "                    d_out_fake.mean()\n",
    "\n",
    "                    # 誤差を計算\n",
    "                    d_loss_real = criterion(d_out_real, label_real)\n",
    "                    d_loss_fake = criterion(d_out_fake, label_fake)\n",
    "                    d_loss = d_loss_real + d_loss_fake\n",
    "\n",
    "                    # 誤差逆伝搬\n",
    "                    d_loss.backward()\n",
    "                    d_optim.step()\n",
    "                \n",
    "                # 記録\n",
    "                d_loss_batch = d_loss.item()\n",
    "                d_acc_real = (d_out_real.cpu() >= 0.5).sum() / batch_size\n",
    "                d_acc_fake = (d_out_fake.cpu() <  0.5).sum() / batch_size\n",
    "                \n",
    "                total_d_loss += d_loss_batch\n",
    "                total_d_acc_real += d_acc_real\n",
    "                total_d_acc_fake += d_acc_fake\n",
    "\n",
    "\n",
    "                #################\n",
    "                # Generator\n",
    "                #################\n",
    "                d_optim.zero_grad()\n",
    "                g_optim.zero_grad()\n",
    "                \n",
    "                with torch.set_grad_enabled(True):\n",
    "                    # 偽の画像を生成して判定\n",
    "                    d_out_fake = D(G(batch.chord), batch.chord)\n",
    "\n",
    "                    # 誤差を計算\n",
    "                    g_loss = criterion(d_out_fake, label_real)\n",
    "\n",
    "                    # 誤差逆伝搬\n",
    "                    g_loss.backward()\n",
    "                    g_optim.step()\n",
    "                \n",
    "                # 記録\n",
    "                g_loss_batch = g_loss.item()\n",
    "                total_g_loss += g_loss_batch\n",
    "\n",
    "\n",
    "                #################\n",
    "                # Report\n",
    "                #################                \n",
    "                if (iteration % report_period == 0):\n",
    "                    duration = time.time() - t_iter_start\n",
    "                    print(f\"Iteration {iteration:>5}/{batch_num:<5} | G loss: {g_loss_batch:.6f} | D loss: {d_loss_batch:.6f} | D real: {d_acc_real:.2f} | D fake: {d_acc_fake:.2f} | {duration:.4f} [sec]\")\n",
    "                    t_iter_start = time.time()\n",
    "\n",
    "            d_loss_epoch = total_d_loss / batch_num\n",
    "            g_loss_epoch = total_g_loss / batch_num\n",
    "            d_acc_real_epoch = total_d_acc_real / batch_num\n",
    "            d_acc_fake_epoch = total_d_acc_fake / batch_num\n",
    "            print(f\"Epoch {epoch:>3}/{epoch_num:<3} Average | G loss: {g_loss_epoch:.6f} | D loss: {d_loss_epoch:.6f}| D real: {d_acc_real_epoch:.2f} | D fake: {d_acc_fake_epoch:.2f}\\n\")\n",
    "            \n",
    "            if get_status_dict:\n",
    "                status_dict['g_loss'].append(g_loss_epoch)\n",
    "                status_dict['d_loss'].append(d_loss_epoch)\n",
    "                status_dict['d_acc_real'].append(d_acc_real_epoch)\n",
    "                status_dict['d_acc_fake'].append(d_acc_fake_epoch)\n",
    "            \n",
    "            epoch_duration = time.time() - t_epoch_start\n",
    "            print(f\"Epoch {epoch:>3} / {epoch_num:<3} finished in {epoch_duration:.4f}[sec]\")\n",
    "            remain_sec = epoch_duration * (epoch_num - epoch)\n",
    "            print(f\"Remaining Time | {remain_sec/3600:.4f} [hour] | {remain_sec/60:.2f} [min] | {remain_sec:.0f} [sec]\\n\")\n",
    "            \n",
    "            if epoch % clear_disp_epoch_period == 0:\n",
    "                clear_output()\n",
    "                \n",
    "            # チェックポイントモデルの保存\n",
    "            if (epoch % save_epoch_period == 0):\n",
    "                print(\"start saving models\")\n",
    "                save_model(config, G, epoch, output_dir)\n",
    "                save_model(config, D, epoch, output_dir)\n",
    "                print(\"\")\n",
    "\n",
    "        print(\"All Fine-Tuning Finished!\")\n",
    "    \n",
    "    except KeyboardInterrupt:\n",
    "        print(\"Keyboard interrupted, but return models.\")\n",
    "        if get_status_dict:\n",
    "            return G, D, status_dict\n",
    "        return G, D\n",
    "    \n",
    "    if get_status_dict:\n",
    "        return G, D, status_dict\n",
    "    return G, D"
   ]
  }
 ],
 "metadata": {
  "kernelspec": {
   "display_name": "Python 3",
   "language": "python",
   "name": "python3"
  },
  "language_info": {
   "codemirror_mode": {
    "name": "ipython",
    "version": 3
   },
   "file_extension": ".py",
   "mimetype": "text/x-python",
   "name": "python",
   "nbconvert_exporter": "python",
   "pygments_lexer": "ipython3",
   "version": "3.7.3"
  }
 },
 "nbformat": 4,
 "nbformat_minor": 4
}
