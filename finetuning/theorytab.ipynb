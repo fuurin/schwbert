{
 "cells": [
  {
   "cell_type": "markdown",
   "metadata": {},
   "source": [
    "# SchW-BERT-GAN ファインチューニング\n",
    "Theorytabデータセットを使用\n",
    "- 事前学習済みのモデルを使用したSchW-BERT-GAN用のモジュールの定義\n",
    "    - body選択\n",
    "    - SchwBertGenerator\n",
    "    - SchwBertDiscriminator\n",
    "- SchW-BERT-GANのファインチューニングの実施\n",
    "    - ファインチューニング用関数を作成\n",
    "    - 事前学習済みのものと比較\n",
    "- SchW-BERT-GANによる音楽自動生成\n",
    "    - コードをデータセットからランダムに選んできて生成\n",
    "\n",
    "WGAN-gpの実装は[caogang/wgan-gp](https://github.com/caogang/wgan-gp/blob/master/gan_mnist.py)が参考になる"
   ]
  },
  {
   "cell_type": "code",
   "execution_count": 1,
   "metadata": {},
   "outputs": [
    {
     "name": "stdout",
     "output_type": "stream",
     "text": [
      "current dir: /root/schwbert\n"
     ]
    }
   ],
   "source": [
    "import os, time, math, json, random\n",
    "import datetime\n",
    "import hickle as hkl\n",
    "import numpy as np\n",
    "import torch\n",
    "import torch.nn as nn\n",
    "import torch.optim as optim\n",
    "from torch.utils.data import random_split\n",
    "from pypianoroll import Track, Multitrack\n",
    "from attrdict import AttrDict\n",
    "from IPython.display import clear_output\n",
    "import matplotlib.pyplot as plt\n",
    "%matplotlib inline\n",
    "\n",
    "# カレントディレクトリをリポジトリ直下にして自家製モジュールをimport\n",
    "while os.getcwd().split('/')[-1] != 'schwbert': os.chdir('..')\n",
    "print('current dir:', os.getcwd())\n",
    "from utils import Timer, grid_plot\n",
    "from bundle import Bundle\n",
    "from dataloader import TheorytabDataset, TheorytabDataLoader\n",
    "from model import MusicEmbeddings, MelodyEmbeddings, ChordEmbeddings, ConditionalBertBody\n",
    "from save_and_load import save_model, load_model\n",
    "from save_and_load import save_body, load_body\n",
    "from save_and_load import save_config, load_config"
   ]
  },
  {
   "cell_type": "code",
   "execution_count": 2,
   "metadata": {},
   "outputs": [],
   "source": [
    "base_dir = \"../datasets\"\n",
    "schwbert_dir = os.path.join(base_dir, \"schwbert\")\n",
    "\n",
    "input_dir = os.path.join(schwbert_dir, \"data\", \"theorytab\")\n",
    "input_path = os.path.join(input_dir, \"original.hkl\")\n",
    "\n",
    "output_base_dir = os.path.join(schwbert_dir, \"models\")\n",
    "output_dir = os.path.join(output_base_dir, \"theorytab\")\n",
    "\n",
    "for directory in [schwbert_dir, output_base_dir, output_dir]:\n",
    "    if not os.path.exists(directory):\n",
    "        os.mkdir(directory)"
   ]
  },
  {
   "cell_type": "markdown",
   "metadata": {},
   "source": [
    "### データのロード"
   ]
  },
  {
   "cell_type": "code",
   "execution_count": null,
   "metadata": {},
   "outputs": [],
   "source": [
    "with Timer():\n",
    "     bundle_list = hkl.load(input_path)\n",
    "dataset = TheorytabDataset(bundle_list)\n",
    "train_dataset, val_dataset, test_dataset = dataset.split([0.8, 0.17, 0.03], shuffle=True)\n",
    "\n",
    "print(\"all bundle size:\", len(bundle_list))\n",
    "print(\"train size :\", len(train_dataset))\n",
    "print(\"val   size :\", len(val_dataset))\n",
    "print(\"test  size :\", len(test_dataset))"
   ]
  },
  {
   "cell_type": "markdown",
   "metadata": {},
   "source": [
    "↓ファインチューニングの節で使うセル"
   ]
  },
  {
   "cell_type": "code",
   "execution_count": null,
   "metadata": {},
   "outputs": [],
   "source": [
    "batch_size = 10\n",
    "dataloaders_dict = {\n",
    "    'train': TheorytabDataLoader(train_dataset, batch_size=batch_size, shuffle=True),\n",
    "    'val': TheorytabDataLoader(val_dataset, batch_size=batch_size, shuffle=True),\n",
    "    'test': TheorytabDataLoader(test_dataset, batch_size=batch_size/2)\n",
    "}\n",
    "print(f\"train data size: {len(dataloaders_dict['train'].dataset):<5}, batch num: {len(dataloaders_dict['train']):<5}\")\n",
    "print(f\"  val data size: {len(dataloaders_dict['val'].dataset):<5}, batch num: {len(dataloaders_dict['val']):<5}\")\n",
    "print(f\" test data size: {len(dataloaders_dict['test'].dataset):<5}, batch num: {len(dataloaders_dict['test']):<5}\")"
   ]
  },
  {
   "cell_type": "markdown",
   "metadata": {},
   "source": [
    "# SchW-BERT-GAN用のモジュールの定義\n",
    "- SchwBertGenerator*\n",
    "    - ConditionalBertBody\n",
    "        - NoiseEmbeddings*: ノイズベクトル→Denseをstep数出力\n",
    "        - ChordEmbeddings\n",
    "    - GeneratorHead*: Denseをかけ，(最大出力のところを1にした)?メロディを出力\n",
    "- SchwBertDiscriminator*\n",
    "    - ConditionalBertBody\n",
    "        - MelodyEmebeddings\n",
    "        - ChordEmbeddings\n",
    "    - DiscriminatorHead*: (Denseを縦横にかけ)?，本物と偽物を区別するよう2値分類\n",
    "\n",
    "✳︎ついてるやつが新規作成モジュール"
   ]
  },
  {
   "cell_type": "markdown",
   "metadata": {},
   "source": [
    "## Generatorの実装"
   ]
  },
  {
   "cell_type": "markdown",
   "metadata": {},
   "source": [
    "### NoiseEmbeddingsの実装"
   ]
  },
  {
   "cell_type": "code",
   "execution_count": null,
   "metadata": {},
   "outputs": [],
   "source": [
    "class NoiseEmbeddings(MusicEmbeddings):\n",
    "    def __init__(self, config):\n",
    "        super(NoiseEmbeddings, self).__init__(config)\n",
    "        self.noise_size = config.noise_size\n",
    "        self.input_emb = nn.Linear(self.noise_size, config.hidden_size)\n",
    "    \n",
    "    def forward(self, input_tensor):\n",
    "        # input_tesorはデバイスとサイズ取得用\n",
    "        \n",
    "        # ノイズバッチを作成\n",
    "        \n",
    "        return super().forward(noise)"
   ]
  }
 ],
 "metadata": {
  "kernelspec": {
   "display_name": "Python 3",
   "language": "python",
   "name": "python3"
  },
  "language_info": {
   "codemirror_mode": {
    "name": "ipython",
    "version": 3
   },
   "file_extension": ".py",
   "mimetype": "text/x-python",
   "name": "python",
   "nbconvert_exporter": "python",
   "pygments_lexer": "ipython3",
   "version": "3.7.3"
  }
 },
 "nbformat": 4,
 "nbformat_minor": 4
}
