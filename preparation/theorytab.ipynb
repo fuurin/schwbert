{
 "cells": [
  {
   "cell_type": "markdown",
   "metadata": {},
   "source": [
    "# SchW-BERT-GAN データ前処理\n",
    "theorytabデータセットを使ったSchW-BERT-GAN用データの処理  \n",
    "melody, chord, metaをまとめたデータをbundleと呼び，その数をbundle_numとする"
   ]
  },
  {
   "cell_type": "code",
   "execution_count": 1,
   "metadata": {},
   "outputs": [
    {
     "name": "stdout",
     "output_type": "stream",
     "text": [
      "32 cpus are available.\n",
      "current dir: /root/schwbert\n"
     ]
    }
   ],
   "source": [
    "import os\n",
    "import hickle as hkl\n",
    "import numpy as np\n",
    "import pandas as pd\n",
    "from pypianoroll import Multitrack, Track\n",
    "import matplotlib.pyplot as plt\n",
    "%matplotlib inline\n",
    "\n",
    "from multiprocessing import Pool, cpu_count\n",
    "print(f\"{cpu_count()} cpus are available.\")\n",
    "\n",
    "# カレントディレクトリをリポジトリ直下にして自家製モジュールをimport\n",
    "while os.getcwd().split('/')[-1] != 'schwbert': os.chdir('..')\n",
    "print('current dir:', os.getcwd())\n",
    "from utils import Timer, Sampler, grid_plot\n",
    "from preparation.bundle import Bundle, PypianorollBundler\n",
    "from preparation.processor import BundlesProcessor, SequentialBundlesProcessor"
   ]
  },
  {
   "cell_type": "code",
   "execution_count": 2,
   "metadata": {},
   "outputs": [],
   "source": [
    "base_dir = \"../datasets\"\n",
    "theorytab_dir = os.path.join(base_dir, \"theorytab\")\n",
    "input_dir = os.path.join(theorytab_dir, \"pianoroll\")\n",
    "input_csv = os.path.join(theorytab_dir, \"theorytab.csv\")\n",
    "\n",
    "schwbert_dir = os.path.join(base_dir, \"schwbert\")\n",
    "output_base_dir = os.path.join(schwbert_dir, \"data\")\n",
    "output_dir = os.path.join(output_base_dir, \"theorytab\")\n",
    "output_path = os.path.join(output_dir, \"original.hkl\")\n",
    "\n",
    "for directory in [schwbert_dir, output_base_dir, output_dir]:\n",
    "    if not os.path.exists(directory):\n",
    "        os.mkdir(directory)"
   ]
  },
  {
   "cell_type": "code",
   "execution_count": 3,
   "metadata": {},
   "outputs": [
    {
     "name": "stdout",
     "output_type": "stream",
     "text": [
      "(16386, 23)\n"
     ]
    },
    {
     "data": {
      "text/html": [
       "<div>\n",
       "<style scoped>\n",
       "    .dataframe tbody tr th:only-of-type {\n",
       "        vertical-align: middle;\n",
       "    }\n",
       "\n",
       "    .dataframe tbody tr th {\n",
       "        vertical-align: top;\n",
       "    }\n",
       "\n",
       "    .dataframe thead th {\n",
       "        text-align: right;\n",
       "    }\n",
       "</style>\n",
       "<table border=\"1\" class=\"dataframe\">\n",
       "  <thead>\n",
       "    <tr style=\"text-align: right;\">\n",
       "      <th></th>\n",
       "      <th>index</th>\n",
       "      <th>Unnamed: 0</th>\n",
       "      <th>path</th>\n",
       "      <th>artist</th>\n",
       "      <th>song</th>\n",
       "      <th>section</th>\n",
       "      <th>nokey</th>\n",
       "      <th>key_signature</th>\n",
       "      <th>estimated_key_signature</th>\n",
       "      <th>in_scale_rate</th>\n",
       "      <th>...</th>\n",
       "      <th>lowest_melody</th>\n",
       "      <th>highest_chord</th>\n",
       "      <th>lowest_chord</th>\n",
       "      <th>bpm</th>\n",
       "      <th>time_signature</th>\n",
       "      <th>beats</th>\n",
       "      <th>bars</th>\n",
       "      <th>time</th>\n",
       "      <th>has_melody_track</th>\n",
       "      <th>has_chord_track</th>\n",
       "    </tr>\n",
       "  </thead>\n",
       "  <tbody>\n",
       "    <tr>\n",
       "      <th>0</th>\n",
       "      <td>0</td>\n",
       "      <td>0</td>\n",
       "      <td>q/quincy-jones-and-his-orchestra/soul-bossa-no...</td>\n",
       "      <td>quincy-jones-and-his-orchestra</td>\n",
       "      <td>soul-bossa-nova</td>\n",
       "      <td>chorus</td>\n",
       "      <td>False</td>\n",
       "      <td>Bb Major</td>\n",
       "      <td>Bb Major</td>\n",
       "      <td>0.88278</td>\n",
       "      <td>...</td>\n",
       "      <td>65.0</td>\n",
       "      <td>63.0</td>\n",
       "      <td>43.0</td>\n",
       "      <td>146</td>\n",
       "      <td>4/4</td>\n",
       "      <td>48</td>\n",
       "      <td>12</td>\n",
       "      <td>19.73</td>\n",
       "      <td>True</td>\n",
       "      <td>True</td>\n",
       "    </tr>\n",
       "    <tr>\n",
       "      <th>1</th>\n",
       "      <td>2</td>\n",
       "      <td>2</td>\n",
       "      <td>q/queen-and-bowie/under-pressure/intro-and-ver...</td>\n",
       "      <td>queen-and-bowie</td>\n",
       "      <td>under-pressure</td>\n",
       "      <td>intro,verse</td>\n",
       "      <td>False</td>\n",
       "      <td>D Major</td>\n",
       "      <td>D Major</td>\n",
       "      <td>1.00000</td>\n",
       "      <td>...</td>\n",
       "      <td>57.0</td>\n",
       "      <td>57.0</td>\n",
       "      <td>45.0</td>\n",
       "      <td>120</td>\n",
       "      <td>4/4</td>\n",
       "      <td>32</td>\n",
       "      <td>8</td>\n",
       "      <td>16.00</td>\n",
       "      <td>True</td>\n",
       "      <td>True</td>\n",
       "    </tr>\n",
       "    <tr>\n",
       "      <th>2</th>\n",
       "      <td>5</td>\n",
       "      <td>5</td>\n",
       "      <td>q/queen-and-bowie/under-pressure/intro_key.mid</td>\n",
       "      <td>queen-and-bowie</td>\n",
       "      <td>under-pressure</td>\n",
       "      <td>intro</td>\n",
       "      <td>False</td>\n",
       "      <td>D Major</td>\n",
       "      <td>D Major</td>\n",
       "      <td>1.00000</td>\n",
       "      <td>...</td>\n",
       "      <td>57.0</td>\n",
       "      <td>61.0</td>\n",
       "      <td>50.0</td>\n",
       "      <td>240</td>\n",
       "      <td>4/4</td>\n",
       "      <td>32</td>\n",
       "      <td>8</td>\n",
       "      <td>8.00</td>\n",
       "      <td>True</td>\n",
       "      <td>True</td>\n",
       "    </tr>\n",
       "    <tr>\n",
       "      <th>3</th>\n",
       "      <td>8</td>\n",
       "      <td>8</td>\n",
       "      <td>q/queen/the-show-must-go-on/intro-and-verse_ke...</td>\n",
       "      <td>queen</td>\n",
       "      <td>the-show-must-go-on</td>\n",
       "      <td>intro,verse</td>\n",
       "      <td>False</td>\n",
       "      <td>B Major</td>\n",
       "      <td>B minor</td>\n",
       "      <td>0.64627</td>\n",
       "      <td>...</td>\n",
       "      <td>70.0</td>\n",
       "      <td>59.0</td>\n",
       "      <td>42.0</td>\n",
       "      <td>83</td>\n",
       "      <td>4/4</td>\n",
       "      <td>57</td>\n",
       "      <td>14</td>\n",
       "      <td>40.48</td>\n",
       "      <td>True</td>\n",
       "      <td>True</td>\n",
       "    </tr>\n",
       "    <tr>\n",
       "      <th>4</th>\n",
       "      <td>10</td>\n",
       "      <td>10</td>\n",
       "      <td>q/queen/the-show-must-go-on/bridge_key.mid</td>\n",
       "      <td>queen</td>\n",
       "      <td>the-show-must-go-on</td>\n",
       "      <td>bridge</td>\n",
       "      <td>False</td>\n",
       "      <td>C Major</td>\n",
       "      <td>A minor</td>\n",
       "      <td>1.00000</td>\n",
       "      <td>...</td>\n",
       "      <td>57.0</td>\n",
       "      <td>60.0</td>\n",
       "      <td>43.0</td>\n",
       "      <td>84</td>\n",
       "      <td>4/4</td>\n",
       "      <td>24</td>\n",
       "      <td>6</td>\n",
       "      <td>17.14</td>\n",
       "      <td>True</td>\n",
       "      <td>True</td>\n",
       "    </tr>\n",
       "  </tbody>\n",
       "</table>\n",
       "<p>5 rows × 23 columns</p>\n",
       "</div>"
      ],
      "text/plain": [
       "   index  Unnamed: 0                                               path  \\\n",
       "0      0           0  q/quincy-jones-and-his-orchestra/soul-bossa-no...   \n",
       "1      2           2  q/queen-and-bowie/under-pressure/intro-and-ver...   \n",
       "2      5           5     q/queen-and-bowie/under-pressure/intro_key.mid   \n",
       "3      8           8  q/queen/the-show-must-go-on/intro-and-verse_ke...   \n",
       "4     10          10         q/queen/the-show-must-go-on/bridge_key.mid   \n",
       "\n",
       "                           artist                 song      section  nokey  \\\n",
       "0  quincy-jones-and-his-orchestra      soul-bossa-nova       chorus  False   \n",
       "1                 queen-and-bowie       under-pressure  intro,verse  False   \n",
       "2                 queen-and-bowie       under-pressure        intro  False   \n",
       "3                           queen  the-show-must-go-on  intro,verse  False   \n",
       "4                           queen  the-show-must-go-on       bridge  False   \n",
       "\n",
       "  key_signature estimated_key_signature  in_scale_rate  ...  lowest_melody  \\\n",
       "0      Bb Major                Bb Major        0.88278  ...           65.0   \n",
       "1       D Major                 D Major        1.00000  ...           57.0   \n",
       "2       D Major                 D Major        1.00000  ...           57.0   \n",
       "3       B Major                 B minor        0.64627  ...           70.0   \n",
       "4       C Major                 A minor        1.00000  ...           57.0   \n",
       "\n",
       "   highest_chord  lowest_chord  bpm  time_signature  beats  bars   time  \\\n",
       "0           63.0          43.0  146             4/4     48    12  19.73   \n",
       "1           57.0          45.0  120             4/4     32     8  16.00   \n",
       "2           61.0          50.0  240             4/4     32     8   8.00   \n",
       "3           59.0          42.0   83             4/4     57    14  40.48   \n",
       "4           60.0          43.0   84             4/4     24     6  17.14   \n",
       "\n",
       "   has_melody_track  has_chord_track  \n",
       "0              True             True  \n",
       "1              True             True  \n",
       "2              True             True  \n",
       "3              True             True  \n",
       "4              True             True  \n",
       "\n",
       "[5 rows x 23 columns]"
      ]
     },
     "execution_count": 3,
     "metadata": {},
     "output_type": "execute_result"
    }
   ],
   "source": [
    "df = pd.read_csv(input_csv)\n",
    "df = df[(df[\"nokey\"] == False) & (df[\"time_signature\"] == \"4/4\")]\n",
    "df = df[df[\"has_melody_track\"] & df[\"has_chord_track\"]]\n",
    "df = df.reset_index()\n",
    "\n",
    "sampler = Sampler(base_dir=input_dir, dataframe=df)\n",
    "print(df.shape)\n",
    "df.head()"
   ]
  },
  {
   "cell_type": "code",
   "execution_count": 4,
   "metadata": {},
   "outputs": [
    {
     "name": "stdout",
     "output_type": "stream",
     "text": [
      "id: 0\n",
      "path: q/quincy-jones-and-his-orchestra/soul-bossa-nova/chorus_key.mid\n"
     ]
    },
    {
     "data": {
      "image/png": "[encoded data removed]",
      "text/plain": [
       "<Figure size 1512x720 with 2 Axes>"
      ]
     },
     "metadata": {
      "needs_background": "light"
     },
     "output_type": "display_data"
    }
   ],
   "source": [
    "ppr = sampler.ppr(with_row=False)\n",
    "grid_plot(ppr)"
   ]
  },
  {
   "cell_type": "markdown",
   "metadata": {},
   "source": [
    "# original\n",
    "- 全体的なこと\n",
    "    - resolutionを12にして音符の切れ目を一番後ろ空白にする\n",
    "    - スケール外の音が生成されてしまうのでトランスポーズによる水増しを行わない\n",
    "    - 長さの固定\n",
    "        - 16小節未満のものは残りスペースのPAD部分を1にする\n",
    "        - 16小節を超えるものは16小節ごとに分割\n",
    "        - 4小節未満のものは使わない\n",
    "        - 複数のphraseが得られることがあるので，並列処理の返り値はリストのリスト\n",
    "            - あとで直列にする\n",
    "- メロディのこと\n",
    "    - (768, 67)\n",
    "    - 提示されているkeyはあてにならないので，estimated_keyに合わせてCもしくはAmへトランスポーズ\n",
    "    - MIDI音程を36～99(99を含む, C2~D#7)の64ピッチ以内にシフトし， ピッチ方向は64入力のモデルで学習\n",
    "    - id=64は休符． 音程がない部分の音程を1にする\n",
    "    - id=65の音程はマスク用なので0にしておく\n",
    "    - id=66の音程はPAD\n",
    "    - メロディ密度が全体の半分未満のデータは削除\n",
    "- コードのこと\n",
    "    - (768, 13)\n",
    "    - few-hot vectorを使用 -> 12で割って得られたピッチをそのまま使う. 展開形などにも対応できる\n",
    "    - id=12の音程はPAD\n",
    "    - midinetのように，後ろ(先頭は前へ)に伸ばすことで全てのステップで何かしら鳴っているようにする\n",
    "- メタ情報のこと\n",
    "    - 辞書型で保存\n",
    "    - file_name\n",
    "    - bars_range (0スタート) ex. 0-16\n",
    "    - bpm\n",
    "    - original_bars (小節数)\n",
    "    - bars\n",
    "    - beat_resolution\n",
    "    - beats_in_bar"
   ]
  },
  {
   "cell_type": "markdown",
   "metadata": {},
   "source": [
    "### 処理の手順\n",
    "melody(numpy配列), chord(numpy配列), meta(辞書)がBundleになったリストを取得  \n",
    "- PypianorollBundler.bundle(ppr, row)\n",
    "  \n",
    "Bundleに施すProcessor\n",
    "- RemoveShortBundles\n",
    "- Binarize\n",
    "- DownBeatResolution\n",
    "    - meta['beat_resolution']を更新\n",
    "- Transpose\n",
    "- メロディに影響するもの\n",
    "    - TrimMelodyInRange\n",
    "    - AddSpetialPitchesToMelody\n",
    "- コードに影響するもの\n",
    "    - TranslateChordIntoPitchClasses\n",
    "    - AddSpetialPitchesToChord\n",
    "- Padding\n",
    "    - meta['bars']を設定"
   ]
  },
  {
   "cell_type": "markdown",
   "metadata": {},
   "source": [
    "### Bundleへ分割"
   ]
  },
  {
   "cell_type": "code",
   "execution_count": 5,
   "metadata": {},
   "outputs": [],
   "source": [
    "bundler = PypianorollBundler()"
   ]
  },
  {
   "cell_type": "markdown",
   "metadata": {},
   "source": [
    "動作確認"
   ]
  },
  {
   "cell_type": "code",
   "execution_count": 6,
   "metadata": {},
   "outputs": [
    {
     "name": "stdout",
     "output_type": "stream",
     "text": [
      "id: 0\n",
      "path: q/quincy-jones-and-his-orchestra/soul-bossa-nova/chorus_key.mid\n",
      "0.000388\n",
      "1 bundle(s)\n",
      "melody shape: (1152, 128)\n",
      "chord shape: (1152, 128)\n"
     ]
    },
    {
     "data": {
      "text/plain": [
       "{'melody': array([[0, 0, 0, ..., 0, 0, 0],\n",
       "        [0, 0, 0, ..., 0, 0, 0],\n",
       "        [0, 0, 0, ..., 0, 0, 0],\n",
       "        ...,\n",
       "        [0, 0, 0, ..., 0, 0, 0],\n",
       "        [0, 0, 0, ..., 0, 0, 0],\n",
       "        [0, 0, 0, ..., 0, 0, 0]], dtype=uint8),\n",
       " 'chord': array([[0, 0, 0, ..., 0, 0, 0],\n",
       "        [0, 0, 0, ..., 0, 0, 0],\n",
       "        [0, 0, 0, ..., 0, 0, 0],\n",
       "        ...,\n",
       "        [0, 0, 0, ..., 0, 0, 0],\n",
       "        [0, 0, 0, ..., 0, 0, 0],\n",
       "        [0, 0, 0, ..., 0, 0, 0]], dtype=uint8),\n",
       " 'meta': {'range_from': 0,\n",
       "  'range_for': 12,\n",
       "  'original_bars': 12,\n",
       "  'beat_resolution': 24,\n",
       "  'beats_in_bar': 4,\n",
       "  'path': 'q/quincy-jones-and-his-orchestra/soul-bossa-nova/chorus_key.mid',\n",
       "  'bpm': 146,\n",
       "  'original_key': 'Bb Major'}}"
      ]
     },
     "execution_count": 6,
     "metadata": {},
     "output_type": "execute_result"
    }
   ],
   "source": [
    "ppr, row = sampler.ppr()\n",
    "\n",
    "with Timer():\n",
    "    bundles = bundler.bundle(ppr, row)\n",
    "\n",
    "print(f\"{len(bundles)} bundle(s)\")\n",
    "bundle = bundles[0]\n",
    "print(f\"melody shape: {bundle.melody.shape}\")\n",
    "print(f\"chord shape: {bundle.chord.shape}\")\n",
    "bundle.get_dict()"
   ]
  },
  {
   "cell_type": "markdown",
   "metadata": {},
   "source": [
    "### 短いbundleを削除する"
   ]
  },
  {
   "cell_type": "code",
   "execution_count": 7,
   "metadata": {},
   "outputs": [],
   "source": [
    "class RemoveShortBundles(BundlesProcessor):\n",
    "    \"\"\"\n",
    "    初期化引数threshold_barsより小さい小節数のBundleを削除\n",
    "    \"\"\"\n",
    "    def __init__(self, threshold_bars=4):\n",
    "        self.threshold_bars = threshold_bars\n",
    "\n",
    "    def process_bundle(self, bundle):\n",
    "        if bundle.meta[\"original_bars\"] < self.threshold_bars:\n",
    "            return None\n",
    "        return bundle"
   ]
  },
  {
   "cell_type": "markdown",
   "metadata": {},
   "source": [
    "動作確認"
   ]
  },
  {
   "cell_type": "code",
   "execution_count": 8,
   "metadata": {},
   "outputs": [
    {
     "name": "stdout",
     "output_type": "stream",
     "text": [
      "path: q/queen/bohemian-rhapsody/bridge_key.mid\n",
      "0.000011\n"
     ]
    },
    {
     "data": {
      "text/plain": [
       "1"
      ]
     },
     "execution_count": 8,
     "metadata": {},
     "output_type": "execute_result"
    }
   ],
   "source": [
    "remove_short_bundles = RemoveShortBundles()\n",
    "\n",
    "short_path = \"q/queen/bohemian-rhapsody/pre-chorus-and-chorus_key.mid\" # 2 bars file\n",
    "long_path = \"q/queen/bohemian-rhapsody/bridge_key.mid\" # 19 bars_file\n",
    "ppr, row = sampler.ppr_by_path(long_path)\n",
    "bundles = bundler.bundle(ppr, row)\n",
    "\n",
    "with Timer():\n",
    "    bundles = remove_short_bundles(bundles)\n",
    "\n",
    "len(bundles)"
   ]
  },
  {
   "cell_type": "markdown",
   "metadata": {},
   "source": [
    "### 二値化する"
   ]
  },
  {
   "cell_type": "code",
   "execution_count": 9,
   "metadata": {},
   "outputs": [],
   "source": [
    "class Binarize(BundlesProcessor):\n",
    "    \"\"\"\n",
    "    melody, chordをboolへ変換\n",
    "    ベロシティが0ならFalse,1以上ならTrueとなる\n",
    "    \"\"\"\n",
    "    def process_bundle(self, bundle):\n",
    "        bundle.melody = bundle.melody.astype(bool)\n",
    "        bundle.chord = bundle.chord.astype(bool)\n",
    "        return bundle"
   ]
  },
  {
   "cell_type": "markdown",
   "metadata": {},
   "source": [
    "動作確認"
   ]
  },
  {
   "cell_type": "code",
   "execution_count": 10,
   "metadata": {},
   "outputs": [
    {
     "name": "stdout",
     "output_type": "stream",
     "text": [
      "path: q/queen/bohemian-rhapsody/bridge_key.mid\n",
      "uint8\n",
      "0.000444\n",
      "bool\n"
     ]
    }
   ],
   "source": [
    "binarize = Binarize()\n",
    "\n",
    "short_path = \"q/queen/bohemian-rhapsody/pre-chorus-and-chorus_key.mid\" # 2 bars file\n",
    "long_path = \"q/queen/bohemian-rhapsody/bridge_key.mid\" # 19 bars_file\n",
    "ppr, row = sampler.ppr_by_path(long_path)\n",
    "bundles = bundler.bundle(ppr, row)\n",
    "\n",
    "print(bundles[0].melody.dtype)\n",
    "\n",
    "with Timer():\n",
    "    bundles = binarize(bundles)\n",
    "\n",
    "print(bundles[0].melody.dtype)"
   ]
  },
  {
   "cell_type": "markdown",
   "metadata": {},
   "source": [
    "### beat_resolutionを下げる"
   ]
  },
  {
   "cell_type": "code",
   "execution_count": 11,
   "metadata": {},
   "outputs": [],
   "source": [
    "class DownBeatResolution(BundlesProcessor):\n",
    "    \"\"\"\n",
    "    melody, chordのbeat_resolutionを下げる\n",
    "    metaのbeat_resolutionも更新される\n",
    "    \"\"\"\n",
    "    def __init__(self, resolution_to, resolution_from=None, fill_mode=False):\n",
    "        self.res_to = resolution_to\n",
    "        self.fill_mode = fill_mode\n",
    "\n",
    "    def down_resolution(self, nproll, step_width):\n",
    "        result = nproll[::step_width]\n",
    "        if not self.fill_mode:\n",
    "            note_existence = nproll.astype(bool)\n",
    "            for s in range(1, step_width):\n",
    "                result *= note_existence[s::step_width]\n",
    "        return result\n",
    "    \n",
    "    def process_bundle(self, bundle):\n",
    "        res_from = bundle.meta['beat_resolution']\n",
    "        \n",
    "        if self.res_to >= res_from:\n",
    "            raise ValueError(f\"Target resolution ({self.res_to}) must be \\\n",
    "                             smaller than the original resolution ({res_from})\")\n",
    "        \n",
    "        step_width = res_from // self.res_to\n",
    "        \n",
    "        bundle.melody = self.down_resolution(bundle.melody, step_width)\n",
    "        bundle.chord = self.down_resolution(bundle.chord, step_width)\n",
    "        bundle.meta['beat_resolution'] = self.res_to\n",
    "        \n",
    "        return bundle"
   ]
  },
  {
   "cell_type": "markdown",
   "metadata": {},
   "source": [
    "動作確認"
   ]
  },
  {
   "cell_type": "code",
   "execution_count": 12,
   "metadata": {},
   "outputs": [
    {
     "name": "stdout",
     "output_type": "stream",
     "text": [
      "path: q/queen/bohemian-rhapsody/bridge_key.mid\n",
      "24\n",
      "(1536, 128)\n",
      "(1536, 128)\n",
      "0.000774\n",
      "12\n",
      "(768, 128)\n",
      "(768, 128)\n"
     ]
    }
   ],
   "source": [
    "down_beat_resolution = DownBeatResolution(12)\n",
    "\n",
    "short_path = \"q/queen/bohemian-rhapsody/pre-chorus-and-chorus_key.mid\" # 2 bars file\n",
    "long_path = \"q/queen/bohemian-rhapsody/bridge_key.mid\" # 19 bars_file\n",
    "ppr, row = sampler.ppr_by_path(long_path)\n",
    "bundles = bundler.bundle(ppr, row)\n",
    "\n",
    "bundle_id = 0\n",
    "print(bundles[bundle_id].meta['beat_resolution'])\n",
    "print(bundles[bundle_id].melody.shape)\n",
    "print(bundles[bundle_id].chord.shape)\n",
    "\n",
    "with Timer():\n",
    "    bundles = down_beat_resolution(bundles)\n",
    "\n",
    "print(bundles[bundle_id].meta['beat_resolution'])\n",
    "print(bundles[bundle_id].melody.shape)\n",
    "print(bundles[bundle_id].chord.shape)"
   ]
  },
  {
   "cell_type": "markdown",
   "metadata": {},
   "source": [
    "### CまたはAmへトランスポーズする"
   ]
  },
  {
   "cell_type": "code",
   "execution_count": 13,
   "metadata": {},
   "outputs": [],
   "source": [
    "class Transpose(BundlesProcessor):\n",
    "    \"\"\"\n",
    "    to_keyはメジャースケールにおける主音\n",
    "    例えば to_key=0 のとき, C minor を渡せば A minor へトランスポーズする\n",
    "    変更元のkeyを後で変更できるのでインスタンスを再生成しなくていい\n",
    "    変換後シフト量が取得できるので，別のトラックのシフトに再利用できる\n",
    "    \"\"\"\n",
    "    def __init__(self, from_key_name=\"C Major\", to_key=0, standard_pitch_range=[36,99]):\n",
    "        self.key_names_dict = self.make_key_names_dict()\n",
    "        self.set_key(from_key_name, to_key)\n",
    "        self.std_bottom, self.std_top = standard_pitch_range\n",
    "    \n",
    "    def make_key_names_dict(self):\n",
    "        sharp_key_names = ['C', 'C#', 'D', 'D#', 'E', 'F', 'F#', 'G', 'G#', 'A', 'A#', 'B']\n",
    "        flat_key_names  = ['C', 'Db', 'D', 'Eb', 'E', 'F', 'Gb', 'G', 'Ab', 'A', 'Bb', 'B']\n",
    "        key_names_dict = {}\n",
    "        for i, (name_s, name_f) in enumerate(zip(sharp_key_names, flat_key_names)):\n",
    "            key_names_dict[name_s], key_names_dict[name_f] = i, i\n",
    "        return key_names_dict\n",
    "    \n",
    "    def set_key(self, key_name, to_key=0):\n",
    "        key_name, mode = key_name.split(' ')\n",
    "        self.from_key = self.key_names_dict[key_name]\n",
    "        self.to_key = (to_key - 3) % 12 if mode == \"minor\" else to_key\n",
    "    \n",
    "    def get_active_range(self, nproll):\n",
    "        pitches = np.where(nproll)[1]\n",
    "        return np.min(pitches), np.max(pitches)\n",
    "    \n",
    "    def process_nproll(self, nproll):\n",
    "        # standatd_pitch_rangeで移動後のlowestとhighestを囲った時，マージンの大きい方へトランスポーズする\n",
    "        lowest, highest = self.get_active_range(nproll)\n",
    "        shift_down      = (self.from_key - self.to_key) % 12\n",
    "        shift_up        = (self.to_key - self.from_key) % 12\n",
    "        margin_bottom   = (lowest - shift_down) - self.std_bottom\n",
    "        margin_top      = self.std_top - (highest + shift_up)\n",
    "        shift           = shift_up if margin_top > margin_bottom else -shift_down\n",
    "        \n",
    "        if shift != 0:\n",
    "            transposed = np.zeros_like(nproll)\n",
    "            transposed[:, lowest+shift:highest+shift+1] = nproll[:, lowest:highest+1]\n",
    "            return transposed\n",
    "        \n",
    "        return nproll\n",
    "            \n",
    "    def process_bundle(self, bundle):\n",
    "        self.set_key(bundle.meta['original_key'], to_key=self.to_key)\n",
    "        \n",
    "        bundle.melody = self.process_nproll(bundle.melody)\n",
    "        bundle.chord = self.process_nproll(bundle.chord)\n",
    "        bundle.meta['key'] = self.to_key\n",
    "        \n",
    "        return bundle"
   ]
  },
  {
   "cell_type": "markdown",
   "metadata": {},
   "source": [
    "動作確認"
   ]
  },
  {
   "cell_type": "code",
   "execution_count": 17,
   "metadata": {},
   "outputs": [
    {
     "name": "stdout",
     "output_type": "stream",
     "text": [
      "path: q/queen/bohemian-rhapsody/bridge_key.mid\n",
      "original_key: Eb Major\n"
     ]
    },
    {
     "data": {
      "image/png": "[encoded data removed]",
      "text/plain": [
       "<Figure size 1512x720 with 2 Axes>"
      ]
     },
     "metadata": {
      "needs_background": "light"
     },
     "output_type": "display_data"
    }
   ],
   "source": [
    "transpose = Transpose()\n",
    "\n",
    "short_path = \"q/queen/bohemian-rhapsody/pre-chorus-and-chorus_key.mid\" # 2 bars file\n",
    "long_path = \"q/queen/bohemian-rhapsody/bridge_key.mid\" # 19 bars_file\n",
    "ppr, row = sampler.ppr_by_path(long_path)\n",
    "bundles = bundler.bundle(ppr, row)\n",
    "\n",
    "print(f\"original_key: {bundles[0].meta['original_key']}\")\n",
    "grid_plot(ppr)"
   ]
  },
  {
   "cell_type": "code",
   "execution_count": 18,
   "metadata": {},
   "outputs": [
    {
     "name": "stdout",
     "output_type": "stream",
     "text": [
      "0.004874\n"
     ]
    },
    {
     "data": {
      "image/png": "[encoded data removed]",
      "text/plain": [
       "<Figure size 1512x720 with 2 Axes>"
      ]
     },
     "metadata": {
      "needs_background": "light"
     },
     "output_type": "display_data"
    }
   ],
   "source": [
    "with Timer():\n",
    "    bundles = transpose(bundles)\n",
    "\n",
    "print(bundles[0].)\n",
    "ppr.tracks[0].pianoroll = bundles[0].melody\n",
    "ppr.tracks[1].pianoroll = bundles[0].chord\n",
    "grid_plot(ppr)"
   ]
  },
  {
   "cell_type": "markdown",
   "metadata": {},
   "source": [
    "### メロディをC3~D#7の中にシフト\n",
    "例によってロスの少ないC3～D#7 (36,99)の中に「全体を」シフト  \n",
    "一応注意: pretty_midiのpitch=0はC-1でpypianorollのplotのpitch=0はC-2だった"
   ]
  },
  {
   "cell_type": "code",
   "execution_count": 19,
   "metadata": {},
   "outputs": [],
   "source": [
    "class TrimMelodyInRange(BundlesProcessor):\n",
    "    def __init__(self, bottom, top):\n",
    "        if bottom < 0 or top > 127:\n",
    "            raise ValueError(\"Pitch range must be in [0, 127].\")\n",
    "        if top - bottom < 12:\n",
    "            raise ValueError(\"Pitch range must be larger than 12 pitches.\")\n",
    "        self.bottom, self.top = bottom, top\n",
    "    \n",
    "    def process_bundle(self, bundle):\n",
    "        nproll = bundle.melody\n",
    "        bottom, top = self.bottom, self.top\n",
    "                \n",
    "        lower_step, lower_pitches = np.where(nproll[:, :bottom])\n",
    "        new_lower_pitches = lower_pitches - (lower_pitches - bottom) // 12 * 12\n",
    "        nproll[lower_step, new_lower_pitches] = nproll[lower_step, lower_pitches]\n",
    "        nproll[lower_step, lower_pitches] = 0\n",
    "        \n",
    "        higher_step, higher_pitches_from_top = np.where(nproll[:, top+1:])\n",
    "        higher_pitches = higher_pitches_from_top + (top + 1)\n",
    "        new_higher_pitches = higher_pitches - (higher_pitches_from_top + 13) // 12 * 12\n",
    "        nproll[higher_step, new_higher_pitches] = nproll[higher_step, higher_pitches]\n",
    "        nproll[higher_step, higher_pitches] = 0\n",
    "        \n",
    "        bundle.melody = nproll[:, bottom:top+1]\n",
    "        \n",
    "        return bundle"
   ]
  },
  {
   "cell_type": "markdown",
   "metadata": {},
   "source": [
    "動作確認"
   ]
  },
  {
   "cell_type": "code",
   "execution_count": null,
   "metadata": {},
   "outputs": [],
   "source": [
    "bottom, top = 36, 99\n",
    "trim_melody_in_range = TrimMelodyInRange(bottom, top)\n",
    "\n",
    "short_path = \"q/queen/bohemian-rhapsody/pre-chorus-and-chorus_key.mid\" # 2 bars file\n",
    "long_path = \"q/queen/bohemian-rhapsody/bridge_key.mid\" # 19 bars_file\n",
    "ppr, row = sampler.ppr_by_path(long_path)\n",
    "bundles = bundler.bundle(ppr, row)\n",
    "\n",
    "print(f\"original_key: {bundles[0].meta['original_key']}\")\n",
    "grid_plot(ppr)"
   ]
  }
 ],
 "metadata": {
  "kernelspec": {
   "display_name": "Python 3",
   "language": "python",
   "name": "python3"
  },
  "language_info": {
   "codemirror_mode": {
    "name": "ipython",
    "version": 3
   },
   "file_extension": ".py",
   "mimetype": "text/x-python",
   "name": "python",
   "nbconvert_exporter": "python",
   "pygments_lexer": "ipython3",
   "version": "3.7.3"
  }
 },
 "nbformat": 4,
 "nbformat_minor": 4
}
