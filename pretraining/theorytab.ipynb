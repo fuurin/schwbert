{
 "cells": [
  {
   "cell_type": "markdown",
   "metadata": {},
   "source": [
    "# SchW-BERT-GAN 事前学習\n",
    "Theorytabデータセットを使用\n",
    "- 前処理済みのデータセットからバッチ生成器を作成\n",
    "- ハイパーパラメータを記入した設定ファイルを作成\n",
    "- ChordConditionalBertCoreモジュールの定義\n",
    "- 事前学習フレームワークと事前学習モジュールの作成\n",
    "- 事前学習の実行と結果の表示・保存"
   ]
  },
  {
   "cell_type": "code",
   "execution_count": 1,
   "metadata": {},
   "outputs": [
    {
     "name": "stdout",
     "output_type": "stream",
     "text": [
      "current dir: /root/schwbert\n"
     ]
    }
   ],
   "source": [
    "import os, time, math, json, random\n",
    "import hickle as hkl\n",
    "import numpy as np\n",
    "import torch\n",
    "import torch.nn as nn\n",
    "import torch.optim as optim\n",
    "from torch.nn.modules.normalization import LayerNorm\n",
    "from torch.utils.data import Dataset, DataLoader, random_split\n",
    "from attrdict import AttrDict\n",
    "import matplotlib.pyplot as plt\n",
    "%matplotlib inline\n",
    "\n",
    "# カレントディレクトリをリポジトリ直下にして自家製モジュールをimport\n",
    "while os.getcwd().split('/')[-1] != 'schwbert': os.chdir('..')\n",
    "print('current dir:', os.getcwd())\n",
    "from utils import Timer, grid_plot\n",
    "from bundle import Bundle"
   ]
  },
  {
   "cell_type": "code",
   "execution_count": 2,
   "metadata": {},
   "outputs": [],
   "source": [
    "base_dir = \"../datasets\"\n",
    "schwbert_dir = os.path.join(base_dir, \"schwbert\")\n",
    "\n",
    "input_dir = os.path.join(schwbert_dir, \"data\", \"theorytab\")\n",
    "input_path = os.path.join(input_dir, \"original.hkl\")\n",
    "\n",
    "output_base_dir = os.path.join(schwbert_dir, \"model\")\n",
    "output_dir = os.path.join(output_base_dir, \"theorytab\")\n",
    "\n",
    "for directory in [schwbert_dir, output_base_dir, output_dir]:\n",
    "    if not os.path.exists(directory):\n",
    "        os.mkdir(directory)"
   ]
  },
  {
   "cell_type": "markdown",
   "metadata": {},
   "source": [
    "# 前処理済みのtheorytabデータセットからバッチ生成器を作成\n",
    "DataLoaderとDatasetの扱い方はQiitaを[参照](https://qiita.com/takurooo/items/e4c91c5d78059f92e76d)"
   ]
  },
  {
   "cell_type": "markdown",
   "metadata": {},
   "source": [
    "その前にまずは前処理済みデータをロード"
   ]
  },
  {
   "cell_type": "code",
   "execution_count": 3,
   "metadata": {},
   "outputs": [
    {
     "name": "stdout",
     "output_type": "stream",
     "text": [
      "310.557900\n",
      "17396\n"
     ]
    }
   ],
   "source": [
    "with Timer():\n",
    "     bundle_list = hkl.load(input_path)\n",
    "print(len(bundle_list))"
   ]
  },
  {
   "cell_type": "markdown",
   "metadata": {},
   "source": [
    "DataLoaderへ渡すTheorytabDatasetを作成"
   ]
  },
  {
   "cell_type": "code",
   "execution_count": 4,
   "metadata": {},
   "outputs": [],
   "source": [
    "class TheorytabDataset(Dataset):\n",
    "    def __init__(self, bundles, include_meta=False):\n",
    "        self.data = bundles\n",
    "        self.data_num = len(bundles)\n",
    "        self.include_meta = include_meta\n",
    "    \n",
    "    def __len__(self):\n",
    "        return self.data_num\n",
    "    \n",
    "    def __getitem__(self, idx):\n",
    "        melody = self.data[idx]['melody']\n",
    "        chord = self.data[idx]['chord']\n",
    "        \n",
    "        if self.include_meta:\n",
    "            meta = self.data[idx]['meta']\n",
    "            return melody, chord, meta\n",
    "        \n",
    "        return melody, chord"
   ]
  },
  {
   "cell_type": "code",
   "execution_count": 5,
   "metadata": {},
   "outputs": [],
   "source": [
    "dataset = TheorytabDataset(bundle_list, include_meta=True)\n",
    "dataloader = DataLoader(dataset, batch_size=2, shuffle=True)"
   ]
  },
  {
   "cell_type": "markdown",
   "metadata": {},
   "source": [
    "動作確認"
   ]
  },
  {
   "cell_type": "code",
   "execution_count": 6,
   "metadata": {},
   "outputs": [
    {
     "name": "stdout",
     "output_type": "stream",
     "text": [
      "torch.LongTensor\n",
      "torch.LongTensor\n",
      "{'bars': tensor([16, 16]), 'beat_resolution': tensor([12, 12]), 'beats_in_bar': tensor([4, 4]), 'bpm': tensor([144,  88]), 'chord_is_ids': tensor([True, True]), 'chord_offset': tensor([48, 48]), 'chord_pitch_pad': tensor([4096, 4096]), 'chord_pitch_range': [tensor([0, 0]), tensor([12, 12])], 'chord_vocab_size': tensor([4097, 4097]), 'key': ['A minor', 'A minor'], 'melody_is_ids': tensor([True, True]), 'melody_offset': tensor([36, 36]), 'melody_pitch_mask': tensor([65, 65]), 'melody_pitch_pad': tensor([66, 66]), 'melody_pitch_range': [tensor([0, 0]), tensor([64, 64])], 'melody_pitch_rest': tensor([64, 64]), 'melody_vocab_size': tensor([67, 67]), 'original_bars': tensor([ 4, 10]), 'original_key': ['A minor', 'G minor'], 'path': ['z/zun/lunate-elf/verse_key.mid', 'e/eric-clapton/i-shot-the-sheriff/verse_key.mid'], 'range_for': tensor([ 4, 10]), 'range_from': tensor([0, 0])}\n"
     ]
    }
   ],
   "source": [
    "melody_batch, chord_batch, meta_batch = next(dataloader.__iter__())\n",
    "print(melody_batch.type())\n",
    "print(chord_batch.type())\n",
    "print(meta_batch)"
   ]
  },
  {
   "cell_type": "markdown",
   "metadata": {},
   "source": [
    "あ，辞書の中身もバッチ内で連結されるのね…"
   ]
  },
  {
   "cell_type": "markdown",
   "metadata": {},
   "source": [
    "# ハイパーパラメータを記入した設定辞書を作成"
   ]
  },
  {
   "cell_type": "code",
   "execution_count": 7,
   "metadata": {},
   "outputs": [],
   "source": [
    "rep = dataset[0]\n",
    "rep_meta = AttrDict(rep[2])"
   ]
  },
  {
   "cell_type": "code",
   "execution_count": 66,
   "metadata": {},
   "outputs": [
    {
     "name": "stdout",
     "output_type": "stream",
     "text": [
      "step_num: 768\n",
      "beat_resolution: 12\n",
      "beats_in_bar: 4\n",
      "bar_num: 16\n",
      "melody_pitch_range: (0, 64)\n",
      "melody_mask_id: 65\n",
      "melody_rest_id: 64\n",
      "melody_pad_id: 66\n",
      "melody_vocab_size: 67\n",
      "chord_pad_id: 4096\n",
      "chord_vocab_size: 4097\n",
      "hidden_size: 24\n",
      "intermediate_size: 96\n",
      "attention_layer_num: 2\n",
      "attention_head_num: 4\n",
      "dropout_prob: 0.1\n",
      "adam_lr: 1e-05\n",
      "adam_beta1: 0.9\n",
      "adam_beta2: 0.999\n",
      "pre_mnp_rate: 0.15\n",
      "pre_mnp_mask_rate: 0.8\n",
      "pre_mnp_random_rate: 0.1\n",
      "pre_mnp_keep_rate: 0.1\n"
     ]
    }
   ],
   "source": [
    "config = {\n",
    "    'step_num': rep[0].shape[0],\n",
    "    'beat_resolution': rep_meta.beat_resolution,\n",
    "    'beats_in_bar': rep_meta.beats_in_bar,\n",
    "    'bar_num': rep_meta.bars,\n",
    "    'melody_pitch_range': rep_meta.melody_pitch_range,\n",
    "    'melody_mask_id': rep_meta.melody_pitch_mask,\n",
    "    'melody_rest_id': rep_meta.melody_pitch_rest,\n",
    "    'melody_pad_id': rep_meta.melody_pitch_pad,\n",
    "    'melody_vocab_size': rep_meta.melody_vocab_size,\n",
    "    'chord_pad_id': rep_meta.chord_pitch_pad,\n",
    "    'chord_vocab_size': rep_meta.chord_vocab_size,\n",
    "    'hidden_size': 24,\n",
    "    'intermediate_size': 24 * 4,\n",
    "    'attention_layer_num': 2,\n",
    "    'attention_head_num': 4,\n",
    "    'dropout_prob': 0.1,\n",
    "    'adam_lr': 1e-5,\n",
    "    'adam_beta1': 0.9,\n",
    "    'adam_beta2': 0.999,\n",
    "    'pre_mnp_rate': 0.15,\n",
    "    'pre_mnp_mask_rate': 0.80,\n",
    "    'pre_mnp_random_rate': 0.10,\n",
    "    'pre_mnp_keep_rate': 0.10,\n",
    "}\n",
    "config = AttrDict(config)\n",
    "for item in config.items():\n",
    "    print(f\"{item[0]}: {item[1]}\")"
   ]
  },
  {
   "cell_type": "markdown",
   "metadata": {},
   "source": [
    "# ChordConditionalBertCoreの作成\n",
    "事前学習を行い，他のタスク用モジュールへ連結するためのCoreモジュール  \n",
    "コードは[ここ](https://nbviewer.jupyter.org/github/fuurin/pytorch_advanced/blob/master/Chapter8/8-2_bert_base.ipynb)を参照"
   ]
  },
  {
   "attachments": {
    "image.png": {
     "image/png": "[encoded data removed]"
    }
   },
   "cell_type": "markdown",
   "metadata": {},
   "source": [
    "実装するものはこれ  \n",
    "![image.png](attachment:image.png)"
   ]
  },
  {
   "attachments": {
    "image.png": {
     "image/png": "[encoded data removed]"
    }
   },
   "cell_type": "markdown",
   "metadata": {},
   "source": [
    "基本となるBERT Layerモジュールはこれ  \n",
    "![image.png](attachment:image.png)\n",
    "\n",
    "画像： 書籍「つくりながら学ぶ! PyTorchによる発展ディープラーニング」（小川雄太郎、マイナビ出版 、19/07/29)  \n",
    "公式リポジトリ https://github.com/YutaroOgawa/pytorch_advanced"
   ]
  },
  {
   "cell_type": "markdown",
   "metadata": {},
   "source": [
    "#### Conditional Bertにするための変更点\n",
    "ChordConditionをBertAttentionに通した出力をAとする  \n",
    "AとInputMelodyをBertOutputのような加算＋正規化モジュールへ送った出力をBとする  \n",
    "BをBertAttentionへ送り，後は同じ  \n",
    "なお，クラス分類用のPoolerは今回の生成タスクでは使用しないので実装しない  \n",
    "代わりに小節ごとの情報をまとめるPoolerを作るか？\n",
    "  \n",
    "ChordConditionにもEmbedding欲しいかなぁ"
   ]
  },
  {
   "cell_type": "markdown",
   "metadata": {},
   "source": [
    "## Embeddingsモジュールの実装\n",
    "- Embeddings\n",
    "    - MelodyEmbeddings\n",
    "    - ChordEmbeddings\n",
    "        - IDで渡ってこないので，EmbeddingsではなくDenseで実装\n",
    "\n",
    "Embeddingsは意味のある区切りを与えることが多い模様  \n",
    "それに倣って，音楽版のEmbeddingsは4つで行ってみよう！\n",
    "- input_embedding: ピッチID/コードベクトルのEmbedding\n",
    "- step_embedding: range(seq_len)を与えるEmbedding\n",
    "- beat_embedding: 0から始まる拍番号を各ステップへ与える\n",
    "- bar_embedding: 0から始まる小節番号を各ステップへ与える\n",
    "\n",
    "とりあえず埋め込みは学習対象パラメータにする  \n",
    "埋め込みベクトルのサイズは…  \n",
    "一般的に語彙が多すぎるから圧縮するわけなんだけど，MIDIだとそんなに多くない  \n",
    "ここは4, 12, 24, 48, 64辺りを試してみるか  \n",
    "んで，事前学習が上手くいくかどうか，GANで生成する曲がよくなるかを見る  \n",
    "一般的なメロディの音程は2オクターブ前後なので，まずは24で試してみるか"
   ]
  },
  {
   "cell_type": "code",
   "execution_count": 9,
   "metadata": {},
   "outputs": [],
   "source": [
    "class MusicEmbeddings(nn.Module):\n",
    "    def __init__(self, config, vocab_size, pad_id=0):\n",
    "        super(MusicEmbeddings, self).__init__()\n",
    "        \n",
    "        # EmbeddingLayer: (入力の種類数, 組込ベクトルサイズ)\n",
    "        # 48とかのIDを受け取ってone-hot vectorと解釈して組込ベクトルへ変換する\n",
    "        self.hidden_size = config.hidden_size\n",
    "        self.beat_res = config.beat_resolution\n",
    "        self.step_num = config.step_num\n",
    "        self.beat_num = config.beats_in_bar * config.bar_num\n",
    "        self.bar_num = config.bar_num\n",
    "        self.bar_step_num = config.beats_in_bar * self.beat_res\n",
    "        \n",
    "        self.input_embeddings = nn.Embedding(\n",
    "            vocab_size,\n",
    "            self.hidden_size, # 24\n",
    "            padding_idx=pad_id\n",
    "        )\n",
    "        \n",
    "        self.step_embeddings = nn.Embedding(\n",
    "            self.step_num,   # 768\n",
    "            self.hidden_size # 24\n",
    "        )\n",
    "        \n",
    "        self.beat_embeddings = nn.Embedding(\n",
    "            self.beat_num,   # 64\n",
    "            self.hidden_size # 24\n",
    "        )\n",
    "        \n",
    "        self.bar_embeddings = nn.Embedding(\n",
    "            self.bar_num,    # 16\n",
    "            self.hidden_size # 24 ここはむしろEmbeddingのほうが大きくなってしまっている...\n",
    "        )\n",
    "        \n",
    "        self.norm = LayerNorm(config.hidden_size, eps=1e-12)\n",
    "        self.dropout = nn.Dropout(config.dropout_prob)\n",
    "    \n",
    "    def add_fixed_embeddings(self, input_emb):\n",
    "        # step ID -> ステップ埋め込みベクトル\n",
    "        step_ids = torch.arange(self.step_num, dtype=torch.float32) # 0~767\n",
    "        step_ids = step_ids.unsqueeze(0).expand(input_emb.shape[:-1]) # バッチ用の次元を追加\n",
    "        step_ids = step_ids.to(input_emb.device)\n",
    "        step_emb = self.step_embeddings(step_ids.type(torch.long))\n",
    "        \n",
    "        # beat ID -> 拍埋め込みベクトル\n",
    "        # 同じ数がbeat_res個続くようにする\n",
    "        beat_ids = torch.floor(step_ids.clone() / self.beat_res)\n",
    "        beat_emb = self.beat_embeddings(beat_ids.type(torch.long))\n",
    "        \n",
    "        # bar ID -> 小節埋め込みベクトル\n",
    "        # 同じ数がbar_step_num個続くようにする\n",
    "        bar_ids = torch.floor(step_ids.clone() / self.bar_step_num)\n",
    "        bar_emb = self.bar_embeddings(bar_ids.type(torch.long))\n",
    "        \n",
    "        # 4つの埋め込みベクトルを足し合わせる\n",
    "        # (batch_size, step_num, hidden_size)\n",
    "        embeddings = input_emb + step_emb + beat_emb + bar_emb\n",
    "        \n",
    "        return embeddings\n",
    "    \n",
    "    def post_layers(self, tensor):\n",
    "        tensor = self.norm(tensor)\n",
    "        tensor = self.dropout(tensor)\n",
    "        return tensor\n",
    "    \n",
    "    def forward(self, input_ids):\n",
    "        # input_ids: (batch_size, step_num)の文章中の単語ID列\n",
    "        \n",
    "        # input ID -> 入力埋め込みベクトル\n",
    "        input_emb = self.input_embeddings(input_ids)\n",
    "        \n",
    "        # ステップ，拍，小節の埋め込みベクトルを加算\n",
    "        embeddings = self.add_fixed_embeddings(input_emb)\n",
    "                \n",
    "        # 埋め込みベクトルを正規化 & Dropout\n",
    "        embeddings = self.post_layers(embeddings)\n",
    "        \n",
    "        return embeddings\n",
    "\n",
    "class MelodyEmbeddings(MusicEmbeddings):\n",
    "    def __init__(self, config):\n",
    "        super(MelodyEmbeddings, self).__init__(config, config.melody_vocab_size, config.melody_pad_id)\n",
    "\n",
    "class ChordEmbeddings(MusicEmbeddings):\n",
    "    def __init__(self, config):\n",
    "        super(ChordEmbeddings, self).__init__(config, config.chord_vocab_size, config.chord_pad_id)"
   ]
  },
  {
   "cell_type": "markdown",
   "metadata": {},
   "source": [
    "動作確認"
   ]
  },
  {
   "cell_type": "code",
   "execution_count": 10,
   "metadata": {},
   "outputs": [
    {
     "name": "stdout",
     "output_type": "stream",
     "text": [
      "torch.Size([2, 768])\n",
      "torch.Size([2, 768])\n",
      "melody_emb shape: torch.Size([2, 768, 24])\n",
      "chord_emb shape: torch.Size([2, 768, 24])\n"
     ]
    }
   ],
   "source": [
    "melody_batch, chord_batch, _ = next(dataloader.__iter__())\n",
    "\n",
    "print(melody_batch.shape)\n",
    "print(chord_batch.shape)\n",
    "\n",
    "melody_embeddings = MelodyEmbeddings(config)\n",
    "chord_embeddings = ChordEmbeddings(config)\n",
    "\n",
    "melody_emb = melody_embeddings(melody_batch)\n",
    "chord_emb = chord_embeddings(chord_batch)\n",
    "\n",
    "print(\"melody_emb shape:\", melody_emb.shape)\n",
    "print(\"chord_emb shape:\", chord_emb.shape)"
   ]
  },
  {
   "cell_type": "markdown",
   "metadata": {},
   "source": [
    "## ConditionalBertAttentionモジュールの実装\n",
    "以下のサブネットワークを持つ\n",
    "- ConditionalBertAttention: Conditionを考慮したSelf-Attentionを計算\n",
    "    - Multi-Head: 1, 2, 4, 8, とりあえず4から試すか\n",
    "    - ここでpadをかける\n",
    "- BertIntermediate: Self-Attentionの出力を全結合層で処理\n",
    "    - 全結合層の活性化関数にGELU（Gaussian error Linear Unit, 入力0付近の出力が滑らか)を使う\n",
    "- BertOutput: BertAttentionとBertIntermediateの出力を足し算"
   ]
  },
  {
   "cell_type": "markdown",
   "metadata": {},
   "source": [
    "### ConditionalBertAttentionモジュールの作成\n",
    "次のサブモジュールからなる\n",
    "- condition_attn(BertSelfAttention)\n",
    "- conditioning(BertSelfConditioning, BertSelfOutputとほぼ同じ)\n",
    "- attn(BertSelfAttention)\n",
    "- output(BertOutput)"
   ]
  },
  {
   "cell_type": "code",
   "execution_count": 11,
   "metadata": {},
   "outputs": [],
   "source": [
    "class BertSelfAttention(nn.Module):\n",
    "    def __init__(self, config):\n",
    "        super(BertSelfAttention, self).__init__()\n",
    "        \n",
    "        self.hidden_size = config.hidden_size # 24\n",
    "        self.attention_head_num = config.attention_head_num # 4\n",
    "        self.attention_head_size = self.hidden_size // self.attention_head_num # 6\n",
    "        \n",
    "        # Self-Attentionの特徴量を作成する全結合層\n",
    "        self.query = nn.Linear(self.hidden_size, self.hidden_size)\n",
    "        self.key = nn.Linear(self.hidden_size, self.hidden_size)\n",
    "        self.value = nn.Linear(self.hidden_size, self.hidden_size)\n",
    "        \n",
    "        self.dropout = nn.Dropout(config.dropout_prob)\n",
    "    \n",
    "    def separate_into_heads(self, single):\n",
    "        # multi-head attention用にテンソルの形を変換\n",
    "        # [batch, steps, hidden] -> [batch, head_num, steps, head_size]\n",
    "        multi_shape = single.size()[:-1] + (self.attention_head_num, self.attention_head_size)\n",
    "        multi = single.view(*multi_shape).permute(0, 2, 1, 3)\n",
    "        return multi\n",
    "    \n",
    "    def extend_pad(self, pad, paded_value=-10000.0):\n",
    "        # multi-head attention用にpadの形を(batch, 1, 1, step_num)にする\n",
    "        extended_pad = pad.unsqueeze(1).unsqueeze(2) # multi-headに次元を対応\n",
    "        extended_pad = (1.0 - extended_pad) * paded_value\n",
    "        extended_pad = extended_pad.to(dtype=torch.float32)\n",
    "        return extended_pad\n",
    "    \n",
    "    def marge_heads(self, multi):\n",
    "        # multi-head attentionに分離したテンソルの形を元に戻す\n",
    "        # [batch, head_num, steps, head_size] -> [batch, steps, hidden]\n",
    "        multi = multi.permute(0, 2, 1, 3).contiguous()\n",
    "        single_shape = multi.size()[:-2] + (self.hidden_size,)\n",
    "        single = multi.view(*single_shape)\n",
    "        return single\n",
    "    \n",
    "    def forward(self, hidden_states, pad, get_probs=False):\n",
    "        \n",
    "        # 入力を全結合層で特徴量変換(分岐前)\n",
    "        marged_query = self.query(hidden_states)\n",
    "        marged_key = self.key(hidden_states)\n",
    "        marged_value = self.value(hidden_states)\n",
    "        \n",
    "        # multi-head Attentionとして分岐\n",
    "        queries = self.separate_into_heads(marged_query)\n",
    "        keyes = self.separate_into_heads(marged_key)\n",
    "        values = self.separate_into_heads(marged_value)\n",
    "        \n",
    "        # 特徴量同士の類似度を求める\n",
    "        scores = torch.matmul(queries, keyes.transpose(-1, -2))\n",
    "        scores = scores / math.sqrt(self.attention_head_size) # Scaled Dot-Product Attention\n",
    "        \n",
    "        # マスクをかける\n",
    "        # 足し算なのは，attention_padに0か-infが入っているため\n",
    "        # -infはsoftmax正規化したときに0になる\n",
    "        scores = scores + self.extend_pad(pad)\n",
    "        \n",
    "        # AttentionMapの正規化とドロップアウト\n",
    "        probs = nn.Softmax(dim=-1)(scores)\n",
    "        probs = self.dropout(probs)\n",
    "        \n",
    "        # Attenton Mapをvalueに掛け算\n",
    "        contexts = torch.matmul(probs, values)\n",
    "        \n",
    "        # multi-head Attentionの出力を結合\n",
    "        context = self.marge_heads(contexts)\n",
    "        \n",
    "        if get_probs:\n",
    "            return context, probs\n",
    "        else:\n",
    "            return context"
   ]
  },
  {
   "cell_type": "code",
   "execution_count": 12,
   "metadata": {},
   "outputs": [],
   "source": [
    "class BertSelfConditioning(nn.Module):\n",
    "    def __init__(self, config):\n",
    "        super(BertSelfConditioning, self).__init__()\n",
    "        self.dense = nn.Linear(config.hidden_size, config.hidden_size)\n",
    "        self.norm = LayerNorm(config.hidden_size, eps=1e-12)\n",
    "        self.dropout = nn.Dropout(config.dropout_prob)\n",
    "    \n",
    "    def forward(self, hidden_states, condition_tensor):\n",
    "        conditioned_states = self.dense(hidden_states + condition_tensor)\n",
    "        conditioned_states = self.dropout(conditioned_states)\n",
    "        conditioned_states = self.norm(conditioned_states)\n",
    "        return conditioned_states"
   ]
  },
  {
   "cell_type": "code",
   "execution_count": 13,
   "metadata": {},
   "outputs": [],
   "source": [
    "class BertSelfOutput(nn.Module):\n",
    "    def __init__(self, config):\n",
    "        super(BertSelfOutput, self).__init__()\n",
    "        self.dense = nn.Linear(config.hidden_size, config.hidden_size)\n",
    "        self.norm = LayerNorm(config.hidden_size, eps=1e-12)\n",
    "        self.dropout = nn.Dropout(config.dropout_prob)\n",
    "    \n",
    "    def forward(self, hidden_states, input_tensor):\n",
    "        hidden_states = self.dense(hidden_states)\n",
    "        hidden_states = self.dropout(hidden_states)\n",
    "        hidden_states = self.norm(hidden_states + input_tensor)\n",
    "        return hidden_states"
   ]
  },
  {
   "cell_type": "code",
   "execution_count": 14,
   "metadata": {},
   "outputs": [],
   "source": [
    "class ConditionalBertAttention(nn.Module):\n",
    "    def __init__(self, config):\n",
    "        super(ConditionalBertAttention, self).__init__()\n",
    "        self.condition_attn = BertSelfAttention(config)\n",
    "        self.conditioning = BertSelfConditioning(config)\n",
    "        self.attn = BertSelfAttention(config)\n",
    "        self.output = BertSelfOutput(config)\n",
    "\n",
    "    def forward(self, input_tensor, condition_tensor, input_pad, condition_pad, get_probs=False):\n",
    "        \n",
    "        if get_probs:\n",
    "            condition, condition_probs = self.condition_attn(condition_tensor, condition_pad, get_probs)\n",
    "            conditioned_tensor = self.conditioning(input_tensor, condition)\n",
    "            output, probs = self.attn(conditioned_tensor, input_pad, get_probs)\n",
    "            output = self.output(output, input_tensor) # or conditioned_tensor?\n",
    "            return output, probs, condition_probs\n",
    "        else:\n",
    "            condition = self.condition_attn(condition_tensor, condition_pad, get_probs)\n",
    "            conditioned_tensor = self.conditioning(input_tensor, condition)\n",
    "            output = self.attn(conditioned_tensor, input_pad, get_probs)\n",
    "            output = self.output(output, input_tensor) # or conditioned_tensor?\n",
    "            return output"
   ]
  },
  {
   "cell_type": "code",
   "execution_count": 15,
   "metadata": {},
   "outputs": [],
   "source": [
    "def make_pad(ids, pad_id):\n",
    "    return (ids != pad_id).to(torch.float32)"
   ]
  },
  {
   "cell_type": "markdown",
   "metadata": {},
   "source": [
    "動作確認"
   ]
  },
  {
   "cell_type": "code",
   "execution_count": 16,
   "metadata": {},
   "outputs": [
    {
     "name": "stdout",
     "output_type": "stream",
     "text": [
      "torch.Size([2, 768])\n",
      "torch.Size([2, 768])\n",
      "output shape: torch.Size([2, 768, 24])\n",
      "probs shape: torch.Size([2, 4, 768, 768])\n",
      "conditional probs shape: torch.Size([2, 4, 768, 768])\n"
     ]
    }
   ],
   "source": [
    "melody_batch, chord_batch, _ = next(dataloader.__iter__())\n",
    "\n",
    "print(melody_batch.shape)\n",
    "print(chord_batch.shape)\n",
    "\n",
    "melody_pad = make_pad(melody_batch, config.melody_pad_id)\n",
    "chord_pad = make_pad(chord_batch, config.chord_pad_id)\n",
    "\n",
    "melody_embeddings = MelodyEmbeddings(config)\n",
    "chord_embeddings = ChordEmbeddings(config)\n",
    "attention = ConditionalBertAttention(config)\n",
    "\n",
    "melody_emb = melody_embeddings(melody_batch)\n",
    "chord_emb = chord_embeddings(chord_batch)\n",
    "\n",
    "get_probs=True\n",
    "if get_probs:\n",
    "    output, probs, c_probs = attention(melody_emb, chord_emb, melody_pad, chord_pad, get_probs=get_probs)\n",
    "    print(\"output shape:\", output.shape)\n",
    "    print(\"probs shape:\", probs.shape)\n",
    "    print(\"conditional probs shape:\", c_probs.shape)\n",
    "else:\n",
    "    output = attention(melody_emb, chord_emb, melody_pad, chord_pad, get_probs=get_probs)\n",
    "    print(\"output shape:\", output.shape)"
   ]
  },
  {
   "cell_type": "markdown",
   "metadata": {},
   "source": [
    "### BertIntermediateモジュールの実装"
   ]
  },
  {
   "cell_type": "code",
   "execution_count": 17,
   "metadata": {},
   "outputs": [],
   "source": [
    "def gelu(x):\n",
    "    return x * 0.5 * (1.0 + torch.erf(x / math.sqrt(2.0)))"
   ]
  },
  {
   "cell_type": "code",
   "execution_count": 18,
   "metadata": {},
   "outputs": [],
   "source": [
    "class BertIntermediate(nn.Module):\n",
    "    def __init__(self, config):\n",
    "        super(BertIntermediate, self).__init__()\n",
    "        \n",
    "        self.dense = nn.Linear(config.hidden_size, config.intermediate_size)\n",
    "        self.intermediate_act_fn = gelu\n",
    "    \n",
    "    def forward(self, hidden_states):\n",
    "        hidden_states = self.dense(hidden_states)\n",
    "        hidden_states = self.intermediate_act_fn(hidden_states)\n",
    "        return hidden_states"
   ]
  },
  {
   "cell_type": "markdown",
   "metadata": {},
   "source": [
    "### BertOutputモジュールの実装"
   ]
  },
  {
   "cell_type": "code",
   "execution_count": 19,
   "metadata": {},
   "outputs": [],
   "source": [
    "class BertOutput(BertSelfOutput):\n",
    "    def __init__(self, config):\n",
    "        super(BertOutput, self).__init__(config)        \n",
    "        self.dense = nn.Linear(config.intermediate_size, config.hidden_size)"
   ]
  },
  {
   "cell_type": "markdown",
   "metadata": {},
   "source": [
    "### まとめてConditionalBertLayerモジュールの実装"
   ]
  },
  {
   "cell_type": "code",
   "execution_count": 20,
   "metadata": {},
   "outputs": [],
   "source": [
    "class ConditionalBertLayer(nn.Module):\n",
    "    def __init__(self, config):\n",
    "        super(ConditionalBertLayer, self).__init__()\n",
    "        \n",
    "        self.attn = ConditionalBertAttention(config)\n",
    "        self.intermediate = BertIntermediate(config)\n",
    "        self.output = BertOutput(config)\n",
    "    \n",
    "    def forward(self, input_tensor, condition_tensor, input_pad, condition_pad, get_probs=False):\n",
    "        if get_probs:\n",
    "            output, probs, c_probs = self.attn(input_tensor, condition_tensor, input_pad, condition_pad, get_probs)\n",
    "            intermediate_output = self.intermediate(output)\n",
    "            output = self.output(intermediate_output, output)\n",
    "            return output, probs, c_probs\n",
    "        else:\n",
    "            output = self.attn(input_tensor, condition_tensor, input_pad, condition_pad, get_probs)\n",
    "            intermediate_output = self.intermediate(output)\n",
    "            output = self.output(intermediate_output, output)\n",
    "            return output"
   ]
  },
  {
   "cell_type": "markdown",
   "metadata": {},
   "source": [
    "## ChordConditionalBertCoreの実装"
   ]
  },
  {
   "cell_type": "code",
   "execution_count": 21,
   "metadata": {},
   "outputs": [],
   "source": [
    "class ChordConditionalBertCore(nn.Module):\n",
    "    def __init__(self, config):\n",
    "        super(ChordConditionalBertCore, self).__init__()\n",
    "        self.config = config\n",
    "        self.melody_embeddings = MelodyEmbeddings(config)\n",
    "        self.chord_embeddings = ChordEmbeddings(config)\n",
    "        self.melody_pad_id = config.melody_pad_id\n",
    "        self.chord_pad_id = config.chord_pad_id\n",
    "        attention_list = [ConditionalBertLayer(config) for _ in range(config.attention_layer_num)]\n",
    "        self.attention_list = nn.ModuleList(attention_list) # これを挟まないとパラメータが学習されない\n",
    "    \n",
    "    def make_pad(self, ids, pad_id):\n",
    "        return (ids != pad_id).to(torch.float32)\n",
    "\n",
    "    def forward(self, inputs, get_all_outputs=False, get_probs=False):\n",
    "        melody_tensor = inputs[0]\n",
    "        chord_tensor = inputs[1]\n",
    "        melody_pad = self.make_pad(melody_tensor, self.melody_pad_id)\n",
    "        chord_pad = self.make_pad(chord_tensor, self.chord_pad_id)\n",
    "\n",
    "        melody = self.melody_embeddings(melody_tensor)\n",
    "        chord = self.chord_embeddings(chord_tensor)\n",
    "        \n",
    "        # self attentionをかけるループ\n",
    "        all_outputs = []\n",
    "        all_probs = []\n",
    "        all_c_probs = []\n",
    "        for attention in self.attention_list:\n",
    "            if get_probs:\n",
    "                melody, probs, c_probs = attention(melody, chord, melody_pad, chord_pad, get_probs=get_probs)\n",
    "            else:\n",
    "                melody = attention(melody, chord, melody_pad, chord_pad, get_probs=get_probs)\n",
    "                \n",
    "            # 12段すべての出力を見る場合\n",
    "            if get_all_outputs:\n",
    "                all_outputs.append(melody)\n",
    "                if get_probs:\n",
    "                    all_probs.append(probs)\n",
    "                    all_c_probs.append(c_probs)\n",
    "                \n",
    "        # 最終段のAttentionのみ必要な場合\n",
    "        if not get_all_outputs:\n",
    "            all_outputs = melody\n",
    "            if get_probs:\n",
    "                all_probs = probs\n",
    "                all_c_probs = c_probs\n",
    "        \n",
    "        if get_probs:\n",
    "            return all_outputs, all_probs, all_c_probs\n",
    "        else:\n",
    "            return all_outputs"
   ]
  },
  {
   "cell_type": "markdown",
   "metadata": {},
   "source": [
    "動作確認"
   ]
  },
  {
   "cell_type": "code",
   "execution_count": 22,
   "metadata": {},
   "outputs": [
    {
     "name": "stdout",
     "output_type": "stream",
     "text": [
      "torch.Size([2, 768])\n",
      "torch.Size([2, 768])\n",
      "output len: 2\n",
      "probs len: 2\n",
      "conditional probs len: 2\n",
      "output shape: torch.Size([2, 768, 24])\n",
      "probs shape: torch.Size([2, 4, 768, 768])\n",
      "conditional probs shape: torch.Size([2, 4, 768, 768])\n"
     ]
    }
   ],
   "source": [
    "batch = next(dataloader.__iter__())\n",
    "\n",
    "print(melody_batch.shape)\n",
    "print(chord_batch.shape)\n",
    "\n",
    "core = ChordConditionalBertCore(config)\n",
    "\n",
    "get_probs = True\n",
    "get_all_outputs = True\n",
    "if get_probs:\n",
    "    output, probs, c_probs = core(batch, get_all_outputs=get_all_outputs, get_probs=get_probs)\n",
    "    if get_all_outputs:\n",
    "        print(\"output len:\", len(output))\n",
    "        print(\"probs len:\", len(probs))\n",
    "        print(\"conditional probs len:\", len(c_probs))\n",
    "    print(\"output shape:\", (output[0] if get_all_outputs else output).shape)\n",
    "    print(\"probs shape:\", (probs[0] if get_all_outputs else probs).shape)\n",
    "    print(\"conditional probs shape:\", (c_probs[0] if get_all_outputs else c_probs).shape)\n",
    "else:\n",
    "    output = core(batch, get_all_outputs=get_all_outputs, get_probs=get_probs)\n",
    "    if get_all_outputs:\n",
    "        print(\"output len:\", len(output))\n",
    "    print(\"output shape:\", (output[0] if get_all_outputs else output).shape)"
   ]
  },
  {
   "cell_type": "markdown",
   "metadata": {},
   "source": [
    "Coreのパラメータ数を確認してみる"
   ]
  },
  {
   "cell_type": "code",
   "execution_count": 23,
   "metadata": {},
   "outputs": [
    {
     "name": "stdout",
     "output_type": "stream",
     "text": [
      "trainable params: 160080\n"
     ]
    }
   ],
   "source": [
    "trainable_params_num = sum(p.numel() for p in core.parameters() if p.requires_grad)\n",
    "print(\"trainable params:\", trainable_params_num)\n",
    "# print(core)"
   ]
  },
  {
   "cell_type": "markdown",
   "metadata": {},
   "source": [
    "4段だと17万くらいしかパラメータなかったので12段にした  \n",
    "それでも全然増えない．．．"
   ]
  },
  {
   "cell_type": "markdown",
   "metadata": {},
   "source": [
    "# 事前学習フレームワークと各事前学習モジュールの作成"
   ]
  },
  {
   "cell_type": "markdown",
   "metadata": {},
   "source": [
    "## 事前学習フレームワークの作成\n",
    "事前学習フレームワークは以下の動作が主な役割である\n",
    "- Core,DataLoader,事前学習クラスのリストを渡す\n",
    "    - 入力データとラベルの作成\n",
    "    - Coreと事前学習モジュールを連結\n",
    "    - 入力データを連結モジュールへ与える\n",
    "    - 出力とラベルからロスをBP\n",
    "\n",
    "事前学習クラスは以下を持つ\n",
    "- 入力データとラベルの作成関数\n",
    "- 事前学習モジュールの定義関数\n",
    "- 損失関数"
   ]
  },
  {
   "cell_type": "code",
   "execution_count": 24,
   "metadata": {},
   "outputs": [],
   "source": [
    "class PreTrainingModel(nn.Module):\n",
    "    def __init__(self, core, criterion, config):\n",
    "        super(PreTrainingModel, self).__init__()\n",
    "        self.core = core\n",
    "        self.criterion = criterion\n",
    "        self.config = config\n",
    "        self.loss_dict = {'train': [], 'val': []}\n",
    "        self.acc_dict = {'train': [], 'val': []}\n",
    "    \n",
    "    def set_device(self, device):\n",
    "        self.to(device)\n",
    "        self.device = device\n",
    "        return self\n",
    "    \n",
    "    def get_loss(self, model_output, label):\n",
    "        loss = self.criterion(model_output, label)\n",
    "        return loss\n",
    "    \n",
    "    def get_acc(self, model_output, label):\n",
    "        probs, preds = torch.max(outputs, dim=-1)\n",
    "        ones, labels = torch.max(label, dim=-1)\n",
    "        correct_num = torch.sum(preds == label)\n",
    "        acc = correct_num.to(float) / label.size().numel()\n",
    "        return acc.item()\n",
    "    \n",
    "    def forward(self, batch):\n",
    "        data, label = self.get_data_and_label(batch)\n",
    "        \n",
    "        for i, item in enumerate(batch):\n",
    "            if type(batch[i]) == torch.Tensor:\n",
    "                batch[i] = batch[i].to(self.device)\n",
    "        label = label.to(self.device)\n",
    "        \n",
    "        core_output = self.core(data)\n",
    "        model_output = self.forward_specific_task(core_output)\n",
    "        \n",
    "        loss = self.get_loss(model_output, label)\n",
    "        acc = self.get_acc(model_output, label)\n",
    "        \n",
    "        return loss, acc\n",
    "    \n",
    "    def forward_specific_task(self, core_output):\n",
    "        raise NotImplementedError()\n",
    "        \n",
    "    def get_data_and_label(self, batch):\n",
    "        raise NotImplementedError()"
   ]
  },
  {
   "cell_type": "code",
   "execution_count": 25,
   "metadata": {},
   "outputs": [],
   "source": [
    "def pre_train(core, pre_training_models, dataloaders_dict, optimizer, epoch_num, report_period=50): \n",
    "    torch.backends.cudnn.benchmark = True\n",
    "    \n",
    "    for epoch in range(1, epoch_num+1):\n",
    "        print(f\"----- Epoch {epoch} / {epoch_num} start -----\")\n",
    "        t_epoch_start = time.time()\n",
    "        \n",
    "        for model in pre_training_models:\n",
    "            print(f\"\\n----- Pre-training task start -----\")\n",
    "            print(f\"Pre-training model: {model.__class__.__name__}\")\n",
    "            t_model_start = time.time()\n",
    "            \n",
    "            for phase in ['train', 'val']:\n",
    "                if phase == 'train':\n",
    "                    model.train()\n",
    "                else:\n",
    "                    model.eval()\n",
    "                    print(\"Validating...\")\n",
    "                \n",
    "                model_loss = 0.0\n",
    "                model_acc = 0\n",
    "                \n",
    "                t_iter_start = time.time()\n",
    "                for iteration, batch in enumerate(dataloaders_dict[phase], 1):\n",
    "                    optimizer.zero_grad()\n",
    "                    with torch.set_grad_enabled(phase == 'train'):\n",
    "                        loss, acc = model(batch)\n",
    "                        model_loss += loss.item()\n",
    "                        model_acc += acc\n",
    "                        \n",
    "                        if phase == 'train':\n",
    "                            loss.backward()\n",
    "                            optimizer.step()\n",
    "                            if (iteration % report_period == 0):\n",
    "                                print(f\"Iteration {iteration} || \\\n",
    "                                        Loss: {loss.item():.4f} || \\\n",
    "                                        Acc: {acc:.4f} || \\\n",
    "                                        {time.time() - t_iter_start:.4f}[sec]\"\n",
    "                                )\n",
    "                                t_iter_start = time.time()\n",
    "                \n",
    "                batch_num = len(dataloaders_dict[phase].dataset)\n",
    "                model_loss = model_loss / batch_num\n",
    "                model_acc = model_acc / batch_num\n",
    "                model.loss_dict[phase].append(model_loss)\n",
    "                model.acc_dict[phase].append(model_acc)\n",
    "                \n",
    "                print(f\"Average result of {model.__class__.__name__}\")\n",
    "                print(f\"Epoch {epoch}/{num_epochs} | {phase:^5} | Loss: {model_loss:.4f} | Acc: {model_acc:.4f}\")\n",
    "            \n",
    "            print(f\"Pre-training task finished in {time.time() - t_model_start:.4f}[sec]\")\n",
    "        \n",
    "        epoch_duration = time.time() - t_epoch_start\n",
    "        print(f\"Epoch {epoch} / {epoch_num} finished in {epoch_duration:.4f}[sec]\")\n",
    "        remain_sec = epoch_duration * (epoch_num - epoch)\n",
    "        print(f\"Remaining Time | {remain_sec/3600:.4f} [hour] | {remain_sec/60:.2f} [min] | {remain_sec:.0f} [sec]\")\n",
    "        \n",
    "        ### エポックごとのモデルの保存\n",
    "\n",
    "    return core, models"
   ]
  },
  {
   "cell_type": "markdown",
   "metadata": {},
   "source": [
    "## 各事前学習クラスの作成\n",
    "事前学習はひとまず3種類\n",
    "- Masked Note Prediction (虫食い音符の穴埋め)\n",
    "    - 1ステップごとではなく，音符一つごとMASKして穴埋め\n",
    "    - 休符も1つの音符と数えるべき？\n",
    "    - ランダムに入れ替えたり，そのままにしたりするのを1割ずつやる\n",
    "- Bars Order Prediction (小節の順番を学習)\n",
    "    - 全ての小節をバラバラにして元の楽曲を生成\n",
    "    - 16 × 16の行列を出力させ，どの小節が何番目にあるべきかを推論\n",
    "- (Chord) Condition Prediction (元のコード条件を出力メロディから推論)\n",
    "    - chord ID を出力メロディから推論\n",
    "    - Chordにカッコがついてるのは，テンポやジャンルといった条件が増えたときにも同様の事前学習をさせられるため"
   ]
  },
  {
   "cell_type": "markdown",
   "metadata": {},
   "source": [
    "### MaskedNotePredictionの作成\n",
    "音符単位でマスクしてマスクされている部分を推測する  \n",
    "[MASK]トークンはファインチューニングの際には出現しないためミスマッチを作ってしまうという弱点がある．  \n",
    "そこで，マスク対象となった単語を実際の[MASK]には，必ずしも置き換えないことにする．  \n",
    "  \n",
    "訓練データ生成器は推論に用いる全体の15%のトークンポジションをランダムに選ぶ．  \n",
    "$i$番目のトークンが選ばれたとき，$i$番目のトークンを\n",
    "- (1) 80%の確立で[MASK]に置き換える\n",
    "- (2) 10%の確立で別のランダムな単語に置き換える\n",
    "- (3) 10%の確立でそのままのトークンにしておく\n",
    "    \n",
    "そして，$i$番目のトークン$T_i$はオリジナルのトークンの推測に使用され，cross entropy lossで損失を得る  \n",
    "  \n",
    "衝撃の事実: 事前学習用のデータは固定で，イテレーションの度にマスクされる場所が変更されるわけではなかった  \n",
    "今回扱うデータは自然言語並みに多様性があるわけではないのでイテレーションの度に変更するようにしてみる"
   ]
  },
  {
   "cell_type": "markdown",
   "metadata": {},
   "source": [
    "とりあえず全結合2段でMNPしてみよう"
   ]
  },
  {
   "cell_type": "code",
   "execution_count": 67,
   "metadata": {},
   "outputs": [],
   "source": [
    "class MaskedNotePrediction(PreTrainingModel):\n",
    "    def __init__(self, core, config, include_rest=True):\n",
    "        super(MaskedNotePrediction, self).__init__(core, nn.CrossEntropyLoss(), config)\n",
    "        self.include_rest = include_rest\n",
    "        self.target_rate = config.pre_mnp_rate\n",
    "        self.mask_rate = config.pre_mnp_mask_rate\n",
    "        self.random_rate = config.pre_mnp_random_rate\n",
    "        self.keep_rate = config.pre_mnp_keep_rate\n",
    "        \n",
    "        self.melody_vocab_size = config.melody_vocab_size\n",
    "        self.mask_id = config.melody_mask_id\n",
    "        self.rest_id = config.melody_rest_id\n",
    "        self.pad_id = config.melody_pad_id\n",
    "        \n",
    "        self.melody_pitches = list(range(*config.melody_pitch_range))\n",
    "        if include_rest:\n",
    "            self.melody_pitches.append(self.rest_id)\n",
    "        \n",
    "        self.dense_1 = nn.Linear(config.hidden_size, config.hidden_size)\n",
    "        self.act_1 = gelu\n",
    "        self.norm_1 = LayerNorm(config.hidden_size, eps=1e-12)\n",
    "        self.dense_2 = nn.Linear(config.hidden_size, config.melody_vocab_size)\n",
    "        self.act_2 = gelu\n",
    "        self.norm_2 = LayerNorm(config.melody_vocab_size, eps=1e-12)\n",
    "        self.softmax = nn.LogSoftmax(dim=-1)\n",
    "    \n",
    "    def forward_specific_task(self, core_output):\n",
    "        # ここでloss計算対象ステップを絞る．\n",
    "        # core_outputはすでに周囲の情報を考慮しており，\n",
    "        # 以降のDenseではステップごとに同じ処理が行われるため，\n",
    "        # targetでない入力を使う必要がない\n",
    "        # metaのtarget_note_positionsに入れても仕方ないか…\n",
    "        output = self.gather(core_output, target_note_positions, target_note_weights)\n",
    "        output = self.dense_1(output)\n",
    "        output = self.act_1(output)\n",
    "        output = self.norm_1(output)\n",
    "        output = self.dense_2(output)\n",
    "        output = self.act_2(output)\n",
    "        output = self.norm_2(output)\n",
    "        output = self.softmax(output)\n",
    "        return output\n",
    "    \n",
    "    def get_data_and_label(self, batch):\n",
    "        labels = []\n",
    "        # 音符の範囲情報をmetaにcacheしておきつつ，各範囲の中からランダムでマスクをかける\n",
    "        for melody, _, meta in zip(batch):\n",
    "            if not 'melody_note_areas' in meta.keys():\n",
    "                note_areas = []\n",
    "                last_pitch = None\n",
    "                for step, pitch in enumerate(melody):\n",
    "                    if (pitch in pitch_range) or (self.include_rest and pitch == self.rest_id):\n",
    "                        if last_pitch != pitch:\n",
    "                            note_areas.append([])\n",
    "                        note_areas[-1].append(step)\n",
    "                        last_pitch = pitch\n",
    "                note_areas = np.array(note_areas)\n",
    "                meta['melody_note_areas'] = note_areas\n",
    "            else:\n",
    "                note_areas = meta['melody_note_areas']\n",
    "            \n",
    "            note_num = len(note_areas)\n",
    "            target_num = int(note_num * self.target_rate)\n",
    "            random_num = int(target_num * self.random_rate)\n",
    "            keep_num = int(target_num * self.keep_rate)\n",
    "            masked_num = target_num - random_num - keep_num\n",
    "            \n",
    "            target_note_ids = random.sample(range(note_num), target_num)\n",
    "            masked_note_ids = target_note_ids[:masked_num]\n",
    "            random_note_ids = target_note_ids[masked_num:masked_num+random_num]\n",
    "            \n",
    "            target_note_positions = note_areas[target_note_ids] ### どっかしらに保存＋padding処理\n",
    "            target_note_positions.ravel()\n",
    "            \n",
    "            # modelの出力がone-hotになるため, labelはone-hot\n",
    "            label_ids = melody[target_note_positions]\n",
    "            label_one_hots = torch.eye(self.melody_vocab_size)[label_ids]\n",
    "            labels.append(label_one_hots.to(self.device))\n",
    "            \n",
    "            # mask対象の音符をmaskにする\n",
    "            masked_note_positions = note_areas[masked_note_ids]\n",
    "            masked_note_positions.ravel()\n",
    "            melody[masked_note_positions] = self.mask_id\n",
    "            \n",
    "            # random対象の音符をランダムに入れ替え\n",
    "            for random_note_id in random_note_ids:\n",
    "                melody[note_areas[random_note_id]] = random.choice(self.melody_pitches)\n",
    "            \n",
    "        return batch, labels, target_positions, target_weights"
   ]
  },
  {
   "cell_type": "markdown",
   "metadata": {},
   "source": [
    "動作確認"
   ]
  },
  {
   "cell_type": "code",
   "execution_count": null,
   "metadata": {},
   "outputs": [],
   "source": [
    "batch = next(dataloader.__iter__())\n",
    "mnp = MaskedNotePrediction(core, config)\n",
    "batch, labels, target_positions, target_weights = mnp.get_data_and_label(batch)"
   ]
  },
  {
   "cell_type": "markdown",
   "metadata": {},
   "source": [
    "### BarsOrderPredictionの作成"
   ]
  },
  {
   "cell_type": "markdown",
   "metadata": {},
   "source": [
    "### ConditionPredictionの作成"
   ]
  },
  {
   "cell_type": "markdown",
   "metadata": {},
   "source": [
    "# 事前学習の実行と結果の表示・保存"
   ]
  },
  {
   "cell_type": "markdown",
   "metadata": {},
   "source": [
    "データの分割"
   ]
  },
  {
   "cell_type": "code",
   "execution_count": 140,
   "metadata": {},
   "outputs": [
    {
     "name": "stdout",
     "output_type": "stream",
     "text": [
      "train data size: 13916\n",
      "val data size: 2609\n",
      "test data size: 871\n"
     ]
    }
   ],
   "source": [
    "batch_size = 2\n",
    "train_rate = 0.8\n",
    "val_rate = 0.15\n",
    "\n",
    "all_size = len(dataset)\n",
    "train_size = int(samples_num * train_rate)\n",
    "val_size = int(samples_num * val_rate)\n",
    "test_size = all_size - train_size - val_size\n",
    "\n",
    "train_dataset, val_dataset, test_dataset = random_split(dataset, [train_size, val_size, test_size])\n",
    "dataloaders_dict = {\n",
    "    'train': DataLoader(train_dataset, batch_size=batch_size, shuffle=True),\n",
    "    'val': DataLoader(val_dataset, batch_size=batch_size, shuffle=True),\n",
    "    'test': DataLoader(test_dataset, batch_size=1)\n",
    "}\n",
    "print('train data size:', len(dataloaders_dict['train'].dataset))\n",
    "print('val data size:', len(dataloaders_dict['val'].dataset))\n",
    "print('test data size:', len(dataloaders_dict['test'].dataset))"
   ]
  },
  {
   "cell_type": "code",
   "execution_count": 141,
   "metadata": {},
   "outputs": [
    {
     "name": "stdout",
     "output_type": "stream",
     "text": [
      "ネットワーク設定完了\n"
     ]
    }
   ],
   "source": [
    "multi_gpu = False\n",
    "device = torch.device('cuda:2')\n",
    "\n",
    "multi_gpu = multi_gpu and (device == 'cuda')\n",
    "\n",
    "core = ChordConditionalBertCore(config).to(device)\n",
    "pre_training_models = [\n",
    "    MaskedNotePrediction(core, config).set_device(device),\n",
    "    # BarsOrderPrediction(core, config).set_device(device),\n",
    "    # ConditionPrediction(core, config).set_device(device),\n",
    "]\n",
    "\n",
    "if multi_gpu:\n",
    "    os.environ['CUDA_VISIBLE_DEVICES']=2,3\n",
    "    pre_training_models = [torch.nn.DataParallel(model) for model in pre_training_models]\n",
    "\n",
    "optimizer = optim.Adam([\n",
    "    {'params': model.parameters(), 'lr': config.adam_lr} for model in pre_training_models\n",
    "], betas = (config.adam_beta1, config.adam_beta2))\n",
    "\n",
    "print(\"Network settings completed\")"
   ]
  },
  {
   "cell_type": "code",
   "execution_count": 142,
   "metadata": {},
   "outputs": [
    {
     "name": "stdout",
     "output_type": "stream",
     "text": [
      "----- Epoch 1 / 10 start -----\n",
      "\n",
      "----- Pre-training task start -----\n",
      "Pre-training model: MaskedNotePrediction\n",
      "> <ipython-input-133-7e0f1b3f7c36>(33)forward()\n",
      "-> loss = self.criterion(model_output, label)\n"
     ]
    },
    {
     "name": "stdin",
     "output_type": "stream",
     "text": [
      "(Pdb)  ll\n"
     ]
    },
    {
     "name": "stdout",
     "output_type": "stream",
     "text": [
      " 21  \t    def forward(self, batch):\n",
      " 22  \t        data, label = self.get_data_and_label(batch)\n",
      " 23  \t\n",
      " 24  \t        for i, item in enumerate(batch):\n",
      " 25  \t            if type(batch[i]) == torch.Tensor:\n",
      " 26  \t                batch[i] = batch[i].to(self.device)\n",
      " 27  \t        label = label.to(self.device)\n",
      " 28  \t\n",
      " 29  \t        core_output = self.core(data)\n",
      " 30  \t        model_output = self.forward_specific_task(core_output)\n",
      " 31  \t\n",
      " 32  \t        import pdb; pdb.set_trace()\n",
      " 33  ->\t        loss = self.criterion(model_output, label)\n",
      " 34  \t        acc = self.get_acc(model_output, label)\n",
      " 35  \t\n",
      " 36  \t        return loss, acc\n"
     ]
    },
    {
     "name": "stdin",
     "output_type": "stream",
     "text": [
      "(Pdb)  model_output.shape\n"
     ]
    },
    {
     "name": "stdout",
     "output_type": "stream",
     "text": [
      "torch.Size([2, 768, 67])\n"
     ]
    },
    {
     "name": "stdin",
     "output_type": "stream",
     "text": [
      "(Pdb)  model_output[0][0][0]\n"
     ]
    },
    {
     "name": "stdout",
     "output_type": "stream",
     "text": [
      "tensor(0.0050, device='cuda:2', grad_fn=<SelectBackward>)\n"
     ]
    },
    {
     "name": "stdin",
     "output_type": "stream",
     "text": [
      "(Pdb)  model_output[0][0]\n"
     ]
    },
    {
     "name": "stdout",
     "output_type": "stream",
     "text": [
      "tensor([0.0050, 0.0051, 0.0040, 0.0248, 0.0065, 0.0400, 0.0146, 0.0105, 0.0076,\n",
      "        0.0123, 0.0029, 0.0091, 0.0030, 0.0063, 0.0211, 0.0164, 0.0029, 0.0052,\n",
      "        0.0040, 0.0037, 0.0041, 0.0095, 0.0030, 0.0087, 0.0029, 0.0029, 0.0731,\n",
      "        0.0074, 0.0037, 0.0065, 0.0029, 0.0118, 0.0076, 0.0029, 0.0345, 0.0072,\n",
      "        0.0029, 0.0128, 0.0043, 0.0030, 0.0267, 0.0029, 0.0038, 0.0032, 0.0033,\n",
      "        0.0848, 0.0029, 0.0032, 0.0271, 0.1274, 0.0099, 0.0029, 0.0289, 0.0069,\n",
      "        0.0066, 0.0036, 0.0029, 0.0104, 0.1832, 0.0111, 0.0029, 0.0031, 0.0032,\n",
      "        0.0029, 0.0036, 0.0059, 0.0100], device='cuda:2',\n",
      "       grad_fn=<SelectBackward>)\n"
     ]
    },
    {
     "name": "stdin",
     "output_type": "stream",
     "text": [
      "(Pdb)  model_output[0][0].sum()\n"
     ]
    },
    {
     "name": "stdout",
     "output_type": "stream",
     "text": [
      "tensor(1., device='cuda:2', grad_fn=<SumBackward0>)\n"
     ]
    },
    {
     "name": "stdin",
     "output_type": "stream",
     "text": [
      "(Pdb)  torch.max(model_output, dim=-1)\n"
     ]
    },
    {
     "name": "stdout",
     "output_type": "stream",
     "text": [
      "torch.return_types.max(\n",
      "values=tensor([[0.1832, 0.2206, 0.3531,  ..., 0.2821, 0.2921, 0.0806],\n",
      "        [0.1426, 0.1530, 0.2940,  ..., 0.2949, 0.5218, 0.0937]],\n",
      "       device='cuda:2', grad_fn=<MaxBackward0>),\n",
      "indices=tensor([[58, 49, 49,  ..., 45, 45, 28],\n",
      "        [34, 34, 34,  ..., 45, 45, 20]], device='cuda:2'))\n"
     ]
    },
    {
     "name": "stdin",
     "output_type": "stream",
     "text": [
      "(Pdb)  torch.max(model_output, dim=-1).shape\n"
     ]
    },
    {
     "name": "stdout",
     "output_type": "stream",
     "text": [
      "*** AttributeError: 'torch.return_types.max' object has no attribute 'shape'\n"
     ]
    },
    {
     "name": "stdin",
     "output_type": "stream",
     "text": [
      "(Pdb)  torch.max(model_output, dim=-1).size\n"
     ]
    },
    {
     "name": "stdout",
     "output_type": "stream",
     "text": [
      "*** AttributeError: 'torch.return_types.max' object has no attribute 'size'\n"
     ]
    },
    {
     "name": "stdin",
     "output_type": "stream",
     "text": [
      "(Pdb)  len(torch.max(model_output, dim=-1))\n"
     ]
    },
    {
     "name": "stdout",
     "output_type": "stream",
     "text": [
      "2\n"
     ]
    },
    {
     "name": "stdin",
     "output_type": "stream",
     "text": [
      "(Pdb)  torch.max(model_output, dim=-1)[1].shape\n"
     ]
    },
    {
     "name": "stdout",
     "output_type": "stream",
     "text": [
      "torch.Size([2, 768])\n"
     ]
    },
    {
     "name": "stdin",
     "output_type": "stream",
     "text": [
      "(Pdb)  label\n"
     ]
    },
    {
     "name": "stdout",
     "output_type": "stream",
     "text": [
      "tensor([[64, 64, 64,  ..., 66, 66, 66],\n",
      "        [43, 43, 43,  ..., 38, 38, 38]], device='cuda:2')\n"
     ]
    },
    {
     "name": "stdin",
     "output_type": "stream",
     "text": [
      "(Pdb)  label.size()\n"
     ]
    },
    {
     "name": "stdout",
     "output_type": "stream",
     "text": [
      "torch.Size([2, 768])\n"
     ]
    },
    {
     "name": "stdin",
     "output_type": "stream",
     "text": [
      "(Pdb)  label.size\n"
     ]
    },
    {
     "name": "stdout",
     "output_type": "stream",
     "text": [
      "<built-in method size of Tensor object at 0x7f7d915f4900>\n"
     ]
    },
    {
     "name": "stdin",
     "output_type": "stream",
     "text": [
      "(Pdb)  label.size()\n"
     ]
    },
    {
     "name": "stdout",
     "output_type": "stream",
     "text": [
      "torch.Size([2, 768])\n"
     ]
    },
    {
     "name": "stdin",
     "output_type": "stream",
     "text": [
      "(Pdb)  label\n"
     ]
    },
    {
     "name": "stdout",
     "output_type": "stream",
     "text": [
      "tensor([[64, 64, 64,  ..., 66, 66, 66],\n",
      "        [43, 43, 43,  ..., 38, 38, 38]], device='cuda:2')\n"
     ]
    },
    {
     "name": "stdin",
     "output_type": "stream",
     "text": [
      "(Pdb)  torch.max(model_output, dim=-1)[1]\n"
     ]
    },
    {
     "name": "stdout",
     "output_type": "stream",
     "text": [
      "tensor([[58, 49, 49,  ..., 45, 45, 28],\n",
      "        [34, 34, 34,  ..., 45, 45, 20]], device='cuda:2')\n"
     ]
    },
    {
     "name": "stdin",
     "output_type": "stream",
     "text": [
      "(Pdb)  torch.sum(torch.max(model_output, dim=-1)[1] == label)\n"
     ]
    },
    {
     "name": "stdout",
     "output_type": "stream",
     "text": [
      "tensor(27, device='cuda:2')\n"
     ]
    },
    {
     "name": "stdin",
     "output_type": "stream",
     "text": [
      "(Pdb)  2 * 768\n"
     ]
    },
    {
     "name": "stdout",
     "output_type": "stream",
     "text": [
      "1536\n"
     ]
    },
    {
     "name": "stdin",
     "output_type": "stream",
     "text": [
      "(Pdb)  torch.mul(label.size())\n"
     ]
    },
    {
     "name": "stdout",
     "output_type": "stream",
     "text": [
      "*** TypeError: mul(): argument 'input' (position 1) must be Tensor, not torch.Size\n"
     ]
    },
    {
     "name": "stdin",
     "output_type": "stream",
     "text": [
      "(Pdb)  label.size()\n"
     ]
    },
    {
     "name": "stdout",
     "output_type": "stream",
     "text": [
      "torch.Size([2, 768])\n"
     ]
    },
    {
     "name": "stdin",
     "output_type": "stream",
     "text": [
      "(Pdb)  label.size()[0]\n"
     ]
    },
    {
     "name": "stdout",
     "output_type": "stream",
     "text": [
      "2\n"
     ]
    },
    {
     "name": "stdin",
     "output_type": "stream",
     "text": [
      "(Pdb)  label.size()[0] * label.size()[1]\n"
     ]
    },
    {
     "name": "stdout",
     "output_type": "stream",
     "text": [
      "1536\n"
     ]
    },
    {
     "name": "stdin",
     "output_type": "stream",
     "text": [
      "(Pdb)  torch.sum(torch.max(model_output, dim=-1)[1] == label) / (label.size()[0] * label.size()[1])\n"
     ]
    },
    {
     "name": "stdout",
     "output_type": "stream",
     "text": [
      "tensor(0, device='cuda:2')\n"
     ]
    },
    {
     "name": "stdin",
     "output_type": "stream",
     "text": [
      "(Pdb)  torch.sum(torch.max(model_output, dim=-1)[1] == label)\n"
     ]
    },
    {
     "name": "stdout",
     "output_type": "stream",
     "text": [
      "tensor(27, device='cuda:2')\n"
     ]
    },
    {
     "name": "stdin",
     "output_type": "stream",
     "text": [
      "(Pdb)  (label.size()[0] * label.size()[1])\n"
     ]
    },
    {
     "name": "stdout",
     "output_type": "stream",
     "text": [
      "1536\n"
     ]
    },
    {
     "name": "stdin",
     "output_type": "stream",
     "text": [
      "(Pdb)  torch.sum(torch.max(model_output, dim=-1)[1] == label).to(float)\n"
     ]
    },
    {
     "name": "stdout",
     "output_type": "stream",
     "text": [
      "tensor(27., device='cuda:2', dtype=torch.float64)\n"
     ]
    },
    {
     "name": "stdin",
     "output_type": "stream",
     "text": [
      "(Pdb)  torch.sum(torch.max(model_output, dim=-1)[1] == label).to(float) / (label.size()[0] * label.size()[1])\n"
     ]
    },
    {
     "name": "stdout",
     "output_type": "stream",
     "text": [
      "tensor(0.0176, device='cuda:2', dtype=torch.float64)\n"
     ]
    },
    {
     "name": "stdin",
     "output_type": "stream",
     "text": [
      "(Pdb)  torch.sum(torch.max(model_output, dim=-1)[1] == label).to(float) / (label.size()[0] * label.size()[1]).item()\n"
     ]
    },
    {
     "name": "stdout",
     "output_type": "stream",
     "text": [
      "*** AttributeError: 'int' object has no attribute 'item'\n"
     ]
    },
    {
     "name": "stdin",
     "output_type": "stream",
     "text": [
      "(Pdb)  (torch.sum(torch.max(model_output, dim=-1)[1] == label).to(float) / (label.size()[0] * label.size()[1])).item()\n"
     ]
    },
    {
     "name": "stdout",
     "output_type": "stream",
     "text": [
      "0.017578125\n"
     ]
    },
    {
     "name": "stdin",
     "output_type": "stream",
     "text": [
      "(Pdb)  exit\n"
     ]
    },
    {
     "ename": "BdbQuit",
     "evalue": "",
     "output_type": "error",
     "traceback": [
      "\u001b[0;31m---------------------------------------------------------------------------\u001b[0m",
      "\u001b[0;31mBdbQuit\u001b[0m                                   Traceback (most recent call last)",
      "\u001b[0;32m<ipython-input-142-a6946984270e>\u001b[0m in \u001b[0;36m<module>\u001b[0;34m\u001b[0m\n\u001b[1;32m      6\u001b[0m     \u001b[0moptimizer\u001b[0m\u001b[0;34m=\u001b[0m\u001b[0moptimizer\u001b[0m\u001b[0;34m,\u001b[0m\u001b[0;34m\u001b[0m\u001b[0;34m\u001b[0m\u001b[0m\n\u001b[1;32m      7\u001b[0m     \u001b[0mepoch_num\u001b[0m\u001b[0;34m=\u001b[0m\u001b[0mepoch_num\u001b[0m\u001b[0;34m,\u001b[0m\u001b[0;34m\u001b[0m\u001b[0;34m\u001b[0m\u001b[0m\n\u001b[0;32m----> 8\u001b[0;31m     \u001b[0mreport_period\u001b[0m\u001b[0;34m=\u001b[0m\u001b[0;34m(\u001b[0m\u001b[0mtrain_size\u001b[0m \u001b[0;34m//\u001b[0m \u001b[0mbatch_size\u001b[0m\u001b[0;34m)\u001b[0m \u001b[0;34m//\u001b[0m \u001b[0;36m10\u001b[0m\u001b[0;34m\u001b[0m\u001b[0;34m\u001b[0m\u001b[0m\n\u001b[0m\u001b[1;32m      9\u001b[0m )\n",
      "\u001b[0;32m<ipython-input-134-ef4e0cdabf64>\u001b[0m in \u001b[0;36mpre_train\u001b[0;34m(core, pre_training_models, dataloaders_dict, optimizer, epoch_num, report_period)\u001b[0m\n\u001b[1;32m     25\u001b[0m                     \u001b[0moptimizer\u001b[0m\u001b[0;34m.\u001b[0m\u001b[0mzero_grad\u001b[0m\u001b[0;34m(\u001b[0m\u001b[0;34m)\u001b[0m\u001b[0;34m\u001b[0m\u001b[0;34m\u001b[0m\u001b[0m\n\u001b[1;32m     26\u001b[0m                     \u001b[0;32mwith\u001b[0m \u001b[0mtorch\u001b[0m\u001b[0;34m.\u001b[0m\u001b[0mset_grad_enabled\u001b[0m\u001b[0;34m(\u001b[0m\u001b[0mphase\u001b[0m \u001b[0;34m==\u001b[0m \u001b[0;34m'train'\u001b[0m\u001b[0;34m)\u001b[0m\u001b[0;34m:\u001b[0m\u001b[0;34m\u001b[0m\u001b[0;34m\u001b[0m\u001b[0m\n\u001b[0;32m---> 27\u001b[0;31m                         \u001b[0mloss\u001b[0m\u001b[0;34m,\u001b[0m \u001b[0macc\u001b[0m \u001b[0;34m=\u001b[0m \u001b[0mmodel\u001b[0m\u001b[0;34m(\u001b[0m\u001b[0mbatch\u001b[0m\u001b[0;34m)\u001b[0m\u001b[0;34m\u001b[0m\u001b[0;34m\u001b[0m\u001b[0m\n\u001b[0m\u001b[1;32m     28\u001b[0m                         \u001b[0mmodel_loss\u001b[0m \u001b[0;34m+=\u001b[0m \u001b[0mloss\u001b[0m\u001b[0;34m.\u001b[0m\u001b[0mitem\u001b[0m\u001b[0;34m(\u001b[0m\u001b[0;34m)\u001b[0m\u001b[0;34m\u001b[0m\u001b[0;34m\u001b[0m\u001b[0m\n\u001b[1;32m     29\u001b[0m                         \u001b[0mmodel_acc\u001b[0m \u001b[0;34m+=\u001b[0m \u001b[0macc\u001b[0m\u001b[0;34m\u001b[0m\u001b[0;34m\u001b[0m\u001b[0m\n",
      "\u001b[0;32m~/schwbert/.venv/lib/python3.7/site-packages/torch/nn/modules/module.py\u001b[0m in \u001b[0;36m__call__\u001b[0;34m(self, *input, **kwargs)\u001b[0m\n\u001b[1;32m    539\u001b[0m             \u001b[0mresult\u001b[0m \u001b[0;34m=\u001b[0m \u001b[0mself\u001b[0m\u001b[0;34m.\u001b[0m\u001b[0m_slow_forward\u001b[0m\u001b[0;34m(\u001b[0m\u001b[0;34m*\u001b[0m\u001b[0minput\u001b[0m\u001b[0;34m,\u001b[0m \u001b[0;34m**\u001b[0m\u001b[0mkwargs\u001b[0m\u001b[0;34m)\u001b[0m\u001b[0;34m\u001b[0m\u001b[0;34m\u001b[0m\u001b[0m\n\u001b[1;32m    540\u001b[0m         \u001b[0;32melse\u001b[0m\u001b[0;34m:\u001b[0m\u001b[0;34m\u001b[0m\u001b[0;34m\u001b[0m\u001b[0m\n\u001b[0;32m--> 541\u001b[0;31m             \u001b[0mresult\u001b[0m \u001b[0;34m=\u001b[0m \u001b[0mself\u001b[0m\u001b[0;34m.\u001b[0m\u001b[0mforward\u001b[0m\u001b[0;34m(\u001b[0m\u001b[0;34m*\u001b[0m\u001b[0minput\u001b[0m\u001b[0;34m,\u001b[0m \u001b[0;34m**\u001b[0m\u001b[0mkwargs\u001b[0m\u001b[0;34m)\u001b[0m\u001b[0;34m\u001b[0m\u001b[0;34m\u001b[0m\u001b[0m\n\u001b[0m\u001b[1;32m    542\u001b[0m         \u001b[0;32mfor\u001b[0m \u001b[0mhook\u001b[0m \u001b[0;32min\u001b[0m \u001b[0mself\u001b[0m\u001b[0;34m.\u001b[0m\u001b[0m_forward_hooks\u001b[0m\u001b[0;34m.\u001b[0m\u001b[0mvalues\u001b[0m\u001b[0;34m(\u001b[0m\u001b[0;34m)\u001b[0m\u001b[0;34m:\u001b[0m\u001b[0;34m\u001b[0m\u001b[0;34m\u001b[0m\u001b[0m\n\u001b[1;32m    543\u001b[0m             \u001b[0mhook_result\u001b[0m \u001b[0;34m=\u001b[0m \u001b[0mhook\u001b[0m\u001b[0;34m(\u001b[0m\u001b[0mself\u001b[0m\u001b[0;34m,\u001b[0m \u001b[0minput\u001b[0m\u001b[0;34m,\u001b[0m \u001b[0mresult\u001b[0m\u001b[0;34m)\u001b[0m\u001b[0;34m\u001b[0m\u001b[0;34m\u001b[0m\u001b[0m\n",
      "\u001b[0;32m<ipython-input-133-7e0f1b3f7c36>\u001b[0m in \u001b[0;36mforward\u001b[0;34m(self, batch)\u001b[0m\n\u001b[1;32m     31\u001b[0m \u001b[0;34m\u001b[0m\u001b[0m\n\u001b[1;32m     32\u001b[0m         \u001b[0;32mimport\u001b[0m \u001b[0mpdb\u001b[0m\u001b[0;34m;\u001b[0m \u001b[0mpdb\u001b[0m\u001b[0;34m.\u001b[0m\u001b[0mset_trace\u001b[0m\u001b[0;34m(\u001b[0m\u001b[0;34m)\u001b[0m\u001b[0;34m\u001b[0m\u001b[0;34m\u001b[0m\u001b[0m\n\u001b[0;32m---> 33\u001b[0;31m         \u001b[0mloss\u001b[0m \u001b[0;34m=\u001b[0m \u001b[0mself\u001b[0m\u001b[0;34m.\u001b[0m\u001b[0mcriterion\u001b[0m\u001b[0;34m(\u001b[0m\u001b[0mmodel_output\u001b[0m\u001b[0;34m,\u001b[0m \u001b[0mlabel\u001b[0m\u001b[0;34m)\u001b[0m\u001b[0;34m\u001b[0m\u001b[0;34m\u001b[0m\u001b[0m\n\u001b[0m\u001b[1;32m     34\u001b[0m         \u001b[0macc\u001b[0m \u001b[0;34m=\u001b[0m \u001b[0mself\u001b[0m\u001b[0;34m.\u001b[0m\u001b[0mget_acc\u001b[0m\u001b[0;34m(\u001b[0m\u001b[0mmodel_output\u001b[0m\u001b[0;34m,\u001b[0m \u001b[0mlabel\u001b[0m\u001b[0;34m)\u001b[0m\u001b[0;34m\u001b[0m\u001b[0;34m\u001b[0m\u001b[0m\n\u001b[1;32m     35\u001b[0m \u001b[0;34m\u001b[0m\u001b[0m\n",
      "\u001b[0;32m<ipython-input-133-7e0f1b3f7c36>\u001b[0m in \u001b[0;36mforward\u001b[0;34m(self, batch)\u001b[0m\n\u001b[1;32m     31\u001b[0m \u001b[0;34m\u001b[0m\u001b[0m\n\u001b[1;32m     32\u001b[0m         \u001b[0;32mimport\u001b[0m \u001b[0mpdb\u001b[0m\u001b[0;34m;\u001b[0m \u001b[0mpdb\u001b[0m\u001b[0;34m.\u001b[0m\u001b[0mset_trace\u001b[0m\u001b[0;34m(\u001b[0m\u001b[0;34m)\u001b[0m\u001b[0;34m\u001b[0m\u001b[0;34m\u001b[0m\u001b[0m\n\u001b[0;32m---> 33\u001b[0;31m         \u001b[0mloss\u001b[0m \u001b[0;34m=\u001b[0m \u001b[0mself\u001b[0m\u001b[0;34m.\u001b[0m\u001b[0mcriterion\u001b[0m\u001b[0;34m(\u001b[0m\u001b[0mmodel_output\u001b[0m\u001b[0;34m,\u001b[0m \u001b[0mlabel\u001b[0m\u001b[0;34m)\u001b[0m\u001b[0;34m\u001b[0m\u001b[0;34m\u001b[0m\u001b[0m\n\u001b[0m\u001b[1;32m     34\u001b[0m         \u001b[0macc\u001b[0m \u001b[0;34m=\u001b[0m \u001b[0mself\u001b[0m\u001b[0;34m.\u001b[0m\u001b[0mget_acc\u001b[0m\u001b[0;34m(\u001b[0m\u001b[0mmodel_output\u001b[0m\u001b[0;34m,\u001b[0m \u001b[0mlabel\u001b[0m\u001b[0;34m)\u001b[0m\u001b[0;34m\u001b[0m\u001b[0;34m\u001b[0m\u001b[0m\n\u001b[1;32m     35\u001b[0m \u001b[0;34m\u001b[0m\u001b[0m\n",
      "\u001b[0;32m~/.pyenv/versions/3.7.3/lib/python3.7/bdb.py\u001b[0m in \u001b[0;36mtrace_dispatch\u001b[0;34m(self, frame, event, arg)\u001b[0m\n\u001b[1;32m     86\u001b[0m             \u001b[0;32mreturn\u001b[0m \u001b[0;31m# None\u001b[0m\u001b[0;34m\u001b[0m\u001b[0;34m\u001b[0m\u001b[0m\n\u001b[1;32m     87\u001b[0m         \u001b[0;32mif\u001b[0m \u001b[0mevent\u001b[0m \u001b[0;34m==\u001b[0m \u001b[0;34m'line'\u001b[0m\u001b[0;34m:\u001b[0m\u001b[0;34m\u001b[0m\u001b[0;34m\u001b[0m\u001b[0m\n\u001b[0;32m---> 88\u001b[0;31m             \u001b[0;32mreturn\u001b[0m \u001b[0mself\u001b[0m\u001b[0;34m.\u001b[0m\u001b[0mdispatch_line\u001b[0m\u001b[0;34m(\u001b[0m\u001b[0mframe\u001b[0m\u001b[0;34m)\u001b[0m\u001b[0;34m\u001b[0m\u001b[0;34m\u001b[0m\u001b[0m\n\u001b[0m\u001b[1;32m     89\u001b[0m         \u001b[0;32mif\u001b[0m \u001b[0mevent\u001b[0m \u001b[0;34m==\u001b[0m \u001b[0;34m'call'\u001b[0m\u001b[0;34m:\u001b[0m\u001b[0;34m\u001b[0m\u001b[0;34m\u001b[0m\u001b[0m\n\u001b[1;32m     90\u001b[0m             \u001b[0;32mreturn\u001b[0m \u001b[0mself\u001b[0m\u001b[0;34m.\u001b[0m\u001b[0mdispatch_call\u001b[0m\u001b[0;34m(\u001b[0m\u001b[0mframe\u001b[0m\u001b[0;34m,\u001b[0m \u001b[0marg\u001b[0m\u001b[0;34m)\u001b[0m\u001b[0;34m\u001b[0m\u001b[0;34m\u001b[0m\u001b[0m\n",
      "\u001b[0;32m~/.pyenv/versions/3.7.3/lib/python3.7/bdb.py\u001b[0m in \u001b[0;36mdispatch_line\u001b[0;34m(self, frame)\u001b[0m\n\u001b[1;32m    111\u001b[0m         \u001b[0;32mif\u001b[0m \u001b[0mself\u001b[0m\u001b[0;34m.\u001b[0m\u001b[0mstop_here\u001b[0m\u001b[0;34m(\u001b[0m\u001b[0mframe\u001b[0m\u001b[0;34m)\u001b[0m \u001b[0;32mor\u001b[0m \u001b[0mself\u001b[0m\u001b[0;34m.\u001b[0m\u001b[0mbreak_here\u001b[0m\u001b[0;34m(\u001b[0m\u001b[0mframe\u001b[0m\u001b[0;34m)\u001b[0m\u001b[0;34m:\u001b[0m\u001b[0;34m\u001b[0m\u001b[0;34m\u001b[0m\u001b[0m\n\u001b[1;32m    112\u001b[0m             \u001b[0mself\u001b[0m\u001b[0;34m.\u001b[0m\u001b[0muser_line\u001b[0m\u001b[0;34m(\u001b[0m\u001b[0mframe\u001b[0m\u001b[0;34m)\u001b[0m\u001b[0;34m\u001b[0m\u001b[0;34m\u001b[0m\u001b[0m\n\u001b[0;32m--> 113\u001b[0;31m             \u001b[0;32mif\u001b[0m \u001b[0mself\u001b[0m\u001b[0;34m.\u001b[0m\u001b[0mquitting\u001b[0m\u001b[0;34m:\u001b[0m \u001b[0;32mraise\u001b[0m \u001b[0mBdbQuit\u001b[0m\u001b[0;34m\u001b[0m\u001b[0;34m\u001b[0m\u001b[0m\n\u001b[0m\u001b[1;32m    114\u001b[0m         \u001b[0;32mreturn\u001b[0m \u001b[0mself\u001b[0m\u001b[0;34m.\u001b[0m\u001b[0mtrace_dispatch\u001b[0m\u001b[0;34m\u001b[0m\u001b[0;34m\u001b[0m\u001b[0m\n\u001b[1;32m    115\u001b[0m \u001b[0;34m\u001b[0m\u001b[0m\n",
      "\u001b[0;31mBdbQuit\u001b[0m: "
     ]
    }
   ],
   "source": [
    "epoch_num = 10\n",
    "core_trained, models_trained = pre_train(\n",
    "    core=core,\n",
    "    pre_training_models=pre_training_models,\n",
    "    dataloaders_dict=dataloaders_dict,\n",
    "    optimizer=optimizer,\n",
    "    epoch_num=epoch_num,\n",
    "    report_period=(train_size // batch_size) // 10\n",
    ")"
   ]
  },
  {
   "cell_type": "code",
   "execution_count": null,
   "metadata": {},
   "outputs": [],
   "source": [
    "model_name = \"original\"\n",
    "model_name_path = os.path.join(output_dir, model_name)\n",
    "torch.save(core_trained.state_dict(), f\"{model_name_path}.pth\")\n",
    "json.dump(config, open(f\"{moel_name_path}.json\", \"w\"), \n",
    "          ensure_ascii=False, indent=4, sort_keys=True, separators=(',', ': ')\n",
    ")"
   ]
  },
  {
   "cell_type": "code",
   "execution_count": null,
   "metadata": {},
   "outputs": [],
   "source": [
    "config = json.load(open(f\"{moel_name_path}.json\", \"r\"))\n",
    "net.load_state_dict(torch.load(f\"{model_name_path}.pth\"))"
   ]
  },
  {
   "cell_type": "code",
   "execution_count": null,
   "metadata": {},
   "outputs": [],
   "source": [
    "net_trained.eval()\n",
    "net_trained.to(device)\n",
    "\n",
    "epoch_corrects = 0\n",
    "for batch in tqdm(test_dl):\n",
    "    inputs = batch.Text[0].to(device)\n",
    "    labels = batch.Label.to(device)\n",
    "    with torch.set_grad_enabled(False):\n",
    "        outputs = net_trained(inputs)\n",
    "    loss = criterion(outputs, labels)\n",
    "    _, preds = torch.max(outputs, 1)\n",
    "    epoch_corrects += torch.sum(preds == labels.data)\n",
    "\n",
    "epoch_acc = epoch_corrects.double() / len(test_dl.dataset)\n",
    "print(f\"テストデータ{len(test_dl.dataset)}個での正解率： {epoch_acc}\")"
   ]
  }
 ],
 "metadata": {
  "kernelspec": {
   "display_name": "Python 3",
   "language": "python",
   "name": "python3"
  },
  "language_info": {
   "codemirror_mode": {
    "name": "ipython",
    "version": 3
   },
   "file_extension": ".py",
   "mimetype": "text/x-python",
   "name": "python",
   "nbconvert_exporter": "python",
   "pygments_lexer": "ipython3",
   "version": "3.7.3"
  }
 },
 "nbformat": 4,
 "nbformat_minor": 4
}
